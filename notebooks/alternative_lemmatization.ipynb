{
 "cells": [
  {
   "cell_type": "code",
   "execution_count": 8,
   "id": "01391f42-9779-47a8-920a-64fb2e078526",
   "metadata": {
    "execution": {
     "iopub.execute_input": "2024-03-26T04:02:30.543299Z",
     "iopub.status.busy": "2024-03-26T04:02:30.542300Z",
     "iopub.status.idle": "2024-03-26T04:02:30.685114Z",
     "shell.execute_reply": "2024-03-26T04:02:30.684103Z",
     "shell.execute_reply.started": "2024-03-26T04:02:30.543299Z"
    },
    "tags": []
   },
   "outputs": [
    {
     "name": "stderr",
     "output_type": "stream",
     "text": [
      "[nltk_data] Downloading package stopwords to\n",
      "[nltk_data]     C:\\Users\\trevor.sauerbrey\\AppData\\Roaming\\nltk_data...\n",
      "[nltk_data]   Package stopwords is already up-to-date!\n",
      "[nltk_data] Downloading package wordnet to\n",
      "[nltk_data]     C:\\Users\\trevor.sauerbrey\\AppData\\Roaming\\nltk_data...\n",
      "[nltk_data]   Package wordnet is already up-to-date!\n"
     ]
    }
   ],
   "source": [
    "import pandas as pd\n",
    "import numpy as np\n",
    "import time\n",
    "\n",
    "import warnings\n",
    "warnings.simplefilter(action='ignore', category=FutureWarning)\n",
    "\n",
    "import matplotlib.pyplot as plt\n",
    "import seaborn as sns\n",
    "\n",
    "from lda_model import simple_cleanerz"
   ]
  },
  {
   "cell_type": "code",
   "execution_count": 9,
   "id": "d4c85da2-623a-4706-b44f-76eb345826aa",
   "metadata": {
    "execution": {
     "iopub.execute_input": "2024-03-26T04:24:41.924756Z",
     "iopub.status.busy": "2024-03-26T04:24:41.923757Z",
     "iopub.status.idle": "2024-03-26T04:25:02.547755Z",
     "shell.execute_reply": "2024-03-26T04:25:02.546787Z",
     "shell.execute_reply.started": "2024-03-26T04:24:41.924756Z"
    },
    "tags": []
   },
   "outputs": [],
   "source": [
    "df1a = pd.read_csv('arxiv_datasets/cs.AI_1.csv')\n",
    "df1b = pd.read_csv('arxiv_datasets/cs.AI_2.csv')\n",
    "df2 = pd.read_csv('arxiv_datasets/cs.CC.csv')\n",
    "df3 = pd.read_csv('arxiv_datasets/cs.CE.csv')\n",
    "df4 = pd.read_csv('arxiv_datasets/cs.CG.csv')\n",
    "df5 = pd.read_csv('arxiv_datasets/cs.CL.csv')\n",
    "df6a = pd.read_csv('arxiv_datasets/cs.CV_1.csv')\n",
    "df6b = pd.read_csv('arxiv_datasets/cs.CV_2.csv')\n",
    "df7 = pd.read_csv('arxiv_datasets/cs.CY.csv')\n",
    "df8 = pd.read_csv('arxiv_datasets/cs.DB.csv')\n",
    "df9 = pd.read_csv('arxiv_datasets/cs.DC.csv')\n",
    "df10 = pd.read_csv('arxiv_datasets/cs.DL.csv')\n",
    "df11 = pd.read_csv('arxiv_datasets/cs.DS.csv')\n",
    "df12 = pd.read_csv('arxiv_datasets/cs.ET.csv')\n",
    "df13 = pd.read_csv('arxiv_datasets/cs.FL.csv')\n",
    "df14 = pd.read_csv('arxiv_datasets/cs.GL.csv')\n",
    "df15 = pd.read_csv('arxiv_datasets/cs.GR.csv')\n",
    "df16 = pd.read_csv('arxiv_datasets/cs.GT.csv')\n",
    "df17 = pd.read_csv('arxiv_datasets/cs.AR.csv')\n",
    "df18 = pd.read_csv('arxiv_datasets/cs.HC.csv')\n",
    "df19 = pd.read_csv('arxiv_datasets/cs.IR.csv')\n",
    "df20 = pd.read_csv('arxiv_datasets/cs.IT.csv')\n",
    "df21 = pd.read_csv('arxiv_datasets/cs.LO.csv')\n",
    "df22a = pd.read_csv('arxiv_datasets/cs.LG_1.csv')\n",
    "df22b = pd.read_csv('arxiv_datasets/cs.LG_2.csv')\n",
    "df22c = pd.read_csv('arxiv_datasets/cs.LG_3.csv')\n",
    "df23 = pd.read_csv('arxiv_datasets/cs.MA.csv')\n",
    "df24 = pd.read_csv('arxiv_datasets/cs.MS.csv')\n",
    "df25 = pd.read_csv('arxiv_datasets/cs.NI.csv')\n",
    "df26 = pd.read_csv('arxiv_datasets/cs.NE.csv')\n",
    "df27 = pd.read_csv('arxiv_datasets/cs.NA.csv')\n",
    "df28 = pd.read_csv('arxiv_datasets/cs.OS.csv')\n",
    "df29 = pd.read_csv('arxiv_datasets/cs.PF.csv')\n",
    "df30 = pd.read_csv('arxiv_datasets/cs.PL.csv')\n",
    "df31 = pd.read_csv('arxiv_datasets/cs.RO.csv')\n",
    "df32 = pd.read_csv('arxiv_datasets/cs.SI.csv')\n",
    "df33 = pd.read_csv('arxiv_datasets/cs.SD.csv')\n",
    "df34 = pd.read_csv('arxiv_datasets/cs.SE.csv')\n",
    "df35 = pd.read_csv('arxiv_datasets/cs.SC.csv')\n",
    "df36 = pd.read_csv('arxiv_datasets/cs.SY.csv')\n",
    "df37 = pd.read_csv('arxiv_datasets/cs.CR.csv')\n",
    "df38 = pd.read_csv('arxiv_datasets/cs.DM.csv')"
   ]
  },
  {
   "cell_type": "code",
   "execution_count": 11,
   "id": "0b85b700-021b-4f4a-a704-bdaa336a0f22",
   "metadata": {
    "execution": {
     "iopub.execute_input": "2024-03-26T04:25:02.722791Z",
     "iopub.status.busy": "2024-03-26T04:25:02.722791Z",
     "iopub.status.idle": "2024-03-26T04:25:03.363789Z",
     "shell.execute_reply": "2024-03-26T04:25:03.363789Z",
     "shell.execute_reply.started": "2024-03-26T04:25:02.722791Z"
    },
    "tags": []
   },
   "outputs": [],
   "source": [
    "df = pd.concat([df1a,df1b,df2,df3,df4,df5,df6a,df6b,df7,df8,df9,df10,\n",
    "                df11,df12,df13,df14,df15,df16,df17,df18,df19,df20,\n",
    "                df21,df22a,df22b,df22c,df23,df24,df25,df26,df27,df28,df29,df30,\n",
    "                df31,df32,df33,df34,df35,df36,df37,df38]).reset_index(drop=True)"
   ]
  },
  {
   "cell_type": "code",
   "execution_count": 12,
   "id": "f3f12484-7d04-467c-a227-0609a34a7bd9",
   "metadata": {
    "execution": {
     "iopub.execute_input": "2024-03-26T04:25:03.365752Z",
     "iopub.status.busy": "2024-03-26T04:25:03.365752Z",
     "iopub.status.idle": "2024-03-26T04:25:03.535753Z",
     "shell.execute_reply": "2024-03-26T04:25:03.534790Z",
     "shell.execute_reply.started": "2024-03-26T04:25:03.365752Z"
    },
    "tags": []
   },
   "outputs": [
    {
     "data": {
      "text/html": [
       "<div>\n",
       "<style scoped>\n",
       "    .dataframe tbody tr th:only-of-type {\n",
       "        vertical-align: middle;\n",
       "    }\n",
       "\n",
       "    .dataframe tbody tr th {\n",
       "        vertical-align: top;\n",
       "    }\n",
       "\n",
       "    .dataframe thead th {\n",
       "        text-align: right;\n",
       "    }\n",
       "</style>\n",
       "<table border=\"1\" class=\"dataframe\">\n",
       "  <thead>\n",
       "    <tr style=\"text-align: right;\">\n",
       "      <th></th>\n",
       "      <th>Title</th>\n",
       "      <th>ID</th>\n",
       "      <th>Published</th>\n",
       "      <th>Updated</th>\n",
       "      <th>Summary</th>\n",
       "      <th>Author</th>\n",
       "      <th>Comments</th>\n",
       "      <th>Journal_Ref</th>\n",
       "      <th>Link</th>\n",
       "      <th>Primary_Category</th>\n",
       "      <th>Categories</th>\n",
       "      <th>DOI</th>\n",
       "      <th>License</th>\n",
       "      <th>Affiliation</th>\n",
       "      <th>Unnamed: 0</th>\n",
       "    </tr>\n",
       "  </thead>\n",
       "  <tbody>\n",
       "    <tr>\n",
       "      <th>0</th>\n",
       "      <td>Domain-Independent Dynamic Programming</td>\n",
       "      <td>http://arxiv.org/abs/2401.13883v1</td>\n",
       "      <td>2024-01-25T01:48:09Z</td>\n",
       "      <td>2024-01-25T01:48:09Z</td>\n",
       "      <td>For combinatorial optimization problems, mod...</td>\n",
       "      <td>['\\nRyo Kuroiwa\\n', '\\nJ. Christopher Beck\\n']</td>\n",
       "      <td>Manuscript submitted to JACM</td>\n",
       "      <td>NaN</td>\n",
       "      <td>http://arxiv.org/abs/2401.13883v1</td>\n",
       "      <td>cs.AI</td>\n",
       "      <td>['cs.AI']</td>\n",
       "      <td>NaN</td>\n",
       "      <td>NaN</td>\n",
       "      <td>[]</td>\n",
       "      <td>NaN</td>\n",
       "    </tr>\n",
       "    <tr>\n",
       "      <th>1</th>\n",
       "      <td>Agent-based Simulation with Netlogo to Evaluat...</td>\n",
       "      <td>http://arxiv.org/abs/2401.14153v1</td>\n",
       "      <td>2024-01-25T13:05:06Z</td>\n",
       "      <td>2024-01-25T13:05:06Z</td>\n",
       "      <td>In this paper an agent-based simulation is d...</td>\n",
       "      <td>['\\nJ. Carbo\\n', '\\nN. Sanchez\\n', '\\nJ. M. Mo...</td>\n",
       "      <td>NaN</td>\n",
       "      <td>NaN</td>\n",
       "      <td>http://dx.doi.org/10.1057/jos.2016.10</td>\n",
       "      <td>cs.AI</td>\n",
       "      <td>['cs.AI']</td>\n",
       "      <td>10.1057/jos.2016.10</td>\n",
       "      <td>NaN</td>\n",
       "      <td>[]</td>\n",
       "      <td>NaN</td>\n",
       "    </tr>\n",
       "    <tr>\n",
       "      <th>2</th>\n",
       "      <td>Automated legal reasoning with discretion to a...</td>\n",
       "      <td>http://arxiv.org/abs/2401.14511v1</td>\n",
       "      <td>2024-01-25T21:11:08Z</td>\n",
       "      <td>2024-01-25T21:11:08Z</td>\n",
       "      <td>Automated legal reasoning and its applicatio...</td>\n",
       "      <td>['\\nJoaquín Arias\\n', '\\nMar Moreno-Rebato\\n',...</td>\n",
       "      <td>NaN</td>\n",
       "      <td>Artificial Intelligence and Law (2023)</td>\n",
       "      <td>http://dx.doi.org/10.1007/s10506-023-09376-5</td>\n",
       "      <td>cs.AI</td>\n",
       "      <td>['cs.AI', 'I.2.1']</td>\n",
       "      <td>10.1007/s10506-023-09376-5</td>\n",
       "      <td>NaN</td>\n",
       "      <td>[]</td>\n",
       "      <td>NaN</td>\n",
       "    </tr>\n",
       "    <tr>\n",
       "      <th>3</th>\n",
       "      <td>Efficient Constraint Generation for Stochastic...</td>\n",
       "      <td>http://arxiv.org/abs/2401.14636v1</td>\n",
       "      <td>2024-01-26T04:00:07Z</td>\n",
       "      <td>2024-01-26T04:00:07Z</td>\n",
       "      <td>Current methods for solving Stochastic Short...</td>\n",
       "      <td>['\\nJohannes Schmalz\\n', '\\nFelipe Trevizan\\n']</td>\n",
       "      <td>Extended version of AAAI 2024 paper</td>\n",
       "      <td>NaN</td>\n",
       "      <td>http://arxiv.org/abs/2401.14636v1</td>\n",
       "      <td>cs.AI</td>\n",
       "      <td>['cs.AI']</td>\n",
       "      <td>NaN</td>\n",
       "      <td>NaN</td>\n",
       "      <td>[]</td>\n",
       "      <td>NaN</td>\n",
       "    </tr>\n",
       "    <tr>\n",
       "      <th>4</th>\n",
       "      <td>Synthetic Multimodal Dataset for Empowering Sa...</td>\n",
       "      <td>http://arxiv.org/abs/2401.14743v1</td>\n",
       "      <td>2024-01-26T10:05:41Z</td>\n",
       "      <td>2024-01-26T10:05:41Z</td>\n",
       "      <td>This paper presents a synthetic multimodal d...</td>\n",
       "      <td>['\\nTakanori Ugai\\n', '\\nShusaku Egami\\n', '\\n...</td>\n",
       "      <td>7 pages, 2 figures,4 tables</td>\n",
       "      <td>NaN</td>\n",
       "      <td>http://arxiv.org/abs/2401.14743v1</td>\n",
       "      <td>cs.AI</td>\n",
       "      <td>['cs.AI']</td>\n",
       "      <td>NaN</td>\n",
       "      <td>NaN</td>\n",
       "      <td>[]</td>\n",
       "      <td>NaN</td>\n",
       "    </tr>\n",
       "  </tbody>\n",
       "</table>\n",
       "</div>"
      ],
      "text/plain": [
       "                                               Title  \\\n",
       "0             Domain-Independent Dynamic Programming   \n",
       "1  Agent-based Simulation with Netlogo to Evaluat...   \n",
       "2  Automated legal reasoning with discretion to a...   \n",
       "3  Efficient Constraint Generation for Stochastic...   \n",
       "4  Synthetic Multimodal Dataset for Empowering Sa...   \n",
       "\n",
       "                                  ID             Published  \\\n",
       "0  http://arxiv.org/abs/2401.13883v1  2024-01-25T01:48:09Z   \n",
       "1  http://arxiv.org/abs/2401.14153v1  2024-01-25T13:05:06Z   \n",
       "2  http://arxiv.org/abs/2401.14511v1  2024-01-25T21:11:08Z   \n",
       "3  http://arxiv.org/abs/2401.14636v1  2024-01-26T04:00:07Z   \n",
       "4  http://arxiv.org/abs/2401.14743v1  2024-01-26T10:05:41Z   \n",
       "\n",
       "                Updated                                            Summary  \\\n",
       "0  2024-01-25T01:48:09Z    For combinatorial optimization problems, mod...   \n",
       "1  2024-01-25T13:05:06Z    In this paper an agent-based simulation is d...   \n",
       "2  2024-01-25T21:11:08Z    Automated legal reasoning and its applicatio...   \n",
       "3  2024-01-26T04:00:07Z    Current methods for solving Stochastic Short...   \n",
       "4  2024-01-26T10:05:41Z    This paper presents a synthetic multimodal d...   \n",
       "\n",
       "                                              Author  \\\n",
       "0     ['\\nRyo Kuroiwa\\n', '\\nJ. Christopher Beck\\n']   \n",
       "1  ['\\nJ. Carbo\\n', '\\nN. Sanchez\\n', '\\nJ. M. Mo...   \n",
       "2  ['\\nJoaquín Arias\\n', '\\nMar Moreno-Rebato\\n',...   \n",
       "3    ['\\nJohannes Schmalz\\n', '\\nFelipe Trevizan\\n']   \n",
       "4  ['\\nTakanori Ugai\\n', '\\nShusaku Egami\\n', '\\n...   \n",
       "\n",
       "                              Comments  \\\n",
       "0         Manuscript submitted to JACM   \n",
       "1                                  NaN   \n",
       "2                                  NaN   \n",
       "3  Extended version of AAAI 2024 paper   \n",
       "4          7 pages, 2 figures,4 tables   \n",
       "\n",
       "                              Journal_Ref  \\\n",
       "0                                     NaN   \n",
       "1                                     NaN   \n",
       "2  Artificial Intelligence and Law (2023)   \n",
       "3                                     NaN   \n",
       "4                                     NaN   \n",
       "\n",
       "                                           Link Primary_Category  \\\n",
       "0             http://arxiv.org/abs/2401.13883v1            cs.AI   \n",
       "1         http://dx.doi.org/10.1057/jos.2016.10            cs.AI   \n",
       "2  http://dx.doi.org/10.1007/s10506-023-09376-5            cs.AI   \n",
       "3             http://arxiv.org/abs/2401.14636v1            cs.AI   \n",
       "4             http://arxiv.org/abs/2401.14743v1            cs.AI   \n",
       "\n",
       "           Categories                         DOI  License Affiliation  \\\n",
       "0           ['cs.AI']                         NaN      NaN          []   \n",
       "1           ['cs.AI']         10.1057/jos.2016.10      NaN          []   \n",
       "2  ['cs.AI', 'I.2.1']  10.1007/s10506-023-09376-5      NaN          []   \n",
       "3           ['cs.AI']                         NaN      NaN          []   \n",
       "4           ['cs.AI']                         NaN      NaN          []   \n",
       "\n",
       "   Unnamed: 0  \n",
       "0         NaN  \n",
       "1         NaN  \n",
       "2         NaN  \n",
       "3         NaN  \n",
       "4         NaN  "
      ]
     },
     "execution_count": 12,
     "metadata": {},
     "output_type": "execute_result"
    }
   ],
   "source": [
    "df.head()"
   ]
  },
  {
   "cell_type": "code",
   "execution_count": 4,
   "id": "93440427-0030-421b-94d3-5f5e8d08c31c",
   "metadata": {
    "execution": {
     "iopub.execute_input": "2024-03-26T03:18:37.418499Z",
     "iopub.status.busy": "2024-03-26T03:18:37.418499Z",
     "iopub.status.idle": "2024-03-26T03:18:41.791496Z",
     "shell.execute_reply": "2024-03-26T03:18:41.790496Z",
     "shell.execute_reply.started": "2024-03-26T03:18:37.418499Z"
    },
    "tags": []
   },
   "outputs": [
    {
     "data": {
      "text/plain": [
       "(582340, 3)"
      ]
     },
     "execution_count": 4,
     "metadata": {},
     "output_type": "execute_result"
    }
   ],
   "source": [
    "df = df.drop_duplicates().reset_index(drop=True)[['Title','Published','Summary']]\n",
    "df.shape"
   ]
  },
  {
   "cell_type": "code",
   "execution_count": 5,
   "id": "12c9c4ff-6c75-43b2-a000-e5e924104b2f",
   "metadata": {
    "execution": {
     "iopub.execute_input": "2024-03-26T03:18:41.792496Z",
     "iopub.status.busy": "2024-03-26T03:18:41.792496Z",
     "iopub.status.idle": "2024-03-26T03:21:50.659715Z",
     "shell.execute_reply": "2024-03-26T03:21:50.658751Z",
     "shell.execute_reply.started": "2024-03-26T03:18:41.792496Z"
    },
    "tags": []
   },
   "outputs": [
    {
     "name": "stdout",
     "output_type": "stream",
     "text": [
      "188.6992700099945\n"
     ]
    },
    {
     "data": {
      "text/html": [
       "<div>\n",
       "<style scoped>\n",
       "    .dataframe tbody tr th:only-of-type {\n",
       "        vertical-align: middle;\n",
       "    }\n",
       "\n",
       "    .dataframe tbody tr th {\n",
       "        vertical-align: top;\n",
       "    }\n",
       "\n",
       "    .dataframe thead th {\n",
       "        text-align: right;\n",
       "    }\n",
       "</style>\n",
       "<table border=\"1\" class=\"dataframe\">\n",
       "  <thead>\n",
       "    <tr style=\"text-align: right;\">\n",
       "      <th></th>\n",
       "      <th>Title</th>\n",
       "      <th>Published</th>\n",
       "      <th>Summary</th>\n",
       "      <th>cleaned_text</th>\n",
       "    </tr>\n",
       "  </thead>\n",
       "  <tbody>\n",
       "    <tr>\n",
       "      <th>0</th>\n",
       "      <td>Domain-Independent Dynamic Programming</td>\n",
       "      <td>2024-01-25T01:48:09Z</td>\n",
       "      <td>For combinatorial optimization problems, mod...</td>\n",
       "      <td>combinatorial optimization problem modelbased ...</td>\n",
       "    </tr>\n",
       "    <tr>\n",
       "      <th>1</th>\n",
       "      <td>Agent-based Simulation with Netlogo to Evaluat...</td>\n",
       "      <td>2024-01-25T13:05:06Z</td>\n",
       "      <td>In this paper an agent-based simulation is d...</td>\n",
       "      <td>paper agentbased simulation developed order ev...</td>\n",
       "    </tr>\n",
       "  </tbody>\n",
       "</table>\n",
       "</div>"
      ],
      "text/plain": [
       "                                               Title             Published  \\\n",
       "0             Domain-Independent Dynamic Programming  2024-01-25T01:48:09Z   \n",
       "1  Agent-based Simulation with Netlogo to Evaluat...  2024-01-25T13:05:06Z   \n",
       "\n",
       "                                             Summary  \\\n",
       "0    For combinatorial optimization problems, mod...   \n",
       "1    In this paper an agent-based simulation is d...   \n",
       "\n",
       "                                        cleaned_text  \n",
       "0  combinatorial optimization problem modelbased ...  \n",
       "1  paper agentbased simulation developed order ev...  "
      ]
     },
     "execution_count": 5,
     "metadata": {},
     "output_type": "execute_result"
    }
   ],
   "source": [
    "start_time = time.time()\n",
    "df['cleaned_text'] = df['Summary'].apply(simple_cleaner)\n",
    "print(time.time()-start_time)\n",
    "\n",
    "df.head(2)"
   ]
  },
  {
   "cell_type": "code",
   "execution_count": 6,
   "id": "5c8033e7-d53e-4595-a2b9-8905271bc691",
   "metadata": {
    "execution": {
     "iopub.execute_input": "2024-03-25T23:02:47.862094Z",
     "iopub.status.busy": "2024-03-25T23:02:47.861093Z",
     "iopub.status.idle": "2024-03-25T23:02:48.064517Z",
     "shell.execute_reply": "2024-03-25T23:02:48.063548Z",
     "shell.execute_reply.started": "2024-03-25T23:02:47.862094Z"
    }
   },
   "outputs": [],
   "source": [
    "from nltk.stem import WordNetLemmatizer"
   ]
  },
  {
   "cell_type": "code",
   "execution_count": 7,
   "id": "30336f2f-c682-4d34-868f-4c29a4dc4051",
   "metadata": {
    "execution": {
     "iopub.execute_input": "2024-03-25T23:02:48.066515Z",
     "iopub.status.busy": "2024-03-25T23:02:48.065516Z",
     "iopub.status.idle": "2024-03-25T23:02:48.267453Z",
     "shell.execute_reply": "2024-03-25T23:02:48.266491Z",
     "shell.execute_reply.started": "2024-03-25T23:02:48.066515Z"
    }
   },
   "outputs": [
    {
     "data": {
      "text/plain": [
       "'try'"
      ]
     },
     "execution_count": 7,
     "metadata": {},
     "output_type": "execute_result"
    }
   ],
   "source": [
    "lemmatizer = WordNetLemmatizer()\n",
    "\n",
    "lemmatizer.lemmatize('tries')"
   ]
  },
  {
   "cell_type": "code",
   "execution_count": 10,
   "id": "2a556bee-91d1-4c36-9b40-4560c4bd98db",
   "metadata": {
    "execution": {
     "iopub.execute_input": "2024-03-25T23:11:34.898082Z",
     "iopub.status.busy": "2024-03-25T23:11:34.897563Z",
     "iopub.status.idle": "2024-03-25T23:11:35.190494Z",
     "shell.execute_reply": "2024-03-25T23:11:35.187497Z",
     "shell.execute_reply.started": "2024-03-25T23:11:34.898082Z"
    },
    "tags": []
   },
   "outputs": [],
   "source": [
    "# ! pip install inflect\n",
    "import inflect"
   ]
  },
  {
   "cell_type": "code",
   "execution_count": 11,
   "id": "cd56a023-ded6-4a83-bc52-121ac688a923",
   "metadata": {
    "execution": {
     "iopub.execute_input": "2024-03-25T23:11:35.194496Z",
     "iopub.status.busy": "2024-03-25T23:11:35.193492Z",
     "iopub.status.idle": "2024-03-25T23:11:35.519541Z",
     "shell.execute_reply": "2024-03-25T23:11:35.517544Z",
     "shell.execute_reply.started": "2024-03-25T23:11:35.194496Z"
    },
    "tags": []
   },
   "outputs": [
    {
     "data": {
      "text/plain": [
       "'Hello world or world thi i a test or test to check functionality functionality'"
      ]
     },
     "execution_count": 11,
     "metadata": {},
     "output_type": "execute_result"
    }
   ],
   "source": [
    "p = inflect.engine()\n",
    "\n",
    "my_text = \"Hello world or worlds this is a test or tests to check functionality functionalities\"\n",
    "def singular_maker(text):\n",
    "    return \" \".join([p.singular_noun(word) or word for word in text])\n",
    "\n",
    "singular_maker(my_text.split())"
   ]
  },
  {
   "cell_type": "code",
   "execution_count": 12,
   "id": "baa76e66-b608-4da5-89f9-3cf0a5737da7",
   "metadata": {
    "execution": {
     "iopub.execute_input": "2024-03-25T23:11:35.524547Z",
     "iopub.status.busy": "2024-03-25T23:11:35.523545Z",
     "iopub.status.idle": "2024-03-25T23:11:35.850362Z",
     "shell.execute_reply": "2024-03-25T23:11:35.848357Z",
     "shell.execute_reply.started": "2024-03-25T23:11:35.524547Z"
    },
    "tags": []
   },
   "outputs": [
    {
     "data": {
      "text/plain": [
       "'dataset'"
      ]
     },
     "execution_count": 12,
     "metadata": {},
     "output_type": "execute_result"
    }
   ],
   "source": [
    "p.singular_noun('datasets')"
   ]
  },
  {
   "cell_type": "code",
   "execution_count": null,
   "id": "2e9ebc16-c929-4187-8211-ff979b2167b9",
   "metadata": {},
   "outputs": [],
   "source": []
  },
  {
   "cell_type": "code",
   "execution_count": null,
   "id": "e325b18e-6b53-48b1-a3ff-623985e23a90",
   "metadata": {
    "execution": {
     "iopub.execute_input": "2024-03-25T23:11:35.854360Z",
     "iopub.status.busy": "2024-03-25T23:11:35.853352Z"
    },
    "tags": []
   },
   "outputs": [],
   "source": [
    "df['pub_date'] = pd.to_datetime(df['Published']).dt.date #convert object to datetime\n",
    "\n",
    "date_df = pd.DataFrame(df.groupby('pub_date')['cleaned_text'].sum()).reset_index() #group by date and concatenate strings\n",
    "date_df['cleaned_text'] = date_df['cleaned_text'].str.split().apply(singular_maker)\n",
    "date_df['number_of_papers'] = [num for num in df.groupby('pub_date')['cleaned_text'].count()] #count the number of papers per day\n",
    "date_df['number_of_tokens'] = date_df['cleaned_text'].str.split().apply(len) #count number of tokens per day\n",
    "date_df['unique_tokens'] = date_df['cleaned_text'].str.split().apply(set).apply(len)\n",
    "\n",
    "print(time.time()-start_time)\n",
    "\n",
    "print(f\"Total tokens in dataset: {date_df['cleaned_text'].apply(len).sum()}\")\n",
    "date_df"
   ]
  },
  {
   "cell_type": "code",
   "execution_count": null,
   "id": "f574ce9e-40bf-4f4b-a65a-7f3899dbc13c",
   "metadata": {
    "tags": []
   },
   "outputs": [],
   "source": [
    "date_df = pd.read_csv('lemmatized_date_df.csv')"
   ]
  },
  {
   "cell_type": "code",
   "execution_count": null,
   "id": "44572cdd-e8ef-4af3-827a-b3a13fd87d92",
   "metadata": {
    "tags": []
   },
   "outputs": [],
   "source": [
    "plt.figure(figsize=(9,4))\n",
    "sns.lineplot(y=date_df['number_of_tokens'], x=date_df['pub_date'], hue=pd.to_datetime(date_df['pub_date']).dt.year)\n",
    "sns.lineplot(y=date_df['number_of_tokens'].rolling(360).mean(), x=date_df['pub_date'])\n",
    "plt.title('Number of abstract tokens per day');"
   ]
  },
  {
   "cell_type": "code",
   "execution_count": null,
   "id": "a87b6a21-d720-434c-9390-1c8f4f4063a3",
   "metadata": {
    "tags": []
   },
   "outputs": [],
   "source": [
    "plt.figure(figsize=(9,4))\n",
    "sns.lineplot(y=date_df['unique_tokens'], x=date_df['pub_date'], hue=pd.to_datetime(date_df['pub_date']).dt.year)\n",
    "sns.lineplot(y=date_df['unique_tokens'].rolling(360).mean(), x=date_df['pub_date'])\n",
    "plt.title('Number of unique abstract tokens per day');"
   ]
  },
  {
   "cell_type": "code",
   "execution_count": null,
   "id": "34708032-fbe3-4274-87af-35347f564505",
   "metadata": {
    "tags": []
   },
   "outputs": [],
   "source": [
    "plt.figure(figsize=(9,4))\n",
    "sns.lineplot(y=date_df['unique_tokens'] / date_df['number_of_tokens'], x=date_df['pub_date'], hue=pd.to_datetime(date_df['pub_date']).dt.year)\n",
    "sns.lineplot(y=(date_df['unique_tokens'] / date_df['number_of_tokens']).rolling(360).mean(), x=date_df['pub_date'])\n",
    "plt.ylabel(\"Lexical diversity\")\n",
    "plt.title('Lexical diversity per day');"
   ]
  },
  {
   "cell_type": "code",
   "execution_count": null,
   "id": "c05addd1-ee1f-4ba5-b61e-3e8918f9e5de",
   "metadata": {
    "tags": []
   },
   "outputs": [],
   "source": [
    "sns.scatterplot(x=date_df['number_of_papers'], y=date_df['number_of_tokens'],hue=pd.to_datetime(date_df['pub_date']).dt.year)"
   ]
  },
  {
   "cell_type": "code",
   "execution_count": null,
   "id": "cce226a2-a964-4d03-a702-e99980c07cca",
   "metadata": {
    "tags": []
   },
   "outputs": [],
   "source": [
    "sns.boxplot(x=date_df['number_of_tokens'] / date_df['number_of_papers'],y=(pd.to_datetime(date_df['pub_date']).dt.year).astype('category'))\n"
   ]
  },
  {
   "cell_type": "code",
   "execution_count": null,
   "id": "ffcd669b-4217-4596-b8d0-862edc69facf",
   "metadata": {
    "tags": []
   },
   "outputs": [],
   "source": [
    "sns.histplot(date_df['number_of_tokens'] / date_df['number_of_papers'])"
   ]
  },
  {
   "cell_type": "code",
   "execution_count": null,
   "id": "31e83104-040f-43a6-a5fc-6090710b1b30",
   "metadata": {},
   "outputs": [],
   "source": []
  },
  {
   "cell_type": "markdown",
   "id": "206ce29a-ed7e-4219-9be0-0e214f82f7e6",
   "metadata": {},
   "source": [
    "### Creating Word Vectors"
   ]
  },
  {
   "cell_type": "code",
   "execution_count": null,
   "id": "f554f0db-6a18-4570-8a19-f23e0a768cc1",
   "metadata": {
    "tags": []
   },
   "outputs": [],
   "source": [
    "from sklearn.feature_extraction.text import CountVectorizer\n",
    "from collections import Counter"
   ]
  },
  {
   "cell_type": "code",
   "execution_count": null,
   "id": "14fc6ce4-72f0-4c55-91da-89960b227bbf",
   "metadata": {
    "tags": []
   },
   "outputs": [],
   "source": [
    "start_time = time.time()\n",
    "#### turn the text strings into token vectors\n",
    "#### but only if a token appears in at least 500 documents \n",
    "count_text_vectorizer = CountVectorizer(min_df=500, ngram_range=(1,2))\n",
    "count_text_vectors = count_text_vectorizer.fit_transform(date_df['cleaned_text'])\n",
    "\n",
    "print(time.time()-start_time)\n",
    "\n",
    "print(f\"Shape: {count_text_vectors.shape}\\n\")\n",
    "count_text_vectorizer.get_feature_names_out()"
   ]
  },
  {
   "cell_type": "code",
   "execution_count": null,
   "id": "5dcfb152-551b-4669-8138-ef51ef7011fb",
   "metadata": {
    "tags": []
   },
   "outputs": [],
   "source": [
    "date_df = pd.concat([date_df,pd.DataFrame(count_text_vectors.toarray(), columns=count_text_vectorizer.get_feature_names_out())],axis=1)\n",
    "\n",
    "print(time.time()-start_time)"
   ]
  },
  {
   "cell_type": "code",
   "execution_count": null,
   "id": "2a5e37dc-a09a-42b0-b385-64966179012b",
   "metadata": {
    "tags": []
   },
   "outputs": [],
   "source": [
    "date_df"
   ]
  },
  {
   "cell_type": "code",
   "execution_count": null,
   "id": "392f18e3-334a-4c3f-8986-b298a1d0acd7",
   "metadata": {
    "tags": []
   },
   "outputs": [],
   "source": [
    "#plt.figure(figsize=(9,4))\n",
    "#token_list = ['llm', 'recurrent', 'optimize', 'optimal', 'cnn', 'rnn', 'neighbor',\n",
    "#             'architecture', 'lstm', 'transfer', 'transformer', 'quantum', 'learn', #'language',\n",
    "#             'large', 'cpu', 'gpu', 'nvidia', 'intel', 'cryptocurrency','chatgpt', 'turing']\n",
    "#for i in token_list:\n",
    "#    sns.lineplot(x=date_df['pub_date'], y=(date_df[i] / date_df['number_of_papers']).rolling(360).mean() / date_df[i].max(), alpha=0.7)\n",
    "##plt.title('Use of the word \"neural\"')\n",
    "##plt.axhline(3, ls='--')\n",
    "##plt.legend(token_list)"
   ]
  },
  {
   "cell_type": "code",
   "execution_count": null,
   "id": "5dda588d-b08d-4833-adc2-6b97b8a6140f",
   "metadata": {},
   "outputs": [],
   "source": []
  },
  {
   "cell_type": "code",
   "execution_count": null,
   "id": "7c6b6a7b-eab1-4b28-9e30-24ceb813f36b",
   "metadata": {
    "tags": []
   },
   "outputs": [],
   "source": [
    "def common_token_counter(clean_string):\n",
    "    return [j for j,k in Counter(clean_string.split()).most_common(50)]"
   ]
  },
  {
   "cell_type": "code",
   "execution_count": null,
   "id": "fafa4a62-3527-4d23-a3d7-2260311e302e",
   "metadata": {
    "tags": []
   },
   "outputs": [],
   "source": [
    "top_tokens_list = Counter(\" \".join([i for i in date_df['cleaned_text'].apply(common_token_counter).str.join(sep=' ')]).split())\n",
    "\n",
    "print(f\"Number of total tokens: {len(top_tokens_list)}\")"
   ]
  },
  {
   "cell_type": "code",
   "execution_count": null,
   "id": "c4c547a7-8bef-445d-9147-1bb54dfefed0",
   "metadata": {
    "tags": []
   },
   "outputs": [],
   "source": [
    "drop_list = ['pub_date','cleaned_text','number_of_papers','number_of_tokens','unique_tokens']\n",
    "date_df.drop(columns=drop_list).sum().sort_values(ascending=False)[0:1000].index"
   ]
  },
  {
   "cell_type": "code",
   "execution_count": null,
   "id": "d764fe82-7f4a-43ae-a413-99637da913b8",
   "metadata": {
    "tags": []
   },
   "outputs": [],
   "source": [
    "plt.figure(figsize=(12,9))\n",
    "token_list = date_df.drop(columns=drop_list).sum().sort_values(ascending=False)[0:3000].index\n",
    "\n",
    "for i in token_list:\n",
    "    try:\n",
    "#        sns.lineplot(x=date_df['pub_date'], y=(date_df[i] / date_df['number_of_papers']).rolling(360).mean()*100, alpha=0.3)\n",
    "        sns.lineplot(x=date_df['pub_date'], y=(date_df[i] / date_df['number_of_papers'] / date_df[i].max()).rolling(360).mean().rolling(180).mean(), linewidth=0.3,)\n",
    "    except:\n",
    "        pass"
   ]
  },
  {
   "cell_type": "code",
   "execution_count": null,
   "id": "3357488e-9cf9-46e2-bcdd-2b68b268c9c7",
   "metadata": {},
   "outputs": [],
   "source": []
  },
  {
   "cell_type": "code",
   "execution_count": null,
   "id": "ef7fcb75-f5db-4c02-a5d4-1c2dfbd4a25c",
   "metadata": {
    "tags": []
   },
   "outputs": [],
   "source": [
    "drop_list = ['pub_date','cleaned_text','number_of_papers','number_of_tokens','unique_tokens']\n",
    "\n",
    "\n",
    "df_dict = {}\n",
    "for col in date_df.drop(columns=drop_list).columns:\n",
    "    df_dict[col] = (date_df[col] / date_df['number_of_papers']).rolling(360).mean().rolling(180).mean() / date_df[col].max()\n",
    "\n",
    "moving_avg_df = pd.concat([date_df['pub_date'], pd.DataFrame(df_dict)], axis=1)[538:].reset_index(drop=True)\n",
    "moving_avg_df = moving_avg_df.rename(columns={'pub_date': 'ds'})"
   ]
  },
  {
   "cell_type": "code",
   "execution_count": null,
   "id": "734715a6-0d7a-45cc-b4a3-68ef2ffb1b13",
   "metadata": {
    "tags": []
   },
   "outputs": [],
   "source": [
    "moving_avg_df"
   ]
  },
  {
   "cell_type": "code",
   "execution_count": null,
   "id": "eea42cfb-d9cf-4214-a93f-d254cd9109a1",
   "metadata": {},
   "outputs": [],
   "source": []
  },
  {
   "cell_type": "code",
   "execution_count": null,
   "id": "b12d82b1-5fdb-4550-8923-46b817d048fa",
   "metadata": {
    "tags": []
   },
   "outputs": [],
   "source": [
    "#date_df.to_csv('lemmatized_date_df.csv', index=False)\n",
    "#moving_avg_df.to_csv('lemmatized_moving_avg_df.csv', index=False)"
   ]
  },
  {
   "cell_type": "code",
   "execution_count": null,
   "id": "3d94c7d4-8836-4b54-b09f-d429f9556203",
   "metadata": {
    "tags": []
   },
   "outputs": [],
   "source": [
    "#https://stackoverflow.com/questions/45143450/how-to-fit-polynomial-to-a-time-series-data-in-python\n",
    "plt.figure(figsize=(12,9))\n",
    "x = [i for i in range(len(moving_avg_df))]\n",
    "\n",
    "for word in moving_avg_df.drop(columns=['ds']).columns[:500]:\n",
    "    y = moving_avg_df[word]\n",
    "    \n",
    "    curve = np.polyfit(x,y*1000, deg=7)\n",
    "    #print(curve)\n",
    "    p = np.poly1d( curve )\n",
    "    sns.lineplot(x=x,y= p(x), alpha=0.3)"
   ]
  },
  {
   "cell_type": "code",
   "execution_count": null,
   "id": "669cb4a2-3363-4377-939b-30709d3239fc",
   "metadata": {
    "tags": []
   },
   "outputs": [],
   "source": [
    "plt.figure(figsize=(8,4))\n",
    "x = [i for i in range(len(moving_avg_df))]\n",
    "\n",
    "for word in ['llm', 'recurrent', 'optimize', 'optimal', 'cnn', 'rnn', 'neighbor',\n",
    "#             'architecture', 'lstm', 'transfer', 'transformer', 'quantum', 'learn', #'language',\n",
    "             ]:\n",
    "    y = moving_avg_df[word]\n",
    "    curve = np.polyfit(x,y, deg=7)\n",
    "    #print(curve)\n",
    "    p = np.poly1d( curve )\n",
    "    plt.plot(x,y,p(x))"
   ]
  },
  {
   "cell_type": "code",
   "execution_count": null,
   "id": "a770fa6f-d3b6-4a01-989d-7f10ca8dcd7c",
   "metadata": {
    "tags": []
   },
   "outputs": [],
   "source": [
    "plt.figure(figsize=(12,9))\n",
    "x = [i for i in range(len(moving_avg_df))]\n",
    "polynomial_dict = {}\n",
    "\n",
    "for word in moving_avg_df.drop(columns=['ds']).columns:\n",
    "    y = moving_avg_df[word]*1000\n",
    "    polynomial_dict[word] = np.polyfit(x,y, deg=7)"
   ]
  },
  {
   "cell_type": "code",
   "execution_count": null,
   "id": "a3f705f2-2410-47ea-a34e-a85ae911dbe8",
   "metadata": {
    "tags": []
   },
   "outputs": [],
   "source": [
    "polynomial_df = pd.DataFrame(polynomial_dict).T.reset_index().rename(columns = {'index':'token', 0:'deg7', 1:'deg6', 2:'deg5', 3:'deg4',\n",
    "                                                 4:'deg3', 5:'deg2', 6:'deg1', 7:'y_int'})"
   ]
  },
  {
   "cell_type": "code",
   "execution_count": null,
   "id": "d486d4de-5786-4e50-9139-ea55853464a6",
   "metadata": {
    "tags": []
   },
   "outputs": [],
   "source": [
    "sns.histplot(polynomial_df['y_int'])"
   ]
  },
  {
   "cell_type": "code",
   "execution_count": null,
   "id": "0ad6b8a2-1899-4e52-987f-481ea631c820",
   "metadata": {
    "tags": []
   },
   "outputs": [],
   "source": [
    "polynomial_df"
   ]
  },
  {
   "cell_type": "code",
   "execution_count": null,
   "id": "e310fb58-f6f3-475d-9fc0-3517b14d95d8",
   "metadata": {
    "tags": []
   },
   "outputs": [],
   "source": [
    "len(polynomial_df['positive_slope'])"
   ]
  },
  {
   "cell_type": "code",
   "execution_count": null,
   "id": "1a9804e8-b5b7-4487-a34d-3d38417c1090",
   "metadata": {},
   "outputs": [],
   "source": []
  },
  {
   "cell_type": "markdown",
   "id": "ad4b073f-fad7-4e14-9789-bedb5acc7a41",
   "metadata": {},
   "source": [
    "### KNeighbors Clustering based on polynomial curves"
   ]
  },
  {
   "cell_type": "code",
   "execution_count": null,
   "id": "9005db30-235e-4f5a-a10b-7d0cd299a185",
   "metadata": {
    "tags": []
   },
   "outputs": [],
   "source": [
    "polynomial_df['positive_slope'] = polynomial_df['deg1'] > 0"
   ]
  },
  {
   "cell_type": "code",
   "execution_count": null,
   "id": "f56258b9-f1b8-4645-8454-e0232e32ee51",
   "metadata": {
    "tags": []
   },
   "outputs": [],
   "source": [
    "sns.pairplot(polynomial_df, hue='positive_slope')"
   ]
  },
  {
   "cell_type": "markdown",
   "id": "4e9ba8d0-00b8-4c94-834f-3588f7ecefab",
   "metadata": {},
   "source": [
    "### KMeans Clustering"
   ]
  },
  {
   "cell_type": "code",
   "execution_count": null,
   "id": "007ced94-2d0d-4cbf-b74a-80692fe225c5",
   "metadata": {
    "tags": []
   },
   "outputs": [],
   "source": [
    "from sklearn.neighbors import NearestNeighbors\n",
    "from sklearn.cluster import KMeans\n",
    "from sklearn.preprocessing import StandardScaler, RobustScaler, QuantileTransformer, MaxAbsScaler, PowerTransformer, Normalizer"
   ]
  },
  {
   "cell_type": "code",
   "execution_count": null,
   "id": "497eb241-f748-4c11-bcdf-ba4dba455163",
   "metadata": {
    "tags": []
   },
   "outputs": [],
   "source": [
    "X = polynomial_df.drop(columns=['token', 'positive_slope'])\n",
    "\n",
    "sc = QuantileTransformer()\n",
    "X_sc = sc.fit_transform(X)\n",
    "pd.DataFrame(X_sc, columns = X.columns)"
   ]
  },
  {
   "cell_type": "code",
   "execution_count": null,
   "id": "4fc71126-51b5-4e19-9b15-ea2351bf23f8",
   "metadata": {
    "tags": []
   },
   "outputs": [],
   "source": [
    "1 / np.log(np.abs(X)) * np.sign(X)"
   ]
  },
  {
   "cell_type": "code",
   "execution_count": null,
   "id": "b9c52c8e-36fc-4d23-9e04-b2d27576813b",
   "metadata": {
    "tags": []
   },
   "outputs": [],
   "source": [
    "sns.pairplot(pd.concat([pd.DataFrame(X_sc, columns = X.columns), polynomial_df['positive_slope']], axis=1), hue='positive_slope')"
   ]
  },
  {
   "cell_type": "code",
   "execution_count": null,
   "id": "32cc0486-9ea5-47a3-a581-781ec790cf4c",
   "metadata": {
    "tags": []
   },
   "outputs": [],
   "source": [
    "k_clusters = KMeans(n_clusters=7,)\n",
    "\n",
    "k_clusters.fit(X_sc)"
   ]
  },
  {
   "cell_type": "code",
   "execution_count": null,
   "id": "7781278c-f76d-4fe5-8835-53f13c5f6a41",
   "metadata": {
    "tags": []
   },
   "outputs": [],
   "source": [
    "k_clusters.labels_"
   ]
  },
  {
   "cell_type": "code",
   "execution_count": null,
   "id": "c26b7005-0758-426e-8dd4-d035636a719f",
   "metadata": {
    "tags": []
   },
   "outputs": [],
   "source": [
    "polynomial_df['cluster'] = k_clusters.labels_"
   ]
  },
  {
   "cell_type": "code",
   "execution_count": null,
   "id": "a958147b-7503-4950-8593-78c5257f6442",
   "metadata": {
    "tags": []
   },
   "outputs": [],
   "source": [
    "polynomial_df"
   ]
  },
  {
   "cell_type": "code",
   "execution_count": null,
   "id": "8bbd79d5-61eb-4fab-ae8c-74652e17a00e",
   "metadata": {
    "tags": []
   },
   "outputs": [],
   "source": [
    "#plt.figure(figsize=(32,32))\n",
    "sns.pairplot(polynomial_df.drop(columns=['token']), hue='cluster')\n",
    "#plt.savefig(\"clustered_pairplot2.png\")"
   ]
  },
  {
   "cell_type": "code",
   "execution_count": null,
   "id": "9ab5bde5-2442-4e0a-b6c7-f154a3650339",
   "metadata": {
    "tags": []
   },
   "outputs": [],
   "source": [
    "cluster_dict = {}\n",
    "for i in range(len(neighbors_df)):\n",
    "    cluster_dict[neighbors_df['unique_id'][i]] = neighbors_df['cluster'][i]"
   ]
  },
  {
   "cell_type": "code",
   "execution_count": null,
   "id": "88f20796-f654-464a-ad4b-1ea02e422fd6",
   "metadata": {
    "tags": []
   },
   "outputs": [],
   "source": [
    "#temp_df = polynomial_df[polynomial_df['cluster']==0][['deg7','deg6','deg5','deg4','deg3','deg2','deg1','y_int']].reset_index(drop=True)\n",
    "plt.figure(figsize=(12,9))\n",
    "x = [i for i in range(len(moving_avg_df))]\n",
    "\n",
    "for word in polynomial_df[polynomial_df['cluster']==6]['token']:\n",
    "    y = moving_avg_df[word]\n",
    "    \n",
    "    curve = np.polyfit(x,y*1000, deg=2)\n",
    "    p = np.poly1d( curve )\n",
    "    sns.lineplot(x=x,y= p(x), linewidth=0.1, color='black')\n"
   ]
  },
  {
   "cell_type": "code",
   "execution_count": null,
   "id": "90eb1ac5-75ff-4a10-b14f-9af6d28fa7f0",
   "metadata": {
    "tags": []
   },
   "outputs": [],
   "source": [
    "integral_dict = {}"
   ]
  },
  {
   "cell_type": "code",
   "execution_count": null,
   "id": "330ea62d-9fc5-4f6c-b96b-07e5095ead4a",
   "metadata": {
    "tags": []
   },
   "outputs": [],
   "source": [
    "%%time\n",
    "\n",
    "#for token in moving_avg_df.drop(columns=['ds']).columns[7000:]:\n",
    "#    integral_dict[token] = [sum(np.abs(moving_avg_df[token] - moving_avg_df[word])) for word in moving_avg_df.drop(columns=['ds']).columns]\n"
   ]
  },
  {
   "cell_type": "code",
   "execution_count": null,
   "id": "db6da451-b592-4cb0-bbaf-b95cf1b1c037",
   "metadata": {
    "tags": []
   },
   "outputs": [],
   "source": [
    "limited_df = moving_avg_df[:-392]"
   ]
  },
  {
   "cell_type": "code",
   "execution_count": null,
   "id": "fc6f2ef2-6142-4cda-be2b-7645c73a3cbd",
   "metadata": {
    "tags": []
   },
   "outputs": [],
   "source": [
    "%%time\n",
    "#limited_integral_dict = {}\n",
    "for token in moving_avg_df.drop(columns=['ds']).columns[8000:]:\n",
    "    limited_integral_dict[token] = [sum(np.abs(limited_df[token] - limited_df[word])) for word in limited_df.drop(columns=['ds']).columns]\n"
   ]
  },
  {
   "cell_type": "code",
   "execution_count": null,
   "id": "5e1a2143-2285-414b-9ebe-986ec50a6c8f",
   "metadata": {
    "tags": []
   },
   "outputs": [],
   "source": [
    "pd.DataFrame(limited_integral_dict).to_csv('limited_integral_df.csv', index=False)"
   ]
  },
  {
   "cell_type": "code",
   "execution_count": null,
   "id": "9874fb46-f7ad-43fc-beb3-7f010fecf798",
   "metadata": {
    "tags": []
   },
   "outputs": [],
   "source": [
    "%%time\n",
    "\n",
    "#for token in moving_avg_df.drop(columns=['ds']).columns[0:10]:\n",
    "#    limited_integral_dict[token] = [sum(np.abs(moving_avg_df[token] - moving_avg_df[word])) for word in moving_avg_df.drop(columns=['ds']).columns]\n"
   ]
  },
  {
   "cell_type": "code",
   "execution_count": null,
   "id": "95df65d3-003d-4aa9-8613-10e0952c13ea",
   "metadata": {
    "tags": []
   },
   "outputs": [],
   "source": [
    "#pd.DataFrame(integral_dict).to_csv('integral_dict.csv', index=False)"
   ]
  },
  {
   "cell_type": "code",
   "execution_count": null,
   "id": "a63550db-2afd-41d4-a21a-5c05d2c721cb",
   "metadata": {
    "tags": []
   },
   "outputs": [],
   "source": [
    "#integral_df = pd.DataFrame(integral_dict)\n",
    "limited_integral_df = pd.read_csv('limited_integral_df.csv')\n",
    "integral_df = pd.read_csv('integral_dict.csv')\n",
    "moving_avg_df = pd.read_csv('lemmatized_moving_avg_df.csv')\n",
    "\n",
    "limited_integral_df"
   ]
  },
  {
   "cell_type": "code",
   "execution_count": null,
   "id": "e0e9db89-4fd7-4058-a776-9bd46085678f",
   "metadata": {
    "tags": []
   },
   "outputs": [],
   "source": [
    "from sklearn.cluster import KMeans"
   ]
  },
  {
   "cell_type": "code",
   "execution_count": null,
   "id": "8b708b40-9a66-41c0-800a-6bec2eea4f9f",
   "metadata": {
    "tags": []
   },
   "outputs": [],
   "source": [
    "X = limited_integral_df\n",
    "\n",
    "k_cluster_model = KMeans(n_clusters=50)\n",
    "k_cluster_model.fit(X)\n",
    "\n",
    "limited_integral_df['original_tokens'] = limited_integral_df.columns\n",
    "limited_integral_df['k_cluster'] = k_cluster_model.labels_"
   ]
  },
  {
   "cell_type": "code",
   "execution_count": null,
   "id": "f1f2078a-4898-4656-ad6f-983b4890e19b",
   "metadata": {
    "tags": []
   },
   "outputs": [],
   "source": [
    "cluster_num = 35\n",
    "#print([i for i in integral_df[integral_df['k_cluster']==cluster_num]['original_tokens']])\n",
    "moving_avg_df[limited_integral_df[limited_integral_df['k_cluster']==cluster_num]['original_tokens']].plot.line(legend=False, linewidth=0.3)#, ylim=(0,.003))\n",
    "moving_avg_df[limited_integral_df[limited_integral_df['k_cluster']==cluster_num]['original_tokens']].mean(axis=1).plot.line(color='blue', linestyle='-')#ylim=(0,.003))\n",
    "plt.show()\n",
    "print([i for i in limited_integral_df[limited_integral_df['k_cluster']==cluster_num]['original_tokens']])"
   ]
  },
  {
   "cell_type": "code",
   "execution_count": null,
   "id": "41725114-1fc8-472c-a3b6-63a6f3666f10",
   "metadata": {
    "tags": []
   },
   "outputs": [],
   "source": [
    "plt.figure(figsize=(12,8))\n",
    "for i in range(0,50):\n",
    "    moving_avg_df[limited_integral_df[limited_integral_df['k_cluster']==i]['original_tokens']].mean(axis=1).plot.line()"
   ]
  },
  {
   "cell_type": "code",
   "execution_count": null,
   "id": "49f6f817-ca97-43d8-b97e-133b82be3716",
   "metadata": {
    "tags": []
   },
   "outputs": [],
   "source": [
    "#!pip install yellowbrick"
   ]
  },
  {
   "cell_type": "code",
   "execution_count": null,
   "id": "6e59c8e2-07a1-44da-b8f0-19263d6a6977",
   "metadata": {
    "tags": []
   },
   "outputs": [],
   "source": [
    "from yellowbrick.cluster import KElbowVisualizer, InterclusterDistance, SilhouetteVisualizer"
   ]
  },
  {
   "cell_type": "code",
   "execution_count": null,
   "id": "741841cf-83a1-4a01-9826-169c18cf60af",
   "metadata": {
    "tags": []
   },
   "outputs": [],
   "source": [
    "%%time\n",
    "visualization = KElbowVisualizer(estimator=k_cluster_model,k=(2,20))\n",
    "\n",
    "visualization.fit(X)"
   ]
  },
  {
   "cell_type": "code",
   "execution_count": null,
   "id": "efbb7f73-5458-470f-bfe6-98d2b100ba4e",
   "metadata": {
    "tags": []
   },
   "outputs": [],
   "source": [
    "visualization.show()"
   ]
  },
  {
   "cell_type": "code",
   "execution_count": null,
   "id": "e1a553ae-a459-4582-a263-4b96d361dfee",
   "metadata": {
    "tags": []
   },
   "outputs": [],
   "source": [
    "intercluster_vis = InterclusterDistance(KMeans(25))\n",
    "intercluster_vis.fit(X)"
   ]
  },
  {
   "cell_type": "code",
   "execution_count": null,
   "id": "0a3f18a1-a9c2-42e1-86a4-6e34bfd89af9",
   "metadata": {
    "tags": []
   },
   "outputs": [],
   "source": [
    "silhouette_vis = SilhouetteVisualizer(KMeans(20))\n",
    "\n",
    "silhouette_vis.fit(X)"
   ]
  },
  {
   "cell_type": "code",
   "execution_count": null,
   "id": "b4dab713-8fc0-48c1-aa82-9c9922114150",
   "metadata": {
    "tags": []
   },
   "outputs": [],
   "source": [
    "#integral_df.to_csv('integral_cluster_all_data.csv')\n",
    "limited_integral_df.to_csv('integral_cluster_limited_data.csv')"
   ]
  },
  {
   "cell_type": "code",
   "execution_count": null,
   "id": "fef04f9f-6713-4b54-9fcd-5c6b2559ba57",
   "metadata": {
    "tags": []
   },
   "outputs": [],
   "source": [
    "limited_integral_df['original_tokens'] =  limited_integral_df['original_tokens'].str.replace(' ','.')\n",
    "limited_integral_df[['original_tokens','k_cluster']].to_csv('limited_integral_cluster_labels.csv', index=False)"
   ]
  },
  {
   "cell_type": "code",
   "execution_count": null,
   "id": "7b139d01-ebd6-434e-9ffb-35917aa195c4",
   "metadata": {
    "tags": []
   },
   "outputs": [],
   "source": [
    "limited_integral_df['original_tokens']"
   ]
  },
  {
   "cell_type": "code",
   "execution_count": null,
   "id": "64eb26bc-a480-44ec-b68e-e643e1633cb4",
   "metadata": {},
   "outputs": [],
   "source": []
  },
  {
   "cell_type": "code",
   "execution_count": null,
   "id": "646efbe5-d16e-4688-b35b-a8bbe54796a5",
   "metadata": {},
   "outputs": [],
   "source": []
  },
  {
   "cell_type": "code",
   "execution_count": null,
   "id": "3339c2f9-dcf1-4019-b405-48df059715f2",
   "metadata": {},
   "outputs": [],
   "source": []
  },
  {
   "cell_type": "code",
   "execution_count": null,
   "id": "91f2fc67-4fdd-4588-89b4-ab4cae9d815f",
   "metadata": {},
   "outputs": [],
   "source": []
  },
  {
   "cell_type": "code",
   "execution_count": null,
   "id": "574fb460-4eb3-42fb-a923-0abc48bb0c00",
   "metadata": {},
   "outputs": [],
   "source": []
  },
  {
   "cell_type": "code",
   "execution_count": null,
   "id": "8c6bdfce-96c7-4274-8efe-5931a5cee8cc",
   "metadata": {},
   "outputs": [],
   "source": []
  },
  {
   "cell_type": "code",
   "execution_count": null,
   "id": "65976311-3b41-4377-968b-527d28001123",
   "metadata": {},
   "outputs": [],
   "source": []
  },
  {
   "cell_type": "code",
   "execution_count": null,
   "id": "f1f8e57b-6567-4842-8784-38d933a6ab8f",
   "metadata": {},
   "outputs": [],
   "source": []
  },
  {
   "cell_type": "code",
   "execution_count": null,
   "id": "03cd9f00-d5d2-4c58-b140-01e6a90f9aa5",
   "metadata": {},
   "outputs": [],
   "source": []
  },
  {
   "cell_type": "code",
   "execution_count": null,
   "id": "367e6eaf-5de3-4e51-8a6b-91e70c86c03d",
   "metadata": {},
   "outputs": [],
   "source": []
  },
  {
   "cell_type": "code",
   "execution_count": null,
   "id": "43946c38-ae23-4761-a998-04c5a8870e5e",
   "metadata": {},
   "outputs": [],
   "source": []
  },
  {
   "cell_type": "code",
   "execution_count": null,
   "id": "009bfcea-f95f-4d3a-82da-0b5564f0b7f6",
   "metadata": {},
   "outputs": [],
   "source": []
  },
  {
   "cell_type": "code",
   "execution_count": null,
   "id": "ee7b60b6-4dad-4051-82c3-c9afda4091c7",
   "metadata": {},
   "outputs": [],
   "source": []
  },
  {
   "cell_type": "code",
   "execution_count": null,
   "id": "13661743-0c7f-4e03-bd2d-6e8279a0d84c",
   "metadata": {},
   "outputs": [],
   "source": []
  }
 ],
 "metadata": {
  "kernelspec": {
   "display_name": "Python 3 (ipykernel)",
   "language": "python",
   "name": "python3"
  },
  "language_info": {
   "codemirror_mode": {
    "name": "ipython",
    "version": 3
   },
   "file_extension": ".py",
   "mimetype": "text/x-python",
   "name": "python",
   "nbconvert_exporter": "python",
   "pygments_lexer": "ipython3",
   "version": "3.11.5"
  }
 },
 "nbformat": 4,
 "nbformat_minor": 5
}
