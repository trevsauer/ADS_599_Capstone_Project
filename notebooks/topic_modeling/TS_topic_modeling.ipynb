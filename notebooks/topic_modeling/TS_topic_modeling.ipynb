{
 "cells": [
  {
   "cell_type": "markdown",
   "id": "f97428fe-f729-41df-a26c-75c0fca2d21d",
   "metadata": {
    "execution": {
     "iopub.execute_input": "2024-03-26T03:26:34.373460Z",
     "iopub.status.busy": "2024-03-26T03:26:34.372459Z",
     "iopub.status.idle": "2024-03-26T03:26:34.546458Z",
     "shell.execute_reply": "2024-03-26T03:26:34.545459Z",
     "shell.execute_reply.started": "2024-03-26T03:26:34.373460Z"
    },
    "tags": []
   },
   "source": [
    "### Imports"
   ]
  },
  {
   "cell_type": "code",
   "execution_count": 134,
   "id": "603a0c14-9670-4833-b9aa-23782499e5dc",
   "metadata": {
    "execution": {
     "iopub.execute_input": "2024-04-01T21:39:59.481998Z",
     "iopub.status.busy": "2024-04-01T21:39:59.481998Z",
     "iopub.status.idle": "2024-04-01T21:39:59.655035Z",
     "shell.execute_reply": "2024-04-01T21:39:59.654033Z",
     "shell.execute_reply.started": "2024-04-01T21:39:59.481998Z"
    },
    "tags": []
   },
   "outputs": [
    {
     "name": "stderr",
     "output_type": "stream",
     "text": [
      "[nltk_data] Downloading package punkt to\n",
      "[nltk_data]     C:\\Users\\trevor.sauerbrey\\AppData\\Roaming\\nltk_data...\n",
      "[nltk_data]   Package punkt is already up-to-date!\n",
      "[nltk_data] Downloading package stopwords to\n",
      "[nltk_data]     C:\\Users\\trevor.sauerbrey\\AppData\\Roaming\\nltk_data...\n",
      "[nltk_data]   Package stopwords is already up-to-date!\n",
      "[nltk_data] Downloading package wordnet to\n",
      "[nltk_data]     C:\\Users\\trevor.sauerbrey\\AppData\\Roaming\\nltk_data...\n",
      "[nltk_data]   Package wordnet is already up-to-date!\n"
     ]
    },
    {
     "data": {
      "text/html": [
       "        <script type=\"text/javascript\">\n",
       "        window.PlotlyConfig = {MathJaxConfig: 'local'};\n",
       "        if (window.MathJax && window.MathJax.Hub && window.MathJax.Hub.Config) {window.MathJax.Hub.Config({SVG: {font: \"STIX-Web\"}});}\n",
       "        if (typeof require !== 'undefined') {\n",
       "        require.undef(\"plotly\");\n",
       "        requirejs.config({\n",
       "            paths: {\n",
       "                'plotly': ['https://cdn.plot.ly/plotly-2.20.0.min']\n",
       "            }\n",
       "        });\n",
       "        require(['plotly'], function(Plotly) {\n",
       "            window._Plotly = Plotly;\n",
       "        });\n",
       "        }\n",
       "        </script>\n",
       "        "
      ]
     },
     "metadata": {},
     "output_type": "display_data"
    }
   ],
   "source": [
    "import pandas as pd\n",
    "import numpy as np\n",
    "import time\n",
    "import warnings\n",
    "warnings.simplefilter(action='ignore', category=FutureWarning)\n",
    "warnings.filterwarnings('ignore')\n",
    "import matplotlib.pyplot as plt\n",
    "import seaborn as sns\n",
    "import inflect\n",
    "from lda_model import simple_cleaner\n",
    "from nltk.stem import WordNetLemmatizer\n",
    "import string\n",
    "import nltk\n",
    "nltk.download('punkt')\n",
    "nltk.download('stopwords')\n",
    "nltk.download('wordnet')\n",
    "from nltk.tokenize import word_tokenize\n",
    "from nltk.corpus import stopwords\n",
    "stop_words = set(stopwords.words('english'))\n",
    "stop_words.update(['non','also'])\n",
    "from sklearn.feature_extraction.text import CountVectorizer\n",
    "from plotly.offline import init_notebook_mode\n",
    "init_notebook_mode(connected=True) \n",
    "# from bertopic import BERTopic\n",
    "import scipy.stats as stats\n",
    "from scipy.stats import norm\n",
    "from sklearn.decomposition import TruncatedSVD\n",
    "from collections import Counter\n",
    "import re\n",
    "from textblob import TextBlob\n"
   ]
  },
  {
   "cell_type": "markdown",
   "id": "abf6a2ee-3bab-45fb-b9fb-6c7861eda7b1",
   "metadata": {},
   "source": [
    "### Data Ingestion"
   ]
  },
  {
   "cell_type": "code",
   "execution_count": 209,
   "id": "d4c85da2-623a-4706-b44f-76eb345826aa",
   "metadata": {
    "execution": {
     "iopub.execute_input": "2024-04-01T21:55:59.619160Z",
     "iopub.status.busy": "2024-04-01T21:55:59.619160Z",
     "iopub.status.idle": "2024-04-01T21:56:14.258080Z",
     "shell.execute_reply": "2024-04-01T21:56:14.257075Z",
     "shell.execute_reply.started": "2024-04-01T21:55:59.619160Z"
    },
    "tags": []
   },
   "outputs": [
    {
     "name": "stdout",
     "output_type": "stream",
     "text": [
      "CPU times: total: 14.5 s\n",
      "Wall time: 14.5 s\n"
     ]
    },
    {
     "data": {
      "text/html": [
       "<div>\n",
       "<style scoped>\n",
       "    .dataframe tbody tr th:only-of-type {\n",
       "        vertical-align: middle;\n",
       "    }\n",
       "\n",
       "    .dataframe tbody tr th {\n",
       "        vertical-align: top;\n",
       "    }\n",
       "\n",
       "    .dataframe thead th {\n",
       "        text-align: right;\n",
       "    }\n",
       "</style>\n",
       "<table border=\"1\" class=\"dataframe\">\n",
       "  <thead>\n",
       "    <tr style=\"text-align: right;\">\n",
       "      <th></th>\n",
       "      <th>Title</th>\n",
       "      <th>ID</th>\n",
       "      <th>Published</th>\n",
       "      <th>Updated</th>\n",
       "      <th>Summary</th>\n",
       "      <th>Author</th>\n",
       "      <th>Comments</th>\n",
       "      <th>Journal_Ref</th>\n",
       "      <th>Link</th>\n",
       "      <th>Primary_Category</th>\n",
       "      <th>Categories</th>\n",
       "      <th>DOI</th>\n",
       "      <th>License</th>\n",
       "      <th>Affiliation</th>\n",
       "      <th>Unnamed: 0</th>\n",
       "    </tr>\n",
       "  </thead>\n",
       "  <tbody>\n",
       "    <tr>\n",
       "      <th>0</th>\n",
       "      <td>Domain-Independent Dynamic Programming</td>\n",
       "      <td>http://arxiv.org/abs/2401.13883v1</td>\n",
       "      <td>2024-01-25T01:48:09Z</td>\n",
       "      <td>2024-01-25T01:48:09Z</td>\n",
       "      <td>For combinatorial optimization problems, mod...</td>\n",
       "      <td>['\\nRyo Kuroiwa\\n', '\\nJ. Christopher Beck\\n']</td>\n",
       "      <td>Manuscript submitted to JACM</td>\n",
       "      <td>NaN</td>\n",
       "      <td>http://arxiv.org/abs/2401.13883v1</td>\n",
       "      <td>cs.AI</td>\n",
       "      <td>['cs.AI']</td>\n",
       "      <td>NaN</td>\n",
       "      <td>NaN</td>\n",
       "      <td>[]</td>\n",
       "      <td>NaN</td>\n",
       "    </tr>\n",
       "    <tr>\n",
       "      <th>1</th>\n",
       "      <td>Agent-based Simulation with Netlogo to Evaluat...</td>\n",
       "      <td>http://arxiv.org/abs/2401.14153v1</td>\n",
       "      <td>2024-01-25T13:05:06Z</td>\n",
       "      <td>2024-01-25T13:05:06Z</td>\n",
       "      <td>In this paper an agent-based simulation is d...</td>\n",
       "      <td>['\\nJ. Carbo\\n', '\\nN. Sanchez\\n', '\\nJ. M. Mo...</td>\n",
       "      <td>NaN</td>\n",
       "      <td>NaN</td>\n",
       "      <td>http://dx.doi.org/10.1057/jos.2016.10</td>\n",
       "      <td>cs.AI</td>\n",
       "      <td>['cs.AI']</td>\n",
       "      <td>10.1057/jos.2016.10</td>\n",
       "      <td>NaN</td>\n",
       "      <td>[]</td>\n",
       "      <td>NaN</td>\n",
       "    </tr>\n",
       "    <tr>\n",
       "      <th>2</th>\n",
       "      <td>Automated legal reasoning with discretion to a...</td>\n",
       "      <td>http://arxiv.org/abs/2401.14511v1</td>\n",
       "      <td>2024-01-25T21:11:08Z</td>\n",
       "      <td>2024-01-25T21:11:08Z</td>\n",
       "      <td>Automated legal reasoning and its applicatio...</td>\n",
       "      <td>['\\nJoaquín Arias\\n', '\\nMar Moreno-Rebato\\n',...</td>\n",
       "      <td>NaN</td>\n",
       "      <td>Artificial Intelligence and Law (2023)</td>\n",
       "      <td>http://dx.doi.org/10.1007/s10506-023-09376-5</td>\n",
       "      <td>cs.AI</td>\n",
       "      <td>['cs.AI', 'I.2.1']</td>\n",
       "      <td>10.1007/s10506-023-09376-5</td>\n",
       "      <td>NaN</td>\n",
       "      <td>[]</td>\n",
       "      <td>NaN</td>\n",
       "    </tr>\n",
       "    <tr>\n",
       "      <th>3</th>\n",
       "      <td>Efficient Constraint Generation for Stochastic...</td>\n",
       "      <td>http://arxiv.org/abs/2401.14636v1</td>\n",
       "      <td>2024-01-26T04:00:07Z</td>\n",
       "      <td>2024-01-26T04:00:07Z</td>\n",
       "      <td>Current methods for solving Stochastic Short...</td>\n",
       "      <td>['\\nJohannes Schmalz\\n', '\\nFelipe Trevizan\\n']</td>\n",
       "      <td>Extended version of AAAI 2024 paper</td>\n",
       "      <td>NaN</td>\n",
       "      <td>http://arxiv.org/abs/2401.14636v1</td>\n",
       "      <td>cs.AI</td>\n",
       "      <td>['cs.AI']</td>\n",
       "      <td>NaN</td>\n",
       "      <td>NaN</td>\n",
       "      <td>[]</td>\n",
       "      <td>NaN</td>\n",
       "    </tr>\n",
       "    <tr>\n",
       "      <th>4</th>\n",
       "      <td>Synthetic Multimodal Dataset for Empowering Sa...</td>\n",
       "      <td>http://arxiv.org/abs/2401.14743v1</td>\n",
       "      <td>2024-01-26T10:05:41Z</td>\n",
       "      <td>2024-01-26T10:05:41Z</td>\n",
       "      <td>This paper presents a synthetic multimodal d...</td>\n",
       "      <td>['\\nTakanori Ugai\\n', '\\nShusaku Egami\\n', '\\n...</td>\n",
       "      <td>7 pages, 2 figures,4 tables</td>\n",
       "      <td>NaN</td>\n",
       "      <td>http://arxiv.org/abs/2401.14743v1</td>\n",
       "      <td>cs.AI</td>\n",
       "      <td>['cs.AI']</td>\n",
       "      <td>NaN</td>\n",
       "      <td>NaN</td>\n",
       "      <td>[]</td>\n",
       "      <td>NaN</td>\n",
       "    </tr>\n",
       "  </tbody>\n",
       "</table>\n",
       "</div>"
      ],
      "text/plain": [
       "                                               Title  \\\n",
       "0             Domain-Independent Dynamic Programming   \n",
       "1  Agent-based Simulation with Netlogo to Evaluat...   \n",
       "2  Automated legal reasoning with discretion to a...   \n",
       "3  Efficient Constraint Generation for Stochastic...   \n",
       "4  Synthetic Multimodal Dataset for Empowering Sa...   \n",
       "\n",
       "                                  ID             Published  \\\n",
       "0  http://arxiv.org/abs/2401.13883v1  2024-01-25T01:48:09Z   \n",
       "1  http://arxiv.org/abs/2401.14153v1  2024-01-25T13:05:06Z   \n",
       "2  http://arxiv.org/abs/2401.14511v1  2024-01-25T21:11:08Z   \n",
       "3  http://arxiv.org/abs/2401.14636v1  2024-01-26T04:00:07Z   \n",
       "4  http://arxiv.org/abs/2401.14743v1  2024-01-26T10:05:41Z   \n",
       "\n",
       "                Updated                                            Summary  \\\n",
       "0  2024-01-25T01:48:09Z    For combinatorial optimization problems, mod...   \n",
       "1  2024-01-25T13:05:06Z    In this paper an agent-based simulation is d...   \n",
       "2  2024-01-25T21:11:08Z    Automated legal reasoning and its applicatio...   \n",
       "3  2024-01-26T04:00:07Z    Current methods for solving Stochastic Short...   \n",
       "4  2024-01-26T10:05:41Z    This paper presents a synthetic multimodal d...   \n",
       "\n",
       "                                              Author  \\\n",
       "0     ['\\nRyo Kuroiwa\\n', '\\nJ. Christopher Beck\\n']   \n",
       "1  ['\\nJ. Carbo\\n', '\\nN. Sanchez\\n', '\\nJ. M. Mo...   \n",
       "2  ['\\nJoaquín Arias\\n', '\\nMar Moreno-Rebato\\n',...   \n",
       "3    ['\\nJohannes Schmalz\\n', '\\nFelipe Trevizan\\n']   \n",
       "4  ['\\nTakanori Ugai\\n', '\\nShusaku Egami\\n', '\\n...   \n",
       "\n",
       "                              Comments  \\\n",
       "0         Manuscript submitted to JACM   \n",
       "1                                  NaN   \n",
       "2                                  NaN   \n",
       "3  Extended version of AAAI 2024 paper   \n",
       "4          7 pages, 2 figures,4 tables   \n",
       "\n",
       "                              Journal_Ref  \\\n",
       "0                                     NaN   \n",
       "1                                     NaN   \n",
       "2  Artificial Intelligence and Law (2023)   \n",
       "3                                     NaN   \n",
       "4                                     NaN   \n",
       "\n",
       "                                           Link Primary_Category  \\\n",
       "0             http://arxiv.org/abs/2401.13883v1            cs.AI   \n",
       "1         http://dx.doi.org/10.1057/jos.2016.10            cs.AI   \n",
       "2  http://dx.doi.org/10.1007/s10506-023-09376-5            cs.AI   \n",
       "3             http://arxiv.org/abs/2401.14636v1            cs.AI   \n",
       "4             http://arxiv.org/abs/2401.14743v1            cs.AI   \n",
       "\n",
       "           Categories                         DOI  License Affiliation  \\\n",
       "0           ['cs.AI']                         NaN      NaN          []   \n",
       "1           ['cs.AI']         10.1057/jos.2016.10      NaN          []   \n",
       "2  ['cs.AI', 'I.2.1']  10.1007/s10506-023-09376-5      NaN          []   \n",
       "3           ['cs.AI']                         NaN      NaN          []   \n",
       "4           ['cs.AI']                         NaN      NaN          []   \n",
       "\n",
       "   Unnamed: 0  \n",
       "0         NaN  \n",
       "1         NaN  \n",
       "2         NaN  \n",
       "3         NaN  \n",
       "4         NaN  "
      ]
     },
     "execution_count": 209,
     "metadata": {},
     "output_type": "execute_result"
    }
   ],
   "source": [
    "%%time\n",
    "df1a = pd.read_csv('arxiv_datasets/cs.AI_1.csv') # Artificial Intelligence 1\n",
    "df1b = pd.read_csv('arxiv_datasets/cs.AI_2.csv') # Artificial Intelligence 2\n",
    "df2 = pd.read_csv('arxiv_datasets/cs.CC.csv') # Computing and Computation\n",
    "df3 = pd.read_csv('arxiv_datasets/cs.CE.csv') # Computational Engineering, Finance, and Science\n",
    "df4 = pd.read_csv('arxiv_datasets/cs.CG.csv') # Computational Geometry\n",
    "df5 = pd.read_csv('arxiv_datasets/cs.CL.csv') # Computation and Language\n",
    "df6a = pd.read_csv('arxiv_datasets/cs.CV_1.csv') # Computer Vision and Pattern Recognition 1\n",
    "df6b = pd.read_csv('arxiv_datasets/cs.CV_2.csv') # Computer Vision and Pattern Recognition 2\n",
    "df7 = pd.read_csv('arxiv_datasets/cs.CY.csv') # Cybernetics\n",
    "df8 = pd.read_csv('arxiv_datasets/cs.DB.csv') # Databases\n",
    "df9 = pd.read_csv('arxiv_datasets/cs.DC.csv') # Distributed, Parallel, and Cluster Computing\n",
    "df10 = pd.read_csv('arxiv_datasets/cs.DL.csv') # Machine Learning\n",
    "df11 = pd.read_csv('arxiv_datasets/cs.DS.csv') # Data Structures and Algorithms\n",
    "df12 = pd.read_csv('arxiv_datasets/cs.ET.csv') # Emerging Technologies\n",
    "df13 = pd.read_csv('arxiv_datasets/cs.FL.csv') # Formal Languages and Automata Theory\n",
    "df14 = pd.read_csv('arxiv_datasets/cs.GL.csv') # General Literature\n",
    "df15 = pd.read_csv('arxiv_datasets/cs.GR.csv') # Graphics\n",
    "df16 = pd.read_csv('arxiv_datasets/cs.GT.csv') # Computer Science and Game Theory\n",
    "df17 = pd.read_csv('arxiv_datasets/cs.AR.csv') # Hardware Architecture\n",
    "df18 = pd.read_csv('arxiv_datasets/cs.HC.csv') # Human-Computer Interaction\n",
    "df19 = pd.read_csv('arxiv_datasets/cs.IR.csv') # Information Retrieval\n",
    "df20 = pd.read_csv('arxiv_datasets/cs.IT.csv') # Information Theory\n",
    "df21 = pd.read_csv('arxiv_datasets/cs.LO.csv') # Logic in Computer Science\n",
    "df22a = pd.read_csv('arxiv_datasets/cs.LG_1.csv') # Learning 1\n",
    "df22b = pd.read_csv('arxiv_datasets/cs.LG_2.csv') # Learning 2\n",
    "df22c = pd.read_csv('arxiv_datasets/cs.LG_3.csv') # Learning 3\n",
    "df23 = pd.read_csv('arxiv_datasets/cs.MA.csv') # Mathematical Aspects\n",
    "df24 = pd.read_csv('arxiv_datasets/cs.MS.csv') # Multimedia\n",
    "df25 = pd.read_csv('arxiv_datasets/cs.NI.csv') # Networking and Internet Architecture\n",
    "df26 = pd.read_csv('arxiv_datasets/cs.NE.csv') # Neural and Evolutionary Computing\n",
    "df27 = pd.read_csv('arxiv_datasets/cs.NA.csv') # Numerical Analysis\n",
    "df28 = pd.read_csv('arxiv_datasets/cs.OS.csv') # Operating Systems\n",
    "df29 = pd.read_csv('arxiv_datasets/cs.PF.csv') # Performance\n",
    "df30 = pd.read_csv('arxiv_datasets/cs.PL.csv') # Programming Languages\n",
    "df31 = pd.read_csv('arxiv_datasets/cs.RO.csv') # Robotics\n",
    "df32 = pd.read_csv('arxiv_datasets/cs.SI.csv') # Social and Information Networks\n",
    "df33 = pd.read_csv('arxiv_datasets/cs.SD.csv') # Sound\n",
    "df34 = pd.read_csv('arxiv_datasets/cs.SE.csv') # Software Engineering\n",
    "df35 = pd.read_csv('arxiv_datasets/cs.SC.csv') # Symbolic Computation\n",
    "df36 = pd.read_csv('arxiv_datasets/cs.SY.csv') # Systems and Control\n",
    "df37 = pd.read_csv('arxiv_datasets/cs.CR.csv') # Cryptography and Security\n",
    "df38 = pd.read_csv('arxiv_datasets/cs.DM.csv') # Discrete Mathematics\n",
    "\n",
    "# Concatenating multiple DataFrames into one DataFrame\n",
    "# The naming convention suggests that 'df1a' and 'df1b' represent different parts of the same category, 'cs.AI'\n",
    "# Similarly, 'df22a', 'df22b', and 'df22c' represent different parts of the category 'cs.LG'\n",
    "# These parts are split due to file size limitations\n",
    "df = pd.concat([\n",
    "    df1a, df1b, df2, df3, df4, df5, df6a, df6b, df7, df8, df9, df10,\n",
    "    df11, df12, df13, df14, df15, df16, df17, df18, df19, df20,\n",
    "    df21, df22a, df22b, df22c, df23, df24, df25, df26, df27, df28, df29, df30,\n",
    "    df31, df32, df33, df34, df35, df36, df37, df38\n",
    "]).reset_index(drop=True)\n",
    "df.head()"
   ]
  },
  {
   "cell_type": "markdown",
   "id": "8ef73e3a-847a-4334-b33e-28dfb14ee69c",
   "metadata": {},
   "source": [
    "### Data Pre-processing"
   ]
  },
  {
   "cell_type": "code",
   "execution_count": 205,
   "id": "12c9c4ff-6c75-43b2-a000-e5e924104b2f",
   "metadata": {
    "execution": {
     "iopub.execute_input": "2024-04-01T21:52:19.829433Z",
     "iopub.status.busy": "2024-04-01T21:52:19.828470Z",
     "iopub.status.idle": "2024-04-01T21:53:36.494352Z",
     "shell.execute_reply": "2024-04-01T21:53:36.493382Z",
     "shell.execute_reply.started": "2024-04-01T21:52:19.829433Z"
    },
    "tags": []
   },
   "outputs": [
    {
     "name": "stdout",
     "output_type": "stream",
     "text": [
      "(9968, 3)\n",
      "Total tokens in dataset: 8616096\n",
      "CPU times: total: 1min 16s\n",
      "Wall time: 1min 16s\n"
     ]
    },
    {
     "data": {
      "text/html": [
       "<div>\n",
       "<style scoped>\n",
       "    .dataframe tbody tr th:only-of-type {\n",
       "        vertical-align: middle;\n",
       "    }\n",
       "\n",
       "    .dataframe tbody tr th {\n",
       "        vertical-align: top;\n",
       "    }\n",
       "\n",
       "    .dataframe thead th {\n",
       "        text-align: right;\n",
       "    }\n",
       "</style>\n",
       "<table border=\"1\" class=\"dataframe\">\n",
       "  <thead>\n",
       "    <tr style=\"text-align: right;\">\n",
       "      <th></th>\n",
       "      <th>pub_date</th>\n",
       "      <th>cleaned_text</th>\n",
       "      <th>number_of_papers</th>\n",
       "      <th>number_of_tokens</th>\n",
       "      <th>unique_tokens</th>\n",
       "    </tr>\n",
       "  </thead>\n",
       "  <tbody>\n",
       "    <tr>\n",
       "      <th>0</th>\n",
       "      <td>2012-09-13</td>\n",
       "      <td>theory random real number exceedingly welldeve...</td>\n",
       "      <td>1</td>\n",
       "      <td>43</td>\n",
       "      <td>41</td>\n",
       "    </tr>\n",
       "    <tr>\n",
       "      <th>1</th>\n",
       "      <td>2012-09-17</td>\n",
       "      <td>model stochastic game multiple controller join...</td>\n",
       "      <td>1</td>\n",
       "      <td>95</td>\n",
       "      <td>57</td>\n",
       "    </tr>\n",
       "    <tr>\n",
       "      <th>2</th>\n",
       "      <td>2012-09-18</td>\n",
       "      <td>show equality language two nonperiodic binary ...</td>\n",
       "      <td>1</td>\n",
       "      <td>25</td>\n",
       "      <td>20</td>\n",
       "    </tr>\n",
       "  </tbody>\n",
       "</table>\n",
       "</div>"
      ],
      "text/plain": [
       "     pub_date                                       cleaned_text  \\\n",
       "0  2012-09-13  theory random real number exceedingly welldeve...   \n",
       "1  2012-09-17  model stochastic game multiple controller join...   \n",
       "2  2012-09-18  show equality language two nonperiodic binary ...   \n",
       "\n",
       "   number_of_papers  number_of_tokens  unique_tokens  \n",
       "0                 1                43             41  \n",
       "1                 1                95             57  \n",
       "2                 1                25             20  "
      ]
     },
     "execution_count": 205,
     "metadata": {},
     "output_type": "execute_result"
    }
   ],
   "source": [
    "%%time\n",
    "\n",
    "# Remove duplicate rows and reset the index\n",
    "df = df.drop_duplicates().reset_index(drop=True)\n",
    "\n",
    "# Selecting specific columns from the DataFrame\n",
    "df = df[['Title', 'Published', 'Summary']]\n",
    "\n",
    "# Assess the size of the dataset\n",
    "print(df.shape)\n",
    "\n",
    "# Initialize WordNet Lemmatizer\n",
    "wnl = WordNetLemmatizer()\n",
    "\n",
    "# Load English stopwords\n",
    "stop_words = set(stopwords.words('english'))\n",
    "\n",
    "def simple_cleaner(my_string):\n",
    "    \"\"\"\n",
    "    Clean the input text by removing punctuation, numbers, converting to lowercase,\n",
    "    lemmatizing words, and removing stopwords.\n",
    "    \n",
    "    Parameters:\n",
    "        my_string (str): Input string to be cleaned.\n",
    "        \n",
    "    Returns:\n",
    "        str: Cleaned text.\n",
    "    \"\"\"\n",
    "    # Remove punctuation and numbers using regex\n",
    "    my_string = re.sub(r'[^\\w\\s]', '', my_string)  # Remove punctuation\n",
    "    my_string = re.sub(r'\\d+', '', my_string)       # Remove numbers\n",
    "    \n",
    "    # Lowercase the text, split into words, lemmatize, and remove stopwords\n",
    "    my_string = [wnl.lemmatize(w) for w in my_string.lower().split() if w not in stop_words]\n",
    "    \n",
    "    # Join the lemmatized words back into a string\n",
    "    return \" \".join(my_string)\n",
    "\n",
    "def preprocess_text(text):\n",
    "    # Tokenization\n",
    "    tokens = word_tokenize(text.lower())\n",
    "\n",
    "    # Remove punctuation\n",
    "    table = str.maketrans('', '', string.punctuation)\n",
    "    stripped = [w.translate(table) for w in tokens]\n",
    "\n",
    "    # Define custom stopwords\n",
    "    custom_stopwords = ['ab', 'abboud']\n",
    "\n",
    "    # Combine NLTK stopwords with custom stopwords\n",
    "    stop_words = set(stopwords.words('english') + custom_stopwords)\n",
    "\n",
    "    # Remove stopwords\n",
    "    words = [w for w in stripped if not w in stop_words]\n",
    "\n",
    "    # # Lemmatization\n",
    "    # lemmatizer = WordNetLemmatizer()\n",
    "    # words = [lemmatizer.lemmatize(w) for w in words]\n",
    "\n",
    "    return ' '.join(words)\n",
    "\n",
    "# Applying the 'simple_cleaner' function to the 'Summary' column and storing the result in a new column 'cleaned_text'\n",
    "df['cleaned_text'] = df['Summary'].apply(simple_cleaner)\n",
    "\n",
    "# Initialize the inflect engine\n",
    "p = inflect.engine()\n",
    "\n",
    "# Example text\n",
    "my_text = \"Hello world or worlds this is a test or tests to check functionality functionalities\"\n",
    "\n",
    "# Function to convert plural nouns to singular nouns\n",
    "def singular_maker(text):\n",
    "    return \" \".join([p.singular_noun(word) or word for word in text])\n",
    "\n",
    "# Example of using the 'singular_maker' function\n",
    "singular_maker(my_text.split())\n",
    "\n",
    "# Check if 'datasets' is a singular noun\n",
    "p.singular_noun('datasets')\n",
    "\n",
    "# Convert 'Published' column to datetime\n",
    "df['pub_date'] = pd.to_datetime(df['Published']).dt.date\n",
    "\n",
    "# Group by publication date and concatenate strings\n",
    "date_df = pd.DataFrame(df.groupby('pub_date')['cleaned_text'].sum()).reset_index()\n",
    "\n",
    "# Apply 'singular_maker' function to the concatenated text\n",
    "date_df['cleaned_text'] = date_df['cleaned_text'].str.split().apply(singular_maker)\n",
    "\n",
    "# Count the number of papers per day\n",
    "date_df['number_of_papers'] = [num for num in df.groupby('pub_date')['cleaned_text'].count()]\n",
    "\n",
    "# Count number of tokens per day\n",
    "date_df['number_of_tokens'] = date_df['cleaned_text'].str.split().apply(len)\n",
    "\n",
    "# Count number of unique tokens per day\n",
    "date_df['unique_tokens'] = date_df['cleaned_text'].str.split().apply(set).apply(len)\n",
    "\n",
    "# Print total tokens in the dataset\n",
    "print(f\"Total tokens in dataset: {date_df['cleaned_text'].apply(len).sum()}\")\n",
    "\n",
    "date_df.head(3)"
   ]
  },
  {
   "cell_type": "code",
   "execution_count": 107,
   "id": "dcfa4d42-2100-40b4-8729-7d0f243b0ba7",
   "metadata": {
    "execution": {
     "iopub.execute_input": "2024-04-01T21:35:13.045174Z",
     "iopub.status.busy": "2024-04-01T21:35:13.044174Z",
     "iopub.status.idle": "2024-04-01T21:35:16.707287Z",
     "shell.execute_reply": "2024-04-01T21:35:16.706285Z",
     "shell.execute_reply.started": "2024-04-01T21:35:13.045174Z"
    },
    "tags": []
   },
   "outputs": [
    {
     "data": {
      "text/html": [
       "<div>\n",
       "<style scoped>\n",
       "    .dataframe tbody tr th:only-of-type {\n",
       "        vertical-align: middle;\n",
       "    }\n",
       "\n",
       "    .dataframe tbody tr th {\n",
       "        vertical-align: top;\n",
       "    }\n",
       "\n",
       "    .dataframe thead th {\n",
       "        text-align: right;\n",
       "    }\n",
       "</style>\n",
       "<table border=\"1\" class=\"dataframe\">\n",
       "  <thead>\n",
       "    <tr style=\"text-align: right;\">\n",
       "      <th></th>\n",
       "      <th>Unnamed: 0</th>\n",
       "      <th>pub_date</th>\n",
       "      <th>cleaned_text</th>\n",
       "      <th>number_of_papers</th>\n",
       "      <th>number_of_tokens</th>\n",
       "      <th>unique_tokens</th>\n",
       "    </tr>\n",
       "  </thead>\n",
       "  <tbody>\n",
       "    <tr>\n",
       "      <th>0</th>\n",
       "      <td>0</td>\n",
       "      <td>2012-09-12</td>\n",
       "      <td>backpropagation algorithm one widely used popu...</td>\n",
       "      <td>18</td>\n",
       "      <td>1688</td>\n",
       "      <td>941</td>\n",
       "    </tr>\n",
       "    <tr>\n",
       "      <th>1</th>\n",
       "      <td>1</td>\n",
       "      <td>2012-09-13</td>\n",
       "      <td>theory random real number exceedingly welldeve...</td>\n",
       "      <td>12</td>\n",
       "      <td>1175</td>\n",
       "      <td>648</td>\n",
       "    </tr>\n",
       "    <tr>\n",
       "      <th>2</th>\n",
       "      <td>2</td>\n",
       "      <td>2012-09-14</td>\n",
       "      <td>automatic text summarization preprocessing imp...</td>\n",
       "      <td>31</td>\n",
       "      <td>2898</td>\n",
       "      <td>1350</td>\n",
       "    </tr>\n",
       "    <tr>\n",
       "      <th>3</th>\n",
       "      <td>3</td>\n",
       "      <td>2012-09-15</td>\n",
       "      <td>several variant constraint satisfaction proble...</td>\n",
       "      <td>18</td>\n",
       "      <td>1494</td>\n",
       "      <td>821</td>\n",
       "    </tr>\n",
       "    <tr>\n",
       "      <th>4</th>\n",
       "      <td>4</td>\n",
       "      <td>2012-09-16</td>\n",
       "      <td>present framework largescale distributed escie...</td>\n",
       "      <td>10</td>\n",
       "      <td>933</td>\n",
       "      <td>589</td>\n",
       "    </tr>\n",
       "  </tbody>\n",
       "</table>\n",
       "</div>"
      ],
      "text/plain": [
       "   Unnamed: 0    pub_date                                       cleaned_text  \\\n",
       "0           0  2012-09-12  backpropagation algorithm one widely used popu...   \n",
       "1           1  2012-09-13  theory random real number exceedingly welldeve...   \n",
       "2           2  2012-09-14  automatic text summarization preprocessing imp...   \n",
       "3           3  2012-09-15  several variant constraint satisfaction proble...   \n",
       "4           4  2012-09-16  present framework largescale distributed escie...   \n",
       "\n",
       "   number_of_papers  number_of_tokens  unique_tokens  \n",
       "0                18              1688            941  \n",
       "1                12              1175            648  \n",
       "2                31              2898           1350  \n",
       "3                18              1494            821  \n",
       "4                10               933            589  "
      ]
     },
     "execution_count": 107,
     "metadata": {},
     "output_type": "execute_result"
    }
   ],
   "source": [
    "# Save and read in the DataFrame to a CSV file for quicker access\n",
    "# date_df.to_csv(\"processed_df.csv\", index=False)\n",
    "\n",
    "date_df = pd.read_csv('processed_df.csv')\n",
    "date_df.head()"
   ]
  },
  {
   "cell_type": "code",
   "execution_count": 210,
   "id": "f17b8dec-3d44-4500-8525-00d83e642acd",
   "metadata": {
    "execution": {
     "iopub.execute_input": "2024-04-01T21:57:15.265174Z",
     "iopub.status.busy": "2024-04-01T21:57:15.264171Z",
     "iopub.status.idle": "2024-04-01T21:57:15.469171Z",
     "shell.execute_reply": "2024-04-01T21:57:15.468173Z",
     "shell.execute_reply.started": "2024-04-01T21:57:15.265174Z"
    },
    "tags": []
   },
   "outputs": [
    {
     "data": {
      "text/html": [
       "<div>\n",
       "<style scoped>\n",
       "    .dataframe tbody tr th:only-of-type {\n",
       "        vertical-align: middle;\n",
       "    }\n",
       "\n",
       "    .dataframe tbody tr th {\n",
       "        vertical-align: top;\n",
       "    }\n",
       "\n",
       "    .dataframe thead th {\n",
       "        text-align: right;\n",
       "    }\n",
       "</style>\n",
       "<table border=\"1\" class=\"dataframe\">\n",
       "  <thead>\n",
       "    <tr style=\"text-align: right;\">\n",
       "      <th></th>\n",
       "      <th>Title</th>\n",
       "      <th>ID</th>\n",
       "      <th>Published</th>\n",
       "      <th>Updated</th>\n",
       "      <th>Summary</th>\n",
       "      <th>Author</th>\n",
       "      <th>Comments</th>\n",
       "      <th>Journal_Ref</th>\n",
       "      <th>Link</th>\n",
       "      <th>Primary_Category</th>\n",
       "      <th>Categories</th>\n",
       "      <th>DOI</th>\n",
       "      <th>License</th>\n",
       "      <th>Affiliation</th>\n",
       "      <th>Unnamed: 0</th>\n",
       "    </tr>\n",
       "  </thead>\n",
       "  <tbody>\n",
       "    <tr>\n",
       "      <th>145319</th>\n",
       "      <td>Improving CLIP Training with Language Rewrites</td>\n",
       "      <td>http://arxiv.org/abs/2305.20088v2</td>\n",
       "      <td>2023-05-31T17:59:04Z</td>\n",
       "      <td>2023-10-28T08:46:13Z</td>\n",
       "      <td>Contrastive Language-Image Pre-training (CLI...</td>\n",
       "      <td>['\\nLijie Fan\\n', '\\nDilip Krishnan\\n', '\\nPhi...</td>\n",
       "      <td>NeurIPS 2023</td>\n",
       "      <td>NaN</td>\n",
       "      <td>http://arxiv.org/abs/2305.20088v2</td>\n",
       "      <td>cs.CV</td>\n",
       "      <td>['cs.CV', 'cs.CL', 'cs.LG']</td>\n",
       "      <td>NaN</td>\n",
       "      <td>NaN</td>\n",
       "      <td>[]</td>\n",
       "      <td>NaN</td>\n",
       "    </tr>\n",
       "    <tr>\n",
       "      <th>523953</th>\n",
       "      <td>Some challenges of calibrating differentiable ...</td>\n",
       "      <td>http://arxiv.org/abs/2307.01085v1</td>\n",
       "      <td>2023-07-03T15:07:10Z</td>\n",
       "      <td>2023-07-03T15:07:10Z</td>\n",
       "      <td>Agent-based models (ABMs) are a promising ap...</td>\n",
       "      <td>['\\nArnau Quera-Bofarull\\n', '\\nJoel Dyer\\n', ...</td>\n",
       "      <td>Accepted at the ICML 2023 Differentiable Almos...</td>\n",
       "      <td>NaN</td>\n",
       "      <td>http://arxiv.org/abs/2307.01085v1</td>\n",
       "      <td>cs.MA</td>\n",
       "      <td>['cs.MA', 'cs.AI', 'q-fin.TR', 'stat.ML']</td>\n",
       "      <td>NaN</td>\n",
       "      <td>NaN</td>\n",
       "      <td>[]</td>\n",
       "      <td>NaN</td>\n",
       "    </tr>\n",
       "    <tr>\n",
       "      <th>10378</th>\n",
       "      <td>Building Safe and Reliable AI systems for Safe...</td>\n",
       "      <td>http://arxiv.org/abs/2308.03176v1</td>\n",
       "      <td>2023-08-06T18:05:59Z</td>\n",
       "      <td>2023-08-06T18:05:59Z</td>\n",
       "      <td>Although AI systems have been applied in var...</td>\n",
       "      <td>['\\nShuang Ao\\n']</td>\n",
       "      <td>4 pages</td>\n",
       "      <td>2023</td>\n",
       "      <td>http://arxiv.org/abs/2308.03176v1</td>\n",
       "      <td>cs.AI</td>\n",
       "      <td>['cs.AI']</td>\n",
       "      <td>NaN</td>\n",
       "      <td>NaN</td>\n",
       "      <td>[]</td>\n",
       "      <td>NaN</td>\n",
       "    </tr>\n",
       "    <tr>\n",
       "      <th>370564</th>\n",
       "      <td>Set-Theoretic and Type-Theoretic Ordinals Coin...</td>\n",
       "      <td>http://arxiv.org/abs/2301.10696v3</td>\n",
       "      <td>2023-01-25T16:59:23Z</td>\n",
       "      <td>2023-06-12T21:12:33Z</td>\n",
       "      <td>In constructive set theory, an ordinal is a ...</td>\n",
       "      <td>['\\nTom de Jong\\n', '\\nNicolai Kraus\\n', '\\nFr...</td>\n",
       "      <td>v2: Minor changes. To appear at LICS'23. v3: A...</td>\n",
       "      <td>38th Annual ACM/IEEE Symposium on Logic in Com...</td>\n",
       "      <td>http://dx.doi.org/10.1109/LICS56636.2023.10175762</td>\n",
       "      <td>cs.LO</td>\n",
       "      <td>['cs.LO', 'math.LO']</td>\n",
       "      <td>10.1109/LICS56636.2023.10175762</td>\n",
       "      <td>NaN</td>\n",
       "      <td>[]</td>\n",
       "      <td>NaN</td>\n",
       "    </tr>\n",
       "    <tr>\n",
       "      <th>256472</th>\n",
       "      <td>The Energy Complexity of BFS in Radio Networks</td>\n",
       "      <td>http://arxiv.org/abs/2007.09816v1</td>\n",
       "      <td>2020-07-19T23:26:59Z</td>\n",
       "      <td>2020-07-19T23:26:59Z</td>\n",
       "      <td>We consider a model of energy complexity in ...</td>\n",
       "      <td>['\\nYi-Jun Chang\\n', '\\nVarsha Dani\\n', '\\nTho...</td>\n",
       "      <td>To appear in PODC 2020</td>\n",
       "      <td>NaN</td>\n",
       "      <td>http://arxiv.org/abs/2007.09816v1</td>\n",
       "      <td>cs.DS</td>\n",
       "      <td>['cs.DS', 'cs.DC']</td>\n",
       "      <td>NaN</td>\n",
       "      <td>NaN</td>\n",
       "      <td>[]</td>\n",
       "      <td>NaN</td>\n",
       "    </tr>\n",
       "    <tr>\n",
       "      <th>...</th>\n",
       "      <td>...</td>\n",
       "      <td>...</td>\n",
       "      <td>...</td>\n",
       "      <td>...</td>\n",
       "      <td>...</td>\n",
       "      <td>...</td>\n",
       "      <td>...</td>\n",
       "      <td>...</td>\n",
       "      <td>...</td>\n",
       "      <td>...</td>\n",
       "      <td>...</td>\n",
       "      <td>...</td>\n",
       "      <td>...</td>\n",
       "      <td>...</td>\n",
       "      <td>...</td>\n",
       "    </tr>\n",
       "    <tr>\n",
       "      <th>328018</th>\n",
       "      <td>Using Neighborhood Context to Improve Informat...</td>\n",
       "      <td>http://arxiv.org/abs/2108.10395v1</td>\n",
       "      <td>2021-08-23T20:30:48Z</td>\n",
       "      <td>2021-08-23T20:30:48Z</td>\n",
       "      <td>Information Extraction from visual documents...</td>\n",
       "      <td>['\\nKalpa Gunaratna\\n', '\\nVijay Srinivasan\\n'...</td>\n",
       "      <td>accepted at CIKM 2021, pre-print version</td>\n",
       "      <td>NaN</td>\n",
       "      <td>http://dx.doi.org/10.1145/3459637.3482211</td>\n",
       "      <td>cs.LG</td>\n",
       "      <td>['cs.LG', 'cs.IR']</td>\n",
       "      <td>10.1145/3459637.3482211</td>\n",
       "      <td>NaN</td>\n",
       "      <td>[]</td>\n",
       "      <td>NaN</td>\n",
       "    </tr>\n",
       "    <tr>\n",
       "      <th>525352</th>\n",
       "      <td>Constructing games on networks for controlling...</td>\n",
       "      <td>http://arxiv.org/abs/2201.10913v1</td>\n",
       "      <td>2022-01-26T13:02:45Z</td>\n",
       "      <td>2022-01-26T13:02:45Z</td>\n",
       "      <td>The inequality in capital or resource distri...</td>\n",
       "      <td>['\\nJarosław Adam Miszczak\\n']</td>\n",
       "      <td>13 pages, 4 figures, source code available at\\...</td>\n",
       "      <td>Physica A: Statistical Mechanics and its Appli...</td>\n",
       "      <td>http://dx.doi.org/10.1016/j.physa.2022.126997</td>\n",
       "      <td>physics.soc-ph</td>\n",
       "      <td>['physics.soc-ph', 'cond-mat.stat-mech', 'cs.G...</td>\n",
       "      <td>10.1016/j.physa.2022.126997</td>\n",
       "      <td>NaN</td>\n",
       "      <td>[]</td>\n",
       "      <td>NaN</td>\n",
       "    </tr>\n",
       "    <tr>\n",
       "      <th>482202</th>\n",
       "      <td>Personalized Activity Recognition with Deep Tr...</td>\n",
       "      <td>http://arxiv.org/abs/2001.05517v1</td>\n",
       "      <td>2020-01-15T19:17:02Z</td>\n",
       "      <td>2020-01-15T19:17:02Z</td>\n",
       "      <td>A significant challenge for a supervised lea...</td>\n",
       "      <td>['\\nDavid M. Burns\\n', '\\nCari M. Whyne\\n']</td>\n",
       "      <td>NaN</td>\n",
       "      <td>NaN</td>\n",
       "      <td>http://arxiv.org/abs/2001.05517v1</td>\n",
       "      <td>stat.ML</td>\n",
       "      <td>['stat.ML', 'cs.LG', 'I.2.1']</td>\n",
       "      <td>NaN</td>\n",
       "      <td>NaN</td>\n",
       "      <td>[]</td>\n",
       "      <td>1699.0</td>\n",
       "    </tr>\n",
       "    <tr>\n",
       "      <th>127450</th>\n",
       "      <td>Attention-Based Multimodal Fusion for Video De...</td>\n",
       "      <td>http://arxiv.org/abs/1701.03126v2</td>\n",
       "      <td>2017-01-11T19:16:42Z</td>\n",
       "      <td>2017-03-09T22:57:10Z</td>\n",
       "      <td>Currently successful methods for video descr...</td>\n",
       "      <td>['\\nChiori Hori\\n', '\\nTakaaki Hori\\n', '\\nTen...</td>\n",
       "      <td>Resubmitted to the rebuttal for CVPR 2017 for ...</td>\n",
       "      <td>NaN</td>\n",
       "      <td>http://arxiv.org/abs/1701.03126v2</td>\n",
       "      <td>cs.CV</td>\n",
       "      <td>['cs.CV', 'cs.CL', 'cs.MM']</td>\n",
       "      <td>NaN</td>\n",
       "      <td>NaN</td>\n",
       "      <td>[]</td>\n",
       "      <td>NaN</td>\n",
       "    </tr>\n",
       "    <tr>\n",
       "      <th>73813</th>\n",
       "      <td>A simulation method for the wetting dynamics o...</td>\n",
       "      <td>http://arxiv.org/abs/2312.01817v2</td>\n",
       "      <td>2023-12-04T11:45:55Z</td>\n",
       "      <td>2024-02-20T08:48:57Z</td>\n",
       "      <td>Biological cells utilize membranes and liqui...</td>\n",
       "      <td>['\\nMarcel Mokbel\\n', '\\nDominic Mokbel\\n', '\\...</td>\n",
       "      <td>NaN</td>\n",
       "      <td>NaN</td>\n",
       "      <td>http://arxiv.org/abs/2312.01817v2</td>\n",
       "      <td>cond-mat.soft</td>\n",
       "      <td>['cond-mat.soft', 'cs.CE', 'physics.bio-ph', '...</td>\n",
       "      <td>NaN</td>\n",
       "      <td>NaN</td>\n",
       "      <td>[]</td>\n",
       "      <td>NaN</td>\n",
       "    </tr>\n",
       "  </tbody>\n",
       "</table>\n",
       "<p>10000 rows × 15 columns</p>\n",
       "</div>"
      ],
      "text/plain": [
       "                                                    Title  \\\n",
       "145319     Improving CLIP Training with Language Rewrites   \n",
       "523953  Some challenges of calibrating differentiable ...   \n",
       "10378   Building Safe and Reliable AI systems for Safe...   \n",
       "370564  Set-Theoretic and Type-Theoretic Ordinals Coin...   \n",
       "256472     The Energy Complexity of BFS in Radio Networks   \n",
       "...                                                   ...   \n",
       "328018  Using Neighborhood Context to Improve Informat...   \n",
       "525352  Constructing games on networks for controlling...   \n",
       "482202  Personalized Activity Recognition with Deep Tr...   \n",
       "127450  Attention-Based Multimodal Fusion for Video De...   \n",
       "73813   A simulation method for the wetting dynamics o...   \n",
       "\n",
       "                                       ID             Published  \\\n",
       "145319  http://arxiv.org/abs/2305.20088v2  2023-05-31T17:59:04Z   \n",
       "523953  http://arxiv.org/abs/2307.01085v1  2023-07-03T15:07:10Z   \n",
       "10378   http://arxiv.org/abs/2308.03176v1  2023-08-06T18:05:59Z   \n",
       "370564  http://arxiv.org/abs/2301.10696v3  2023-01-25T16:59:23Z   \n",
       "256472  http://arxiv.org/abs/2007.09816v1  2020-07-19T23:26:59Z   \n",
       "...                                   ...                   ...   \n",
       "328018  http://arxiv.org/abs/2108.10395v1  2021-08-23T20:30:48Z   \n",
       "525352  http://arxiv.org/abs/2201.10913v1  2022-01-26T13:02:45Z   \n",
       "482202  http://arxiv.org/abs/2001.05517v1  2020-01-15T19:17:02Z   \n",
       "127450  http://arxiv.org/abs/1701.03126v2  2017-01-11T19:16:42Z   \n",
       "73813   http://arxiv.org/abs/2312.01817v2  2023-12-04T11:45:55Z   \n",
       "\n",
       "                     Updated  \\\n",
       "145319  2023-10-28T08:46:13Z   \n",
       "523953  2023-07-03T15:07:10Z   \n",
       "10378   2023-08-06T18:05:59Z   \n",
       "370564  2023-06-12T21:12:33Z   \n",
       "256472  2020-07-19T23:26:59Z   \n",
       "...                      ...   \n",
       "328018  2021-08-23T20:30:48Z   \n",
       "525352  2022-01-26T13:02:45Z   \n",
       "482202  2020-01-15T19:17:02Z   \n",
       "127450  2017-03-09T22:57:10Z   \n",
       "73813   2024-02-20T08:48:57Z   \n",
       "\n",
       "                                                  Summary  \\\n",
       "145319    Contrastive Language-Image Pre-training (CLI...   \n",
       "523953    Agent-based models (ABMs) are a promising ap...   \n",
       "10378     Although AI systems have been applied in var...   \n",
       "370564    In constructive set theory, an ordinal is a ...   \n",
       "256472    We consider a model of energy complexity in ...   \n",
       "...                                                   ...   \n",
       "328018    Information Extraction from visual documents...   \n",
       "525352    The inequality in capital or resource distri...   \n",
       "482202    A significant challenge for a supervised lea...   \n",
       "127450    Currently successful methods for video descr...   \n",
       "73813     Biological cells utilize membranes and liqui...   \n",
       "\n",
       "                                                   Author  \\\n",
       "145319  ['\\nLijie Fan\\n', '\\nDilip Krishnan\\n', '\\nPhi...   \n",
       "523953  ['\\nArnau Quera-Bofarull\\n', '\\nJoel Dyer\\n', ...   \n",
       "10378                                   ['\\nShuang Ao\\n']   \n",
       "370564  ['\\nTom de Jong\\n', '\\nNicolai Kraus\\n', '\\nFr...   \n",
       "256472  ['\\nYi-Jun Chang\\n', '\\nVarsha Dani\\n', '\\nTho...   \n",
       "...                                                   ...   \n",
       "328018  ['\\nKalpa Gunaratna\\n', '\\nVijay Srinivasan\\n'...   \n",
       "525352                     ['\\nJarosław Adam Miszczak\\n']   \n",
       "482202        ['\\nDavid M. Burns\\n', '\\nCari M. Whyne\\n']   \n",
       "127450  ['\\nChiori Hori\\n', '\\nTakaaki Hori\\n', '\\nTen...   \n",
       "73813   ['\\nMarcel Mokbel\\n', '\\nDominic Mokbel\\n', '\\...   \n",
       "\n",
       "                                                 Comments  \\\n",
       "145319                                       NeurIPS 2023   \n",
       "523953  Accepted at the ICML 2023 Differentiable Almos...   \n",
       "10378                                             4 pages   \n",
       "370564  v2: Minor changes. To appear at LICS'23. v3: A...   \n",
       "256472                             To appear in PODC 2020   \n",
       "...                                                   ...   \n",
       "328018           accepted at CIKM 2021, pre-print version   \n",
       "525352  13 pages, 4 figures, source code available at\\...   \n",
       "482202                                                NaN   \n",
       "127450  Resubmitted to the rebuttal for CVPR 2017 for ...   \n",
       "73813                                                 NaN   \n",
       "\n",
       "                                              Journal_Ref  \\\n",
       "145319                                                NaN   \n",
       "523953                                                NaN   \n",
       "10378                                                2023   \n",
       "370564  38th Annual ACM/IEEE Symposium on Logic in Com...   \n",
       "256472                                                NaN   \n",
       "...                                                   ...   \n",
       "328018                                                NaN   \n",
       "525352  Physica A: Statistical Mechanics and its Appli...   \n",
       "482202                                                NaN   \n",
       "127450                                                NaN   \n",
       "73813                                                 NaN   \n",
       "\n",
       "                                                     Link Primary_Category  \\\n",
       "145319                  http://arxiv.org/abs/2305.20088v2            cs.CV   \n",
       "523953                  http://arxiv.org/abs/2307.01085v1            cs.MA   \n",
       "10378                   http://arxiv.org/abs/2308.03176v1            cs.AI   \n",
       "370564  http://dx.doi.org/10.1109/LICS56636.2023.10175762            cs.LO   \n",
       "256472                  http://arxiv.org/abs/2007.09816v1            cs.DS   \n",
       "...                                                   ...              ...   \n",
       "328018          http://dx.doi.org/10.1145/3459637.3482211            cs.LG   \n",
       "525352      http://dx.doi.org/10.1016/j.physa.2022.126997   physics.soc-ph   \n",
       "482202                  http://arxiv.org/abs/2001.05517v1          stat.ML   \n",
       "127450                  http://arxiv.org/abs/1701.03126v2            cs.CV   \n",
       "73813                   http://arxiv.org/abs/2312.01817v2    cond-mat.soft   \n",
       "\n",
       "                                               Categories  \\\n",
       "145319                        ['cs.CV', 'cs.CL', 'cs.LG']   \n",
       "523953          ['cs.MA', 'cs.AI', 'q-fin.TR', 'stat.ML']   \n",
       "10378                                           ['cs.AI']   \n",
       "370564                               ['cs.LO', 'math.LO']   \n",
       "256472                                 ['cs.DS', 'cs.DC']   \n",
       "...                                                   ...   \n",
       "328018                                 ['cs.LG', 'cs.IR']   \n",
       "525352  ['physics.soc-ph', 'cond-mat.stat-mech', 'cs.G...   \n",
       "482202                      ['stat.ML', 'cs.LG', 'I.2.1']   \n",
       "127450                        ['cs.CV', 'cs.CL', 'cs.MM']   \n",
       "73813   ['cond-mat.soft', 'cs.CE', 'physics.bio-ph', '...   \n",
       "\n",
       "                                    DOI  License Affiliation  Unnamed: 0  \n",
       "145319                              NaN      NaN          []         NaN  \n",
       "523953                              NaN      NaN          []         NaN  \n",
       "10378                               NaN      NaN          []         NaN  \n",
       "370564  10.1109/LICS56636.2023.10175762      NaN          []         NaN  \n",
       "256472                              NaN      NaN          []         NaN  \n",
       "...                                 ...      ...         ...         ...  \n",
       "328018          10.1145/3459637.3482211      NaN          []         NaN  \n",
       "525352      10.1016/j.physa.2022.126997      NaN          []         NaN  \n",
       "482202                              NaN      NaN          []      1699.0  \n",
       "127450                              NaN      NaN          []         NaN  \n",
       "73813                               NaN      NaN          []         NaN  \n",
       "\n",
       "[10000 rows x 15 columns]"
      ]
     },
     "execution_count": 210,
     "metadata": {},
     "output_type": "execute_result"
    }
   ],
   "source": [
    "# Random sample of 100 rows\n",
    "sample_df = df.sample(n=10000, random_state=42)  # You can specify any random state for reproducibility\n",
    "sample_df"
   ]
  },
  {
   "cell_type": "code",
   "execution_count": 211,
   "id": "5bfd403b-f20a-4092-bee3-78c2d64beec7",
   "metadata": {
    "execution": {
     "iopub.execute_input": "2024-04-01T21:57:24.857611Z",
     "iopub.status.busy": "2024-04-01T21:57:24.856611Z",
     "iopub.status.idle": "2024-04-01T21:57:25.034615Z",
     "shell.execute_reply": "2024-04-01T21:57:25.033643Z",
     "shell.execute_reply.started": "2024-04-01T21:57:24.857611Z"
    },
    "tags": []
   },
   "outputs": [],
   "source": [
    "# Re-initialize for less changes of code \n",
    "df = sample_df\n"
   ]
  },
  {
   "cell_type": "code",
   "execution_count": 212,
   "id": "668b6f91-2976-4979-b23b-1ab2f49e4ade",
   "metadata": {
    "execution": {
     "iopub.execute_input": "2024-04-01T21:57:27.060374Z",
     "iopub.status.busy": "2024-04-01T21:57:27.059334Z",
     "iopub.status.idle": "2024-04-01T21:57:43.064616Z",
     "shell.execute_reply": "2024-04-01T21:57:43.063618Z",
     "shell.execute_reply.started": "2024-04-01T21:57:27.060374Z"
    },
    "tags": []
   },
   "outputs": [
    {
     "name": "stdout",
     "output_type": "stream",
     "text": [
      "CPU times: total: 15.8 s\n",
      "Wall time: 15.8 s\n"
     ]
    },
    {
     "data": {
      "text/html": [
       "<div>\n",
       "<style scoped>\n",
       "    .dataframe tbody tr th:only-of-type {\n",
       "        vertical-align: middle;\n",
       "    }\n",
       "\n",
       "    .dataframe tbody tr th {\n",
       "        vertical-align: top;\n",
       "    }\n",
       "\n",
       "    .dataframe thead th {\n",
       "        text-align: right;\n",
       "    }\n",
       "</style>\n",
       "<table border=\"1\" class=\"dataframe\">\n",
       "  <thead>\n",
       "    <tr style=\"text-align: right;\">\n",
       "      <th></th>\n",
       "      <th>Published</th>\n",
       "      <th>Summary</th>\n",
       "      <th>cleaned_text</th>\n",
       "    </tr>\n",
       "  </thead>\n",
       "  <tbody>\n",
       "    <tr>\n",
       "      <th>145319</th>\n",
       "      <td>2023-05-31T17:59:04Z</td>\n",
       "      <td>Contrastive Language-Image Pre-training (CLI...</td>\n",
       "      <td>contrastive languageimage pretraining  clip  s...</td>\n",
       "    </tr>\n",
       "    <tr>\n",
       "      <th>523953</th>\n",
       "      <td>2023-07-03T15:07:10Z</td>\n",
       "      <td>Agent-based models (ABMs) are a promising ap...</td>\n",
       "      <td>agentbased models  abms  promising approach mo...</td>\n",
       "    </tr>\n",
       "    <tr>\n",
       "      <th>10378</th>\n",
       "      <td>2023-08-06T18:05:59Z</td>\n",
       "      <td>Although AI systems have been applied in var...</td>\n",
       "      <td>although ai systems applied various fields ach...</td>\n",
       "    </tr>\n",
       "    <tr>\n",
       "      <th>370564</th>\n",
       "      <td>2023-01-25T16:59:23Z</td>\n",
       "      <td>In constructive set theory, an ordinal is a ...</td>\n",
       "      <td>constructive set theory  ordinal hereditarily ...</td>\n",
       "    </tr>\n",
       "    <tr>\n",
       "      <th>256472</th>\n",
       "      <td>2020-07-19T23:26:59Z</td>\n",
       "      <td>We consider a model of energy complexity in ...</td>\n",
       "      <td>consider model energy complexity radio network...</td>\n",
       "    </tr>\n",
       "    <tr>\n",
       "      <th>...</th>\n",
       "      <td>...</td>\n",
       "      <td>...</td>\n",
       "      <td>...</td>\n",
       "    </tr>\n",
       "    <tr>\n",
       "      <th>328018</th>\n",
       "      <td>2021-08-23T20:30:48Z</td>\n",
       "      <td>Information Extraction from visual documents...</td>\n",
       "      <td>information extraction visual documents enable...</td>\n",
       "    </tr>\n",
       "    <tr>\n",
       "      <th>525352</th>\n",
       "      <td>2022-01-26T13:02:45Z</td>\n",
       "      <td>The inequality in capital or resource distri...</td>\n",
       "      <td>inequality capital resource distribution among...</td>\n",
       "    </tr>\n",
       "    <tr>\n",
       "      <th>482202</th>\n",
       "      <td>2020-01-15T19:17:02Z</td>\n",
       "      <td>A significant challenge for a supervised lea...</td>\n",
       "      <td>significant challenge supervised learning appr...</td>\n",
       "    </tr>\n",
       "    <tr>\n",
       "      <th>127450</th>\n",
       "      <td>2017-01-11T19:16:42Z</td>\n",
       "      <td>Currently successful methods for video descr...</td>\n",
       "      <td>currently successful methods video description...</td>\n",
       "    </tr>\n",
       "    <tr>\n",
       "      <th>73813</th>\n",
       "      <td>2023-12-04T11:45:55Z</td>\n",
       "      <td>Biological cells utilize membranes and liqui...</td>\n",
       "      <td>biological cells utilize membranes liquidlike ...</td>\n",
       "    </tr>\n",
       "  </tbody>\n",
       "</table>\n",
       "<p>10000 rows × 3 columns</p>\n",
       "</div>"
      ],
      "text/plain": [
       "                   Published  \\\n",
       "145319  2023-05-31T17:59:04Z   \n",
       "523953  2023-07-03T15:07:10Z   \n",
       "10378   2023-08-06T18:05:59Z   \n",
       "370564  2023-01-25T16:59:23Z   \n",
       "256472  2020-07-19T23:26:59Z   \n",
       "...                      ...   \n",
       "328018  2021-08-23T20:30:48Z   \n",
       "525352  2022-01-26T13:02:45Z   \n",
       "482202  2020-01-15T19:17:02Z   \n",
       "127450  2017-01-11T19:16:42Z   \n",
       "73813   2023-12-04T11:45:55Z   \n",
       "\n",
       "                                                  Summary  \\\n",
       "145319    Contrastive Language-Image Pre-training (CLI...   \n",
       "523953    Agent-based models (ABMs) are a promising ap...   \n",
       "10378     Although AI systems have been applied in var...   \n",
       "370564    In constructive set theory, an ordinal is a ...   \n",
       "256472    We consider a model of energy complexity in ...   \n",
       "...                                                   ...   \n",
       "328018    Information Extraction from visual documents...   \n",
       "525352    The inequality in capital or resource distri...   \n",
       "482202    A significant challenge for a supervised lea...   \n",
       "127450    Currently successful methods for video descr...   \n",
       "73813     Biological cells utilize membranes and liqui...   \n",
       "\n",
       "                                             cleaned_text  \n",
       "145319  contrastive languageimage pretraining  clip  s...  \n",
       "523953  agentbased models  abms  promising approach mo...  \n",
       "10378   although ai systems applied various fields ach...  \n",
       "370564  constructive set theory  ordinal hereditarily ...  \n",
       "256472  consider model energy complexity radio network...  \n",
       "...                                                   ...  \n",
       "328018  information extraction visual documents enable...  \n",
       "525352  inequality capital resource distribution among...  \n",
       "482202  significant challenge supervised learning appr...  \n",
       "127450  currently successful methods video description...  \n",
       "73813   biological cells utilize membranes liquidlike ...  \n",
       "\n",
       "[10000 rows x 3 columns]"
      ]
     },
     "execution_count": 212,
     "metadata": {},
     "output_type": "execute_result"
    }
   ],
   "source": [
    "%%time\n",
    "\n",
    "b_article_df = df[['Published', 'Summary']].copy()\n",
    "b_article_df\n",
    "\n",
    "# Applying the 'simple_cleaner' function to the 'Summary' column and storing the result in a new column 'cleaned_text'\n",
    "b_article_df['cleaned_text'] = b_article_df['Summary'].apply(preprocess_text)\n",
    "b_article_df"
   ]
  },
  {
   "cell_type": "code",
   "execution_count": 213,
   "id": "5fb90441-8318-4b7b-be4a-2984028f9fd5",
   "metadata": {
    "execution": {
     "iopub.execute_input": "2024-04-01T21:57:43.065653Z",
     "iopub.status.busy": "2024-04-01T21:57:43.065653Z",
     "iopub.status.idle": "2024-04-01T21:57:43.397655Z",
     "shell.execute_reply": "2024-04-01T21:57:43.396665Z",
     "shell.execute_reply.started": "2024-04-01T21:57:43.065653Z"
    },
    "tags": []
   },
   "outputs": [
    {
     "data": {
      "text/html": [
       "<div>\n",
       "<style scoped>\n",
       "    .dataframe tbody tr th:only-of-type {\n",
       "        vertical-align: middle;\n",
       "    }\n",
       "\n",
       "    .dataframe tbody tr th {\n",
       "        vertical-align: top;\n",
       "    }\n",
       "\n",
       "    .dataframe thead th {\n",
       "        text-align: right;\n",
       "    }\n",
       "</style>\n",
       "<table border=\"1\" class=\"dataframe\">\n",
       "  <thead>\n",
       "    <tr style=\"text-align: right;\">\n",
       "      <th></th>\n",
       "      <th>Published</th>\n",
       "      <th>Summary</th>\n",
       "      <th>cleaned_text</th>\n",
       "    </tr>\n",
       "  </thead>\n",
       "  <tbody>\n",
       "    <tr>\n",
       "      <th>145319</th>\n",
       "      <td>2023-05-31T17:59:04Z</td>\n",
       "      <td>Contrastive Language-Image Pre-training (CLI...</td>\n",
       "      <td>contrastive languageimage pretraining  clip  s...</td>\n",
       "    </tr>\n",
       "    <tr>\n",
       "      <th>523953</th>\n",
       "      <td>2023-07-03T15:07:10Z</td>\n",
       "      <td>Agent-based models (ABMs) are a promising ap...</td>\n",
       "      <td>agentbased models  abms  promising approach mo...</td>\n",
       "    </tr>\n",
       "    <tr>\n",
       "      <th>10378</th>\n",
       "      <td>2023-08-06T18:05:59Z</td>\n",
       "      <td>Although AI systems have been applied in var...</td>\n",
       "      <td>although ai systems applied various fields ach...</td>\n",
       "    </tr>\n",
       "    <tr>\n",
       "      <th>370564</th>\n",
       "      <td>2023-01-25T16:59:23Z</td>\n",
       "      <td>In constructive set theory, an ordinal is a ...</td>\n",
       "      <td>constructive set theory  ordinal hereditarily ...</td>\n",
       "    </tr>\n",
       "    <tr>\n",
       "      <th>256472</th>\n",
       "      <td>2020-07-19T23:26:59Z</td>\n",
       "      <td>We consider a model of energy complexity in ...</td>\n",
       "      <td>consider model energy complexity radio network...</td>\n",
       "    </tr>\n",
       "    <tr>\n",
       "      <th>...</th>\n",
       "      <td>...</td>\n",
       "      <td>...</td>\n",
       "      <td>...</td>\n",
       "    </tr>\n",
       "    <tr>\n",
       "      <th>328018</th>\n",
       "      <td>2021-08-23T20:30:48Z</td>\n",
       "      <td>Information Extraction from visual documents...</td>\n",
       "      <td>information extraction visual documents enable...</td>\n",
       "    </tr>\n",
       "    <tr>\n",
       "      <th>525352</th>\n",
       "      <td>2022-01-26T13:02:45Z</td>\n",
       "      <td>The inequality in capital or resource distri...</td>\n",
       "      <td>inequality capital resource distribution among...</td>\n",
       "    </tr>\n",
       "    <tr>\n",
       "      <th>482202</th>\n",
       "      <td>2020-01-15T19:17:02Z</td>\n",
       "      <td>A significant challenge for a supervised lea...</td>\n",
       "      <td>significant challenge supervised learning appr...</td>\n",
       "    </tr>\n",
       "    <tr>\n",
       "      <th>127450</th>\n",
       "      <td>2017-01-11T19:16:42Z</td>\n",
       "      <td>Currently successful methods for video descr...</td>\n",
       "      <td>currently successful methods video description...</td>\n",
       "    </tr>\n",
       "    <tr>\n",
       "      <th>73813</th>\n",
       "      <td>2023-12-04T11:45:55Z</td>\n",
       "      <td>Biological cells utilize membranes and liqui...</td>\n",
       "      <td>biological cells utilize membranes liquidlike ...</td>\n",
       "    </tr>\n",
       "  </tbody>\n",
       "</table>\n",
       "<p>10000 rows × 3 columns</p>\n",
       "</div>"
      ],
      "text/plain": [
       "                   Published  \\\n",
       "145319  2023-05-31T17:59:04Z   \n",
       "523953  2023-07-03T15:07:10Z   \n",
       "10378   2023-08-06T18:05:59Z   \n",
       "370564  2023-01-25T16:59:23Z   \n",
       "256472  2020-07-19T23:26:59Z   \n",
       "...                      ...   \n",
       "328018  2021-08-23T20:30:48Z   \n",
       "525352  2022-01-26T13:02:45Z   \n",
       "482202  2020-01-15T19:17:02Z   \n",
       "127450  2017-01-11T19:16:42Z   \n",
       "73813   2023-12-04T11:45:55Z   \n",
       "\n",
       "                                                  Summary  \\\n",
       "145319    Contrastive Language-Image Pre-training (CLI...   \n",
       "523953    Agent-based models (ABMs) are a promising ap...   \n",
       "10378     Although AI systems have been applied in var...   \n",
       "370564    In constructive set theory, an ordinal is a ...   \n",
       "256472    We consider a model of energy complexity in ...   \n",
       "...                                                   ...   \n",
       "328018    Information Extraction from visual documents...   \n",
       "525352    The inequality in capital or resource distri...   \n",
       "482202    A significant challenge for a supervised lea...   \n",
       "127450    Currently successful methods for video descr...   \n",
       "73813     Biological cells utilize membranes and liqui...   \n",
       "\n",
       "                                             cleaned_text  \n",
       "145319  contrastive languageimage pretraining  clip  s...  \n",
       "523953  agentbased models  abms  promising approach mo...  \n",
       "10378   although ai systems applied various fields ach...  \n",
       "370564  constructive set theory  ordinal hereditarily ...  \n",
       "256472  consider model energy complexity radio network...  \n",
       "...                                                   ...  \n",
       "328018  information extraction visual documents enable...  \n",
       "525352  inequality capital resource distribution among...  \n",
       "482202  significant challenge supervised learning appr...  \n",
       "127450  currently successful methods video description...  \n",
       "73813   biological cells utilize membranes liquidlike ...  \n",
       "\n",
       "[10000 rows x 3 columns]"
      ]
     },
     "execution_count": 213,
     "metadata": {},
     "output_type": "execute_result"
    }
   ],
   "source": [
    "def remove_numbers(text):\n",
    "    # Remove all numbers from the text\n",
    "    text_without_numbers = re.sub(r'\\d+', '', text)\n",
    "    return text_without_numbers\n",
    "\n",
    "b_article_df['cleaned_text'] = b_article_df['cleaned_text'].apply(remove_numbers)\n",
    "b_article_df"
   ]
  },
  {
   "cell_type": "code",
   "execution_count": 214,
   "id": "bd304ef3-a683-4673-bffe-36008f88e376",
   "metadata": {
    "execution": {
     "iopub.execute_input": "2024-04-01T21:57:43.398615Z",
     "iopub.status.busy": "2024-04-01T21:57:43.398615Z",
     "iopub.status.idle": "2024-04-01T21:57:44.407659Z",
     "shell.execute_reply": "2024-04-01T21:57:44.406653Z",
     "shell.execute_reply.started": "2024-04-01T21:57:43.398615Z"
    },
    "tags": []
   },
   "outputs": [
    {
     "name": "stdout",
     "output_type": "stream",
     "text": [
      "CPU times: total: 859 ms\n",
      "Wall time: 857 ms\n"
     ]
    }
   ],
   "source": [
    "%%time\n",
    "\n",
    "# Define helper functions\n",
    "def get_top_n_words(n_top_words, count_vectorizer, text_data):\n",
    "    '''\n",
    "    returns a tuple of the top n words in a sample and their \n",
    "    accompanying counts, given a CountVectorizer object and text sample\n",
    "    '''\n",
    "    vectorized_headlines = count_vectorizer.fit_transform(text_data.values)\n",
    "    vectorized_total = np.sum(vectorized_headlines, axis=0)\n",
    "    word_indices = np.flip(np.argsort(vectorized_total)[0,:], 1)\n",
    "    word_values = np.flip(np.sort(vectorized_total)[0,:],1)\n",
    "    \n",
    "    word_vectors = np.zeros((n_top_words, vectorized_headlines.shape[1]))\n",
    "    for i in range(n_top_words):\n",
    "        word_vectors[i,word_indices[0,i]] = 1\n",
    "\n",
    "    words = [word[0].encode('ascii').decode('utf-8') for \n",
    "             word in count_vectorizer.inverse_transform(word_vectors)]\n",
    "\n",
    "    return (words, word_values[0,:n_top_words].tolist()[0])\n",
    "\n",
    "reindexed_data = b_article_df['cleaned_text']\n",
    "reindexed_data.index = b_article_df['Published']\n",
    "\n",
    "count_vectorizer = CountVectorizer(stop_words='english')\n",
    "words, word_values = get_top_n_words(n_top_words=15,\n",
    "                                     count_vectorizer=count_vectorizer, \n",
    "                                     text_data=reindexed_data)"
   ]
  },
  {
   "cell_type": "code",
   "execution_count": 215,
   "id": "832a6aa0-bee4-42a7-8010-630614753418",
   "metadata": {
    "execution": {
     "iopub.execute_input": "2024-04-01T21:57:44.409653Z",
     "iopub.status.busy": "2024-04-01T21:57:44.409653Z",
     "iopub.status.idle": "2024-04-01T21:57:44.834652Z",
     "shell.execute_reply": "2024-04-01T21:57:44.833655Z",
     "shell.execute_reply.started": "2024-04-01T21:57:44.409653Z"
    },
    "tags": []
   },
   "outputs": [
    {
     "data": {
      "image/png": "[encoded data removed]",
      "text/plain": [
       "<Figure size 1600x800 with 1 Axes>"
      ]
     },
     "metadata": {},
     "output_type": "display_data"
    }
   ],
   "source": [
    "fig, ax = plt.subplots(figsize=(16,8))\n",
    "bars = ax.bar(range(len(words)), word_values, color='skyblue')\n",
    "\n",
    "# Adding counts on each bar\n",
    "for bar, value in zip(bars, word_values):\n",
    "    ax.text(bar.get_x() + bar.get_width() / 2, bar.get_height() - 5, str(int(value)), \n",
    "            ha='center', color='black', fontsize=10)\n",
    "\n",
    "ax.set_xticks(range(len(words)))\n",
    "ax.set_xticklabels(words, rotation=45, ha='right') \n",
    "ax.set_title('Top words in headlines dataset (excluding stop words)')\n",
    "ax.set_xlabel('Word')\n",
    "ax.set_ylabel('Number of occurrences')\n",
    "plt.tight_layout()  \n",
    "plt.show()"
   ]
  },
  {
   "cell_type": "code",
   "execution_count": 216,
   "id": "907a268b-d072-458a-8be9-03d31ed3d86c",
   "metadata": {
    "execution": {
     "iopub.execute_input": "2024-04-01T21:57:44.835656Z",
     "iopub.status.busy": "2024-04-01T21:57:44.834652Z",
     "iopub.status.idle": "2024-04-01T21:57:44.993617Z",
     "shell.execute_reply": "2024-04-01T21:57:44.992615Z",
     "shell.execute_reply.started": "2024-04-01T21:57:44.835656Z"
    },
    "tags": []
   },
   "outputs": [
    {
     "data": {
      "text/plain": [
       "Published\n",
       "2023-05-31T17:59:04Z    contrastive languageimage pretraining  clip  s...\n",
       "2023-07-03T15:07:10Z    agentbased models  abms  promising approach mo...\n",
       "2023-08-06T18:05:59Z    although ai systems applied various fields ach...\n",
       "2023-01-25T16:59:23Z    constructive set theory  ordinal hereditarily ...\n",
       "2020-07-19T23:26:59Z    consider model energy complexity radio network...\n",
       "                                              ...                        \n",
       "2021-08-23T20:30:48Z    information extraction visual documents enable...\n",
       "2022-01-26T13:02:45Z    inequality capital resource distribution among...\n",
       "2020-01-15T19:17:02Z    significant challenge supervised learning appr...\n",
       "2017-01-11T19:16:42Z    currently successful methods video description...\n",
       "2023-12-04T11:45:55Z    biological cells utilize membranes liquidlike ...\n",
       "Name: cleaned_text, Length: 10000, dtype: object"
      ]
     },
     "execution_count": 216,
     "metadata": {},
     "output_type": "execute_result"
    }
   ],
   "source": [
    "reindexed_data"
   ]
  },
  {
   "cell_type": "code",
   "execution_count": 217,
   "id": "c6545509-7b94-453b-83e0-c9b64fbf4580",
   "metadata": {
    "execution": {
     "iopub.execute_input": "2024-04-01T21:57:44.994618Z",
     "iopub.status.busy": "2024-04-01T21:57:44.994618Z",
     "iopub.status.idle": "2024-04-01T21:58:48.510338Z",
     "shell.execute_reply": "2024-04-01T21:58:48.509366Z",
     "shell.execute_reply.started": "2024-04-01T21:57:44.994618Z"
    },
    "tags": []
   },
   "outputs": [
    {
     "name": "stdout",
     "output_type": "stream",
     "text": [
      "CPU times: total: 1min 3s\n",
      "Wall time: 1min 3s\n"
     ]
    }
   ],
   "source": [
    "%%time\n",
    "\n",
    "from textblob import TextBlob\n",
    "\n",
    "# this part takes a while\n",
    "summaries = [TextBlob(reindexed_data[i]).pos_tags for i in range(reindexed_data.shape[0])]\n"
   ]
  },
  {
   "cell_type": "code",
   "execution_count": 218,
   "id": "7982495f-1056-47a4-96e4-1bfe92ab7a8f",
   "metadata": {
    "execution": {
     "iopub.execute_input": "2024-04-01T21:58:48.511337Z",
     "iopub.status.busy": "2024-04-01T21:58:48.510338Z",
     "iopub.status.idle": "2024-04-01T21:58:49.023978Z",
     "shell.execute_reply": "2024-04-01T21:58:49.023978Z",
     "shell.execute_reply.started": "2024-04-01T21:58:48.511337Z"
    },
    "tags": []
   },
   "outputs": [
    {
     "name": "stdout",
     "output_type": "stream",
     "text": [
      "Total number of words:  1046151\n",
      "Mean number of words per day:  104.6151\n",
      "CPU times: total: 359 ms\n",
      "Wall time: 353 ms\n"
     ]
    }
   ],
   "source": [
    "%%time\n",
    "\n",
    "summaries_df = pd.DataFrame({'tags':summaries})\n",
    "\n",
    "word_counts = [] \n",
    "pos_counts = {}\n",
    "\n",
    "for headline in summaries_df[u'tags']:\n",
    "    word_counts.append(len(headline))\n",
    "    for tag in headline:\n",
    "        if tag[1] in pos_counts:\n",
    "            pos_counts[tag[1]] += 1\n",
    "        else:\n",
    "            pos_counts[tag[1]] = 1\n",
    "            \n",
    "print('Total number of words: ', np.sum(word_counts))\n",
    "print('Mean number of words per day: ', np.mean(word_counts))"
   ]
  },
  {
   "cell_type": "code",
   "execution_count": 219,
   "id": "341d7c0d-fed5-4752-829e-c0801592e574",
   "metadata": {
    "execution": {
     "iopub.execute_input": "2024-04-01T21:58:49.025953Z",
     "iopub.status.busy": "2024-04-01T21:58:49.024981Z",
     "iopub.status.idle": "2024-04-01T21:58:49.695372Z",
     "shell.execute_reply": "2024-04-01T21:58:49.694408Z",
     "shell.execute_reply.started": "2024-04-01T21:58:49.025953Z"
    },
    "tags": []
   },
   "outputs": [
    {
     "data": {
      "image/png": "[encoded data removed]",
      "text/plain": [
       "<Figure size 1800x800 with 1 Axes>"
      ]
     },
     "metadata": {},
     "output_type": "display_data"
    },
    {
     "name": "stdout",
     "output_type": "stream",
     "text": [
      "CPU times: total: 500 ms\n",
      "Wall time: 502 ms\n"
     ]
    }
   ],
   "source": [
    "%%time\n",
    "\n",
    "# Assuming 'word_counts' is already defined\n",
    "max_word_count = max(word_counts) + 1  # Find the maximum word count and add 1 for the upper range\n",
    "\n",
    "# Generate evenly spaced numbers over the interval from 0 to max_word_count, for plotting the PDF\n",
    "x_values = np.linspace(0, max_word_count, 50)\n",
    "\n",
    "# Calculate the PDF for the normal distribution fit to the data\n",
    "y = norm.pdf(x_values, np.mean(word_counts), np.std(word_counts))\n",
    "\n",
    "# Create the plot\n",
    "fig, ax = plt.subplots(figsize=(18, 8))\n",
    "\n",
    "# Plot the histogram of word counts\n",
    "ax.hist(word_counts, bins=range(1, max_word_count), density=True, alpha=0.6, color='b')\n",
    "\n",
    "# Overlay the PDF\n",
    "ax.plot(x_values, y, 'r--', linewidth=2)\n",
    "\n",
    "# Set the title and labels\n",
    "ax.set_title('Word Lengths per Abstract')\n",
    "# ax.set_xticks(range(1, max_word_count))\n",
    "ax.set_xlabel('Number of Words')\n",
    "ax.set_ylabel('Density')\n",
    "\n",
    "plt.show()"
   ]
  },
  {
   "cell_type": "code",
   "execution_count": 220,
   "id": "fee37d61-6439-4860-9e7b-1fa94b682602",
   "metadata": {
    "execution": {
     "iopub.execute_input": "2024-04-01T21:58:49.696373Z",
     "iopub.status.busy": "2024-04-01T21:58:49.696373Z",
     "iopub.status.idle": "2024-04-01T21:58:50.308902Z",
     "shell.execute_reply": "2024-04-01T21:58:50.307926Z",
     "shell.execute_reply.started": "2024-04-01T21:58:49.696373Z"
    },
    "tags": []
   },
   "outputs": [
    {
     "data": {
      "image/png": "[encoded data removed]",
      "text/plain": [
       "<Figure size 1800x800 with 1 Axes>"
      ]
     },
     "metadata": {},
     "output_type": "display_data"
    }
   ],
   "source": [
    "# POS tag descriptions\n",
    "pos_descriptions = {\n",
    "    \"CC\": \"Coordinating conj\",\n",
    "    \"CD\": \"Cardinal number\",\n",
    "    \"DT\": \"Determiner\",\n",
    "    \"EX\": \"Existential there\",\n",
    "    \"FW\": \"Foreign word\",\n",
    "    \"IN\": \"Preposition/subordin. conj\",\n",
    "    \"JJ\": \"Adjective\",\n",
    "    \"JJR\": \"Adj., comparative\",\n",
    "    \"JJS\": \"Adj., superlative\",\n",
    "    \"LS\": \"List item marker\",\n",
    "    \"MD\": \"Modal\",\n",
    "    \"NN\": \"Noun, singular or mass\",\n",
    "    \"NNS\": \"Noun, plural\",\n",
    "    \"NNP\": \"Proper noun, singular\",\n",
    "    \"NNPS\": \"Proper noun, plural\",\n",
    "    \"PDT\": \"Predeterminer\",\n",
    "    \"POS\": \"Possessive ending\",\n",
    "    \"PRP\": \"Personal pronoun\",\n",
    "    \"PRP$\": \"Possessive pronoun\",\n",
    "    \"RB\": \"Adverb\",\n",
    "    \"RBR\": \"Adverb, comparative\",\n",
    "    \"RBS\": \"Adverb, superlative\",\n",
    "    \"RP\": \"Particle\",\n",
    "    \"SYM\": \"Symbol\",\n",
    "    \"TO\": \"to\",\n",
    "    \"UH\": \"Interjection\",\n",
    "    \"VB\": \"Verb, base form\",\n",
    "    \"VBD\": \"Verb, past tense\",\n",
    "    \"VBG\": \"Verb, gerund/present participle\",\n",
    "    \"VBN\": \"Verb, past participle\",\n",
    "    \"VBP\": \"Verb, non-3rd person sing. present\",\n",
    "    \"VBZ\": \"Verb, 3rd person sing. present\",\n",
    "    \"WDT\": \"Wh-determiner\",\n",
    "    \"WP\": \"Wh-pronoun\",\n",
    "    \"WP$\": \"Possessive wh-pronoun\",\n",
    "    \"WRB\": \"Wh-adverb\"\n",
    "}\n",
    "\n",
    "# Sorted types and counts\n",
    "pos_sorted_types = sorted(pos_counts, key=pos_counts.__getitem__, reverse=True)\n",
    "pos_sorted_counts = sorted(pos_counts.values(), reverse=True)\n",
    "\n",
    "# Mapping short POS tags to their descriptions for the x-tick labels\n",
    "pos_sorted_descriptions = [pos_descriptions.get(tag, \"Unknown\") for tag in pos_sorted_types]\n",
    "\n",
    "# Plotting\n",
    "fig, ax = plt.subplots(figsize=(18, 8))\n",
    "ax.bar(range(len(pos_counts)), pos_sorted_counts)\n",
    "ax.set_xticks(range(len(pos_counts)))\n",
    "\n",
    "# Here, change the rotation to 45 degrees for better readability\n",
    "ax.set_xticklabels(pos_sorted_descriptions, rotation=45, ha=\"right\")  # ha=\"right\" aligns the text right, making it more legible\n",
    "\n",
    "ax.set_title('Part-of-Speech Tagging for Abstract Corpus')\n",
    "ax.set_xlabel('Type of Word')  # This sets the label for the x-axis, not its tick labels\n",
    "\n",
    "plt.tight_layout()  # Adjust layout to make room for the angled x-tick labels\n",
    "plt.show()"
   ]
  },
  {
   "cell_type": "code",
   "execution_count": 221,
   "id": "af1a2582-afe7-4ef0-8b07-3ef8ddb4c814",
   "metadata": {
    "execution": {
     "iopub.execute_input": "2024-04-01T21:58:50.311890Z",
     "iopub.status.busy": "2024-04-01T21:58:50.310889Z",
     "iopub.status.idle": "2024-04-01T21:58:50.482891Z",
     "shell.execute_reply": "2024-04-01T21:58:50.480923Z",
     "shell.execute_reply.started": "2024-04-01T21:58:50.311890Z"
    },
    "tags": []
   },
   "outputs": [
    {
     "data": {
      "text/html": [
       "<div>\n",
       "<style scoped>\n",
       "    .dataframe tbody tr th:only-of-type {\n",
       "        vertical-align: middle;\n",
       "    }\n",
       "\n",
       "    .dataframe tbody tr th {\n",
       "        vertical-align: top;\n",
       "    }\n",
       "\n",
       "    .dataframe thead th {\n",
       "        text-align: right;\n",
       "    }\n",
       "</style>\n",
       "<table border=\"1\" class=\"dataframe\">\n",
       "  <thead>\n",
       "    <tr style=\"text-align: right;\">\n",
       "      <th></th>\n",
       "      <th>Published</th>\n",
       "      <th>Summary</th>\n",
       "      <th>cleaned_text</th>\n",
       "    </tr>\n",
       "  </thead>\n",
       "  <tbody>\n",
       "    <tr>\n",
       "      <th>145319</th>\n",
       "      <td>2023-05-31T17:59:04Z</td>\n",
       "      <td>Contrastive Language-Image Pre-training (CLI...</td>\n",
       "      <td>contrastive languageimage pretraining  clip  s...</td>\n",
       "    </tr>\n",
       "    <tr>\n",
       "      <th>523953</th>\n",
       "      <td>2023-07-03T15:07:10Z</td>\n",
       "      <td>Agent-based models (ABMs) are a promising ap...</td>\n",
       "      <td>agentbased models  abms  promising approach mo...</td>\n",
       "    </tr>\n",
       "    <tr>\n",
       "      <th>10378</th>\n",
       "      <td>2023-08-06T18:05:59Z</td>\n",
       "      <td>Although AI systems have been applied in var...</td>\n",
       "      <td>although ai systems applied various fields ach...</td>\n",
       "    </tr>\n",
       "    <tr>\n",
       "      <th>370564</th>\n",
       "      <td>2023-01-25T16:59:23Z</td>\n",
       "      <td>In constructive set theory, an ordinal is a ...</td>\n",
       "      <td>constructive set theory  ordinal hereditarily ...</td>\n",
       "    </tr>\n",
       "    <tr>\n",
       "      <th>256472</th>\n",
       "      <td>2020-07-19T23:26:59Z</td>\n",
       "      <td>We consider a model of energy complexity in ...</td>\n",
       "      <td>consider model energy complexity radio network...</td>\n",
       "    </tr>\n",
       "    <tr>\n",
       "      <th>...</th>\n",
       "      <td>...</td>\n",
       "      <td>...</td>\n",
       "      <td>...</td>\n",
       "    </tr>\n",
       "    <tr>\n",
       "      <th>328018</th>\n",
       "      <td>2021-08-23T20:30:48Z</td>\n",
       "      <td>Information Extraction from visual documents...</td>\n",
       "      <td>information extraction visual documents enable...</td>\n",
       "    </tr>\n",
       "    <tr>\n",
       "      <th>525352</th>\n",
       "      <td>2022-01-26T13:02:45Z</td>\n",
       "      <td>The inequality in capital or resource distri...</td>\n",
       "      <td>inequality capital resource distribution among...</td>\n",
       "    </tr>\n",
       "    <tr>\n",
       "      <th>482202</th>\n",
       "      <td>2020-01-15T19:17:02Z</td>\n",
       "      <td>A significant challenge for a supervised lea...</td>\n",
       "      <td>significant challenge supervised learning appr...</td>\n",
       "    </tr>\n",
       "    <tr>\n",
       "      <th>127450</th>\n",
       "      <td>2017-01-11T19:16:42Z</td>\n",
       "      <td>Currently successful methods for video descr...</td>\n",
       "      <td>currently successful methods video description...</td>\n",
       "    </tr>\n",
       "    <tr>\n",
       "      <th>73813</th>\n",
       "      <td>2023-12-04T11:45:55Z</td>\n",
       "      <td>Biological cells utilize membranes and liqui...</td>\n",
       "      <td>biological cells utilize membranes liquidlike ...</td>\n",
       "    </tr>\n",
       "  </tbody>\n",
       "</table>\n",
       "<p>10000 rows × 3 columns</p>\n",
       "</div>"
      ],
      "text/plain": [
       "                   Published  \\\n",
       "145319  2023-05-31T17:59:04Z   \n",
       "523953  2023-07-03T15:07:10Z   \n",
       "10378   2023-08-06T18:05:59Z   \n",
       "370564  2023-01-25T16:59:23Z   \n",
       "256472  2020-07-19T23:26:59Z   \n",
       "...                      ...   \n",
       "328018  2021-08-23T20:30:48Z   \n",
       "525352  2022-01-26T13:02:45Z   \n",
       "482202  2020-01-15T19:17:02Z   \n",
       "127450  2017-01-11T19:16:42Z   \n",
       "73813   2023-12-04T11:45:55Z   \n",
       "\n",
       "                                                  Summary  \\\n",
       "145319    Contrastive Language-Image Pre-training (CLI...   \n",
       "523953    Agent-based models (ABMs) are a promising ap...   \n",
       "10378     Although AI systems have been applied in var...   \n",
       "370564    In constructive set theory, an ordinal is a ...   \n",
       "256472    We consider a model of energy complexity in ...   \n",
       "...                                                   ...   \n",
       "328018    Information Extraction from visual documents...   \n",
       "525352    The inequality in capital or resource distri...   \n",
       "482202    A significant challenge for a supervised lea...   \n",
       "127450    Currently successful methods for video descr...   \n",
       "73813     Biological cells utilize membranes and liqui...   \n",
       "\n",
       "                                             cleaned_text  \n",
       "145319  contrastive languageimage pretraining  clip  s...  \n",
       "523953  agentbased models  abms  promising approach mo...  \n",
       "10378   although ai systems applied various fields ach...  \n",
       "370564  constructive set theory  ordinal hereditarily ...  \n",
       "256472  consider model energy complexity radio network...  \n",
       "...                                                   ...  \n",
       "328018  information extraction visual documents enable...  \n",
       "525352  inequality capital resource distribution among...  \n",
       "482202  significant challenge supervised learning appr...  \n",
       "127450  currently successful methods video description...  \n",
       "73813   biological cells utilize membranes liquidlike ...  \n",
       "\n",
       "[10000 rows x 3 columns]"
      ]
     },
     "execution_count": 221,
     "metadata": {},
     "output_type": "execute_result"
    }
   ],
   "source": [
    "b_article_df"
   ]
  },
  {
   "cell_type": "code",
   "execution_count": 222,
   "id": "684e2117-2d1f-44ae-97e6-79b51ffd3104",
   "metadata": {
    "execution": {
     "iopub.execute_input": "2024-04-01T21:58:50.484891Z",
     "iopub.status.busy": "2024-04-01T21:58:50.483893Z",
     "iopub.status.idle": "2024-04-01T21:58:50.654856Z",
     "shell.execute_reply": "2024-04-01T21:58:50.653855Z",
     "shell.execute_reply.started": "2024-04-01T21:58:50.484891Z"
    },
    "tags": []
   },
   "outputs": [
    {
     "data": {
      "text/html": [
       "<div>\n",
       "<style scoped>\n",
       "    .dataframe tbody tr th:only-of-type {\n",
       "        vertical-align: middle;\n",
       "    }\n",
       "\n",
       "    .dataframe tbody tr th {\n",
       "        vertical-align: top;\n",
       "    }\n",
       "\n",
       "    .dataframe thead th {\n",
       "        text-align: right;\n",
       "    }\n",
       "</style>\n",
       "<table border=\"1\" class=\"dataframe\">\n",
       "  <thead>\n",
       "    <tr style=\"text-align: right;\">\n",
       "      <th></th>\n",
       "      <th>Published</th>\n",
       "      <th>Summary</th>\n",
       "      <th>cleaned_text</th>\n",
       "    </tr>\n",
       "  </thead>\n",
       "  <tbody>\n",
       "    <tr>\n",
       "      <th>145319</th>\n",
       "      <td>145319</td>\n",
       "      <td>Contrastive Language-Image Pre-training (CLI...</td>\n",
       "      <td>contrastive languageimage pretraining  clip  s...</td>\n",
       "    </tr>\n",
       "    <tr>\n",
       "      <th>523953</th>\n",
       "      <td>523953</td>\n",
       "      <td>Agent-based models (ABMs) are a promising ap...</td>\n",
       "      <td>agentbased models  abms  promising approach mo...</td>\n",
       "    </tr>\n",
       "    <tr>\n",
       "      <th>10378</th>\n",
       "      <td>10378</td>\n",
       "      <td>Although AI systems have been applied in var...</td>\n",
       "      <td>although ai systems applied various fields ach...</td>\n",
       "    </tr>\n",
       "    <tr>\n",
       "      <th>370564</th>\n",
       "      <td>370564</td>\n",
       "      <td>In constructive set theory, an ordinal is a ...</td>\n",
       "      <td>constructive set theory  ordinal hereditarily ...</td>\n",
       "    </tr>\n",
       "    <tr>\n",
       "      <th>256472</th>\n",
       "      <td>256472</td>\n",
       "      <td>We consider a model of energy complexity in ...</td>\n",
       "      <td>consider model energy complexity radio network...</td>\n",
       "    </tr>\n",
       "    <tr>\n",
       "      <th>...</th>\n",
       "      <td>...</td>\n",
       "      <td>...</td>\n",
       "      <td>...</td>\n",
       "    </tr>\n",
       "    <tr>\n",
       "      <th>328018</th>\n",
       "      <td>328018</td>\n",
       "      <td>Information Extraction from visual documents...</td>\n",
       "      <td>information extraction visual documents enable...</td>\n",
       "    </tr>\n",
       "    <tr>\n",
       "      <th>525352</th>\n",
       "      <td>525352</td>\n",
       "      <td>The inequality in capital or resource distri...</td>\n",
       "      <td>inequality capital resource distribution among...</td>\n",
       "    </tr>\n",
       "    <tr>\n",
       "      <th>482202</th>\n",
       "      <td>482202</td>\n",
       "      <td>A significant challenge for a supervised lea...</td>\n",
       "      <td>significant challenge supervised learning appr...</td>\n",
       "    </tr>\n",
       "    <tr>\n",
       "      <th>127450</th>\n",
       "      <td>127450</td>\n",
       "      <td>Currently successful methods for video descr...</td>\n",
       "      <td>currently successful methods video description...</td>\n",
       "    </tr>\n",
       "    <tr>\n",
       "      <th>73813</th>\n",
       "      <td>73813</td>\n",
       "      <td>Biological cells utilize membranes and liqui...</td>\n",
       "      <td>biological cells utilize membranes liquidlike ...</td>\n",
       "    </tr>\n",
       "  </tbody>\n",
       "</table>\n",
       "<p>10000 rows × 3 columns</p>\n",
       "</div>"
      ],
      "text/plain": [
       "        Published                                            Summary  \\\n",
       "145319     145319    Contrastive Language-Image Pre-training (CLI...   \n",
       "523953     523953    Agent-based models (ABMs) are a promising ap...   \n",
       "10378       10378    Although AI systems have been applied in var...   \n",
       "370564     370564    In constructive set theory, an ordinal is a ...   \n",
       "256472     256472    We consider a model of energy complexity in ...   \n",
       "...           ...                                                ...   \n",
       "328018     328018    Information Extraction from visual documents...   \n",
       "525352     525352    The inequality in capital or resource distri...   \n",
       "482202     482202    A significant challenge for a supervised lea...   \n",
       "127450     127450    Currently successful methods for video descr...   \n",
       "73813       73813    Biological cells utilize membranes and liqui...   \n",
       "\n",
       "                                             cleaned_text  \n",
       "145319  contrastive languageimage pretraining  clip  s...  \n",
       "523953  agentbased models  abms  promising approach mo...  \n",
       "10378   although ai systems applied various fields ach...  \n",
       "370564  constructive set theory  ordinal hereditarily ...  \n",
       "256472  consider model energy complexity radio network...  \n",
       "...                                                   ...  \n",
       "328018  information extraction visual documents enable...  \n",
       "525352  inequality capital resource distribution among...  \n",
       "482202  significant challenge supervised learning appr...  \n",
       "127450  currently successful methods video description...  \n",
       "73813   biological cells utilize membranes liquidlike ...  \n",
       "\n",
       "[10000 rows x 3 columns]"
      ]
     },
     "execution_count": 222,
     "metadata": {},
     "output_type": "execute_result"
    }
   ],
   "source": [
    "b_article_df['Published'] = b_article_df.index\n",
    "b_article_df"
   ]
  },
  {
   "cell_type": "code",
   "execution_count": 223,
   "id": "de4fe6f0-ecdf-439d-b692-587f305c49bb",
   "metadata": {
    "execution": {
     "iopub.execute_input": "2024-04-01T21:58:50.656856Z",
     "iopub.status.busy": "2024-04-01T21:58:50.655856Z",
     "iopub.status.idle": "2024-04-01T21:58:51.448856Z",
     "shell.execute_reply": "2024-04-01T21:58:51.447855Z",
     "shell.execute_reply.started": "2024-04-01T21:58:50.655856Z"
    },
    "tags": []
   },
   "outputs": [
    {
     "data": {
      "image/png": "[encoded data removed]",
      "text/plain": [
       "<Figure size 1800x1600 with 3 Axes>"
      ]
     },
     "metadata": {},
     "output_type": "display_data"
    }
   ],
   "source": [
    "# Convert the 'date' column to datetime type and set it as the index\n",
    "b_article_df['Published'] = pd.to_datetime(b_article_df['Published'])\n",
    "b_article_df.set_index('Published', inplace=True)\n",
    "\n",
    "# Resample the data to get daily, monthly, and yearly counts\n",
    "daily_counts = b_article_df.resample('D').count()\n",
    "monthly_counts = b_article_df.resample('M').count()\n",
    "yearly_counts = b_article_df.resample('A').count()\n",
    "\n",
    "fig, ax = plt.subplots(3, figsize=(18,16))\n",
    "daily_counts.plot(ax=ax[0], legend=True);\n",
    "ax[0].set_title('Daily Counts');\n",
    "monthly_counts.plot(ax=ax[1], legend=True);\n",
    "ax[1].set_title('Monthly Counts');\n",
    "yearly_counts.plot(ax=ax[2], legend=True);\n",
    "ax[2].set_title('Yearly Counts');\n",
    "plt.show()"
   ]
  },
  {
   "cell_type": "code",
   "execution_count": 224,
   "id": "96785d5a-0bf5-41b5-9641-e895d84f884b",
   "metadata": {
    "execution": {
     "iopub.execute_input": "2024-04-01T21:58:51.450857Z",
     "iopub.status.busy": "2024-04-01T21:58:51.449857Z",
     "iopub.status.idle": "2024-04-01T21:58:51.652858Z",
     "shell.execute_reply": "2024-04-01T21:58:51.649901Z",
     "shell.execute_reply.started": "2024-04-01T21:58:51.450857Z"
    },
    "tags": []
   },
   "outputs": [
    {
     "name": "stdout",
     "output_type": "stream",
     "text": [
      "Abstract before vectorization: chartopolis multifaceted sociotechnical testbed meant aid building connections among engineers  psychologists  anthropologists  ethicists  artists  superficially  urban autonomousvehicle testbed includes physical environment smallscale robotic vehicles well highfidelity virtual replica provides extra flexibility way computer simulation  however  environments developed allow participatory simulation human drivers well  physical vehicle remotely operated human drivers driverseat point view immerses within smallscale testbed  drivers also pilot highfidelity models vehicles virtual replica environment  juxtaposing human driving performance across two contexts help identify extent human driving behaviors sensorimotor responses involve psychological engagement system physical  virtual  side effects consequences  furthermore  collaboration artists  designed physical testbed make tangible reality technological advancement causes history city fork multiple  parallel timelines take place within populations whose increasing isolation effectively creates multiple independent cities one  ultimately  chartopolis meant challenge engineers take holistic view designing autonomous systems  also enabling gather novel data assist making systems trustworthy \n",
      "Abstract after vectorization: \n",
      "  (0, 79)\t1\n",
      "  (0, 1903)\t1\n",
      "  (0, 778)\t1\n",
      "  (0, 705)\t1\n",
      "  (0, 2173)\t1\n",
      "  (0, 1367)\t1\n",
      "  (0, 534)\t1\n",
      "  (0, 2137)\t1\n",
      "  (0, 3236)\t1\n",
      "  (0, 1605)\t1\n",
      "  (0, 1393)\t1\n",
      "  (0, 2223)\t1\n",
      "  (0, 927)\t1\n",
      "  (0, 2015)\t1\n",
      "  (0, 1940)\t2\n",
      "  (0, 3192)\t1\n",
      "  (0, 2763)\t2\n",
      "  (0, 331)\t1\n",
      "  (0, 382)\t1\n",
      "  (0, 1778)\t1\n",
      "  (0, 1431)\t1\n",
      "  (0, 225)\t1\n",
      "  (0, 1005)\t1\n",
      "  (0, 779)\t1\n",
      "  (0, 267)\t1\n",
      "  :\t:\n",
      "  (0, 1452)\t1\n",
      "  (0, 2203)\t1\n",
      "  (0, 1639)\t1\n",
      "  (0, 2705)\t1\n",
      "  (0, 2365)\t1\n",
      "  (0, 979)\t1\n",
      "  (0, 571)\t1\n",
      "  (0, 2952)\t1\n",
      "  (0, 2971)\t1\n",
      "  (0, 54)\t1\n",
      "  (0, 412)\t1\n",
      "  (0, 1199)\t1\n",
      "  (0, 3018)\t1\n",
      "  (0, 2210)\t1\n",
      "  (0, 2238)\t1\n",
      "  (0, 1615)\t1\n",
      "  (0, 681)\t1\n",
      "  (0, 410)\t1\n",
      "  (0, 3106)\t1\n",
      "  (0, 1397)\t1\n",
      "  (0, 965)\t1\n",
      "  (0, 1257)\t1\n",
      "  (0, 193)\t1\n",
      "  (0, 1781)\t1\n",
      "  (0, 3082)\t1\n",
      "CPU times: total: 15.6 ms\n",
      "Wall time: 14 ms\n"
     ]
    }
   ],
   "source": [
    "%%time\n",
    "\n",
    "# Now, let's proceed with vectorization\n",
    "small_count_vectorizer = CountVectorizer(stop_words='english', max_features=40000)\n",
    "small_text_sample = reindexed_data.sample(n=100, random_state=0).values\n",
    "\n",
    "print('Abstract before vectorization: {}'.format(small_text_sample[99]))\n",
    "\n",
    "small_document_term_matrix = small_count_vectorizer.fit_transform(small_text_sample)\n",
    "\n",
    "print('Abstract after vectorization: \\n{}'.format(small_document_term_matrix[99]))"
   ]
  },
  {
   "cell_type": "code",
   "execution_count": 225,
   "id": "e70d9684-8d19-4040-b57d-04d49dad945d",
   "metadata": {
    "execution": {
     "iopub.execute_input": "2024-04-01T21:58:51.653891Z",
     "iopub.status.busy": "2024-04-01T21:58:51.653891Z",
     "iopub.status.idle": "2024-04-01T21:58:51.819857Z",
     "shell.execute_reply": "2024-04-01T21:58:51.819857Z",
     "shell.execute_reply.started": "2024-04-01T21:58:51.653891Z"
    },
    "tags": []
   },
   "outputs": [],
   "source": [
    "n_topics = 8\n"
   ]
  },
  {
   "cell_type": "code",
   "execution_count": 226,
   "id": "726a45fb-39c9-4121-a09c-3dff4583c5e4",
   "metadata": {
    "execution": {
     "iopub.execute_input": "2024-04-01T21:58:51.821892Z",
     "iopub.status.busy": "2024-04-01T21:58:51.821892Z",
     "iopub.status.idle": "2024-04-01T21:58:52.008856Z",
     "shell.execute_reply": "2024-04-01T21:58:52.007905Z",
     "shell.execute_reply.started": "2024-04-01T21:58:51.821892Z"
    },
    "tags": []
   },
   "outputs": [],
   "source": [
    "lsa_model = TruncatedSVD(n_components=n_topics)\n",
    "lsa_topic_matrix = lsa_model.fit_transform(small_document_term_matrix)"
   ]
  },
  {
   "cell_type": "code",
   "execution_count": 227,
   "id": "3dc9012d-46e0-488b-a443-bf1e08c3059a",
   "metadata": {
    "execution": {
     "iopub.execute_input": "2024-04-01T21:58:52.009891Z",
     "iopub.status.busy": "2024-04-01T21:58:52.008856Z",
     "iopub.status.idle": "2024-04-01T21:58:52.196857Z",
     "shell.execute_reply": "2024-04-01T21:58:52.194913Z",
     "shell.execute_reply.started": "2024-04-01T21:58:52.009891Z"
    },
    "tags": []
   },
   "outputs": [],
   "source": [
    "# Define helper functions\n",
    "def get_keys(topic_matrix):\n",
    "    '''\n",
    "    returns an integer list of predicted topic \n",
    "    categories for a given topic matrix\n",
    "    '''\n",
    "    keys = topic_matrix.argmax(axis=1).tolist()\n",
    "    return keys\n",
    "\n",
    "def keys_to_counts(keys):\n",
    "    '''\n",
    "    returns a tuple of topic categories and their \n",
    "    accompanying magnitudes for a given list of keys\n",
    "    '''\n",
    "    count_pairs = Counter(keys).items()\n",
    "    categories = [pair[0] for pair in count_pairs]\n",
    "    counts = [pair[1] for pair in count_pairs]\n",
    "    return (categories, counts)\n",
    "\n",
    "def get_top_n_words(n, keys, document_term_matrix, count_vectorizer):\n",
    "    '''\n",
    "    returns a list of n_topic strings, where each string contains the n most common \n",
    "    words in a predicted category, in order\n",
    "    '''\n",
    "    n_topics = len(np.unique(keys))\n",
    "    top_word_indices = []\n",
    "    for topic in range(n_topics):\n",
    "        temp_vector_sum = np.zeros((1, document_term_matrix.shape[1]))\n",
    "        for i in range(len(keys)):\n",
    "            if keys[i] == topic:\n",
    "                temp_vector_sum += document_term_matrix[i]\n",
    "        top_n_word_indices = np.argsort(temp_vector_sum)[0][-n:][::-1]\n",
    "        top_word_indices.append(top_n_word_indices)   \n",
    "    top_words = []\n",
    "    for topic in top_word_indices:\n",
    "        topic_words = []\n",
    "        for index in topic:\n",
    "            temp_word_vector = np.zeros((1,document_term_matrix.shape[1]))\n",
    "            temp_word_vector[:,index] = 1\n",
    "            the_word = count_vectorizer.inverse_transform(temp_word_vector)[0][0]\n",
    "            topic_words.append(the_word.encode('ascii').decode('utf-8'))\n",
    "        top_words.append(\" \".join(topic_words))         \n",
    "    return top_words"
   ]
  },
  {
   "cell_type": "code",
   "execution_count": 228,
   "id": "81b95dac-4c28-404c-b629-471727d67b91",
   "metadata": {
    "execution": {
     "iopub.execute_input": "2024-04-01T21:58:52.198859Z",
     "iopub.status.busy": "2024-04-01T21:58:52.197860Z",
     "iopub.status.idle": "2024-04-01T21:58:56.320798Z",
     "shell.execute_reply": "2024-04-01T21:58:56.319798Z",
     "shell.execute_reply.started": "2024-04-01T21:58:52.198859Z"
    },
    "tags": []
   },
   "outputs": [],
   "source": [
    "# Assuming lsa_keys is intended to hold the topic keys for each document\n",
    "lsa_keys = get_keys(lsa_topic_matrix)  \n",
    "lsa_categories, lsa_counts = keys_to_counts(lsa_keys)"
   ]
  },
  {
   "cell_type": "code",
   "execution_count": 229,
   "id": "0be6630b-93b0-4db8-bf2f-5f9d1f2dd5e3",
   "metadata": {
    "execution": {
     "iopub.execute_input": "2024-04-01T21:58:56.321798Z",
     "iopub.status.busy": "2024-04-01T21:58:56.320798Z",
     "iopub.status.idle": "2024-04-01T21:58:56.554805Z",
     "shell.execute_reply": "2024-04-01T21:58:56.553834Z",
     "shell.execute_reply.started": "2024-04-01T21:58:56.321798Z"
    },
    "tags": []
   },
   "outputs": [
    {
     "name": "stdout",
     "output_type": "stream",
     "text": [
      "Topic 1:  ability\n",
      "Topic 2:  ability\n",
      "Topic 3:  ability\n",
      "Topic 4:  ability\n",
      "Topic 5:  ability\n",
      "Topic 6:  ability\n",
      "Topic 7:  ability\n"
     ]
    }
   ],
   "source": [
    "top_n_words_lsa = get_top_n_words(10, lsa_keys, small_document_term_matrix, small_count_vectorizer)\n",
    "\n",
    "for i in range(len(top_n_words_lsa)):\n",
    "    print(\"Topic {}: \".format(i+1), top_n_words_lsa[i])"
   ]
  },
  {
   "cell_type": "code",
   "execution_count": 230,
   "id": "c917e1ec-12d4-4258-a8c3-0992454f18ad",
   "metadata": {
    "execution": {
     "iopub.execute_input": "2024-04-01T21:58:56.556803Z",
     "iopub.status.busy": "2024-04-01T21:58:56.555800Z",
     "iopub.status.idle": "2024-04-01T21:58:56.943803Z",
     "shell.execute_reply": "2024-04-01T21:58:56.942827Z",
     "shell.execute_reply.started": "2024-04-01T21:58:56.556803Z"
    },
    "tags": []
   },
   "outputs": [
    {
     "data": {
      "image/png": "[encoded data removed]",
      "text/plain": [
       "<Figure size 1600x800 with 1 Axes>"
      ]
     },
     "metadata": {},
     "output_type": "display_data"
    }
   ],
   "source": [
    "top_3_words = get_top_n_words(3, lsa_keys, small_document_term_matrix, small_count_vectorizer)\n",
    "labels = ['Topic {}: \\n'.format(i) + top_3_words[i] for i in lsa_categories]\n",
    "\n",
    "fig, ax = plt.subplots(figsize=(16,8))\n",
    "ax.bar(lsa_categories, lsa_counts);\n",
    "ax.set_xticks(lsa_categories);\n",
    "ax.set_xticklabels(labels);\n",
    "ax.set_ylabel('Number of headlines');\n",
    "ax.set_title('LSA topic counts');\n",
    "plt.show()"
   ]
  },
  {
   "cell_type": "code",
   "execution_count": null,
   "id": "af902bf5-bc25-47b4-b8e0-53a5c5c8f61c",
   "metadata": {},
   "outputs": [],
   "source": []
  },
  {
   "cell_type": "code",
   "execution_count": null,
   "id": "81436566-0c69-4c15-b9a0-b9fadefb80b5",
   "metadata": {},
   "outputs": [],
   "source": []
  },
  {
   "cell_type": "code",
   "execution_count": null,
   "id": "d0d10361-dc42-4707-bc8b-d3ec378350fd",
   "metadata": {},
   "outputs": [],
   "source": []
  },
  {
   "cell_type": "code",
   "execution_count": null,
   "id": "c1e0e3ac-c670-430a-94f2-933c162efbe0",
   "metadata": {},
   "outputs": [],
   "source": []
  },
  {
   "cell_type": "code",
   "execution_count": null,
   "id": "44572cdd-e8ef-4af3-827a-b3a13fd87d92",
   "metadata": {
    "tags": []
   },
   "outputs": [],
   "source": [
    "plt.figure(figsize=(9,4))\n",
    "sns.lineplot(y=date_df['number_of_tokens'], x=date_df['pub_date'], hue=pd.to_datetime(date_df['pub_date']).dt.year)\n",
    "sns.lineplot(y=date_df['number_of_tokens'].rolling(360).mean(), x=date_df['pub_date'])\n",
    "plt.title('Number of abstract tokens per day');"
   ]
  },
  {
   "cell_type": "code",
   "execution_count": null,
   "id": "a87b6a21-d720-434c-9390-1c8f4f4063a3",
   "metadata": {
    "tags": []
   },
   "outputs": [],
   "source": [
    "plt.figure(figsize=(9,4))\n",
    "sns.lineplot(y=date_df['unique_tokens'], x=date_df['pub_date'], hue=pd.to_datetime(date_df['pub_date']).dt.year)\n",
    "sns.lineplot(y=date_df['unique_tokens'].rolling(360).mean(), x=date_df['pub_date'])\n",
    "plt.title('Number of unique abstract tokens per day');"
   ]
  },
  {
   "cell_type": "code",
   "execution_count": null,
   "id": "34708032-fbe3-4274-87af-35347f564505",
   "metadata": {
    "tags": []
   },
   "outputs": [],
   "source": [
    "# Plot the line graph representing lexical diversity over time\n",
    "plt.figure(figsize=(9, 4))\n",
    "sns.lineplot(y=date_df['unique_tokens'] / date_df['number_of_tokens'], \n",
    "             x=date_df['pub_date'], \n",
    "             hue=pd.to_datetime(date_df['pub_date']).dt.year)\n",
    "\n",
    "# Plot a rolling mean of lexical diversity for smoothing\n",
    "sns.lineplot(y=(date_df['unique_tokens'] / date_df['number_of_tokens']).rolling(360).mean(), \n",
    "             x=date_df['pub_date'])\n",
    "\n",
    "# Set ylabel and title for the plot\n",
    "plt.ylabel(\"Lexical diversity\")\n",
    "plt.title('Lexical diversity per day')"
   ]
  },
  {
   "cell_type": "code",
   "execution_count": null,
   "id": "c05addd1-ee1f-4ba5-b61e-3e8918f9e5de",
   "metadata": {
    "tags": []
   },
   "outputs": [],
   "source": [
    "# Create the scatter plot\n",
    "plt.figure(figsize=(10, 6)) \n",
    "sns.scatterplot(x=date_df['number_of_papers'], \n",
    "                y=date_df['number_of_tokens'], \n",
    "                hue=pd.to_datetime(date_df['pub_date']).dt.year,\n",
    "                palette='viridis')  \n",
    "\n",
    "# Set plot title and labels\n",
    "plt.title('Number of Papers vs. Number of Tokens Over Time')\n",
    "plt.xlabel('Number of Papers')\n",
    "plt.ylabel('Number of Tokens')\n",
    "plt.legend(title='Year', loc='upper left')\n",
    "plt.grid(True)  \n",
    "plt.tight_layout()\n",
    "plt.show()"
   ]
  },
  {
   "cell_type": "code",
   "execution_count": null,
   "id": "cce226a2-a964-4d03-a702-e99980c07cca",
   "metadata": {
    "tags": []
   },
   "outputs": [],
   "source": [
    "sns.boxplot(x=date_df['number_of_tokens'] / date_df['number_of_papers'],y=(pd.to_datetime(date_df['pub_date']).dt.year).astype('category'))\n"
   ]
  },
  {
   "cell_type": "code",
   "execution_count": null,
   "id": "ffcd669b-4217-4596-b8d0-862edc69facf",
   "metadata": {
    "tags": []
   },
   "outputs": [],
   "source": [
    "sns.histplot(date_df['number_of_tokens'] / date_df['number_of_papers'])"
   ]
  },
  {
   "cell_type": "code",
   "execution_count": null,
   "id": "31e83104-040f-43a6-a5fc-6090710b1b30",
   "metadata": {},
   "outputs": [],
   "source": []
  },
  {
   "cell_type": "markdown",
   "id": "206ce29a-ed7e-4219-9be0-0e214f82f7e6",
   "metadata": {},
   "source": [
    "### Creating Word Vectors"
   ]
  },
  {
   "cell_type": "code",
   "execution_count": null,
   "id": "f554f0db-6a18-4570-8a19-f23e0a768cc1",
   "metadata": {
    "tags": []
   },
   "outputs": [],
   "source": [
    "from sklearn.feature_extraction.text import CountVectorizer\n",
    "from collections import Counter"
   ]
  },
  {
   "cell_type": "code",
   "execution_count": null,
   "id": "14fc6ce4-72f0-4c55-91da-89960b227bbf",
   "metadata": {
    "tags": []
   },
   "outputs": [],
   "source": [
    "start_time = time.time()\n",
    "#### turn the text strings into token vectors\n",
    "#### but only if a token appears in at least 500 documents \n",
    "count_text_vectorizer = CountVectorizer(min_df=500, ngram_range=(1,2))\n",
    "count_text_vectors = count_text_vectorizer.fit_transform(date_df['cleaned_text'])\n",
    "\n",
    "print(time.time()-start_time)\n",
    "\n",
    "print(f\"Shape: {count_text_vectors.shape}\\n\")\n",
    "count_text_vectorizer.get_feature_names_out()"
   ]
  },
  {
   "cell_type": "code",
   "execution_count": null,
   "id": "5dcfb152-551b-4669-8138-ef51ef7011fb",
   "metadata": {
    "tags": []
   },
   "outputs": [],
   "source": [
    "date_df = pd.concat([date_df,pd.DataFrame(count_text_vectors.toarray(), columns=count_text_vectorizer.get_feature_names_out())],axis=1)\n",
    "\n",
    "print(time.time()-start_time)"
   ]
  },
  {
   "cell_type": "code",
   "execution_count": null,
   "id": "2a5e37dc-a09a-42b0-b385-64966179012b",
   "metadata": {
    "tags": []
   },
   "outputs": [],
   "source": [
    "date_df"
   ]
  },
  {
   "cell_type": "code",
   "execution_count": null,
   "id": "392f18e3-334a-4c3f-8986-b298a1d0acd7",
   "metadata": {
    "tags": []
   },
   "outputs": [],
   "source": [
    "#plt.figure(figsize=(9,4))\n",
    "#token_list = ['llm', 'recurrent', 'optimize', 'optimal', 'cnn', 'rnn', 'neighbor',\n",
    "#             'architecture', 'lstm', 'transfer', 'transformer', 'quantum', 'learn', #'language',\n",
    "#             'large', 'cpu', 'gpu', 'nvidia', 'intel', 'cryptocurrency','chatgpt', 'turing']\n",
    "#for i in token_list:\n",
    "#    sns.lineplot(x=date_df['pub_date'], y=(date_df[i] / date_df['number_of_papers']).rolling(360).mean() / date_df[i].max(), alpha=0.7)\n",
    "##plt.title('Use of the word \"neural\"')\n",
    "##plt.axhline(3, ls='--')\n",
    "##plt.legend(token_list)"
   ]
  },
  {
   "cell_type": "code",
   "execution_count": null,
   "id": "5dda588d-b08d-4833-adc2-6b97b8a6140f",
   "metadata": {},
   "outputs": [],
   "source": []
  },
  {
   "cell_type": "code",
   "execution_count": null,
   "id": "7c6b6a7b-eab1-4b28-9e30-24ceb813f36b",
   "metadata": {
    "tags": []
   },
   "outputs": [],
   "source": [
    "def common_token_counter(clean_string):\n",
    "    return [j for j,k in Counter(clean_string.split()).most_common(50)]"
   ]
  },
  {
   "cell_type": "code",
   "execution_count": null,
   "id": "fafa4a62-3527-4d23-a3d7-2260311e302e",
   "metadata": {
    "tags": []
   },
   "outputs": [],
   "source": [
    "top_tokens_list = Counter(\" \".join([i for i in date_df['cleaned_text'].apply(common_token_counter).str.join(sep=' ')]).split())\n",
    "\n",
    "print(f\"Number of total tokens: {len(top_tokens_list)}\")"
   ]
  },
  {
   "cell_type": "code",
   "execution_count": null,
   "id": "c4c547a7-8bef-445d-9147-1bb54dfefed0",
   "metadata": {
    "tags": []
   },
   "outputs": [],
   "source": [
    "drop_list = ['pub_date','cleaned_text','number_of_papers','number_of_tokens','unique_tokens']\n",
    "date_df.drop(columns=drop_list).sum().sort_values(ascending=False)[0:1000].index"
   ]
  },
  {
   "cell_type": "code",
   "execution_count": null,
   "id": "d764fe82-7f4a-43ae-a413-99637da913b8",
   "metadata": {
    "tags": []
   },
   "outputs": [],
   "source": [
    "plt.figure(figsize=(12,9))\n",
    "token_list = date_df.drop(columns=drop_list).sum().sort_values(ascending=False)[0:3000].index\n",
    "\n",
    "for i in token_list:\n",
    "    try:\n",
    "#        sns.lineplot(x=date_df['pub_date'], y=(date_df[i] / date_df['number_of_papers']).rolling(360).mean()*100, alpha=0.3)\n",
    "        sns.lineplot(x=date_df['pub_date'], y=(date_df[i] / date_df['number_of_papers'] / date_df[i].max()).rolling(360).mean().rolling(180).mean(), linewidth=0.3,)\n",
    "    except:\n",
    "        pass"
   ]
  },
  {
   "cell_type": "code",
   "execution_count": null,
   "id": "3357488e-9cf9-46e2-bcdd-2b68b268c9c7",
   "metadata": {},
   "outputs": [],
   "source": []
  },
  {
   "cell_type": "code",
   "execution_count": null,
   "id": "ef7fcb75-f5db-4c02-a5d4-1c2dfbd4a25c",
   "metadata": {
    "tags": []
   },
   "outputs": [],
   "source": [
    "drop_list = ['pub_date','cleaned_text','number_of_papers','number_of_tokens','unique_tokens']\n",
    "\n",
    "\n",
    "df_dict = {}\n",
    "for col in date_df.drop(columns=drop_list).columns:\n",
    "    df_dict[col] = (date_df[col] / date_df['number_of_papers']).rolling(360).mean().rolling(180).mean() / date_df[col].max()\n",
    "\n",
    "moving_avg_df = pd.concat([date_df['pub_date'], pd.DataFrame(df_dict)], axis=1)[538:].reset_index(drop=True)\n",
    "moving_avg_df = moving_avg_df.rename(columns={'pub_date': 'ds'})"
   ]
  },
  {
   "cell_type": "code",
   "execution_count": null,
   "id": "734715a6-0d7a-45cc-b4a3-68ef2ffb1b13",
   "metadata": {
    "tags": []
   },
   "outputs": [],
   "source": [
    "moving_avg_df"
   ]
  },
  {
   "cell_type": "code",
   "execution_count": null,
   "id": "eea42cfb-d9cf-4214-a93f-d254cd9109a1",
   "metadata": {},
   "outputs": [],
   "source": []
  },
  {
   "cell_type": "code",
   "execution_count": null,
   "id": "b12d82b1-5fdb-4550-8923-46b817d048fa",
   "metadata": {
    "tags": []
   },
   "outputs": [],
   "source": [
    "#date_df.to_csv('lemmatized_date_df.csv', index=False)\n",
    "#moving_avg_df.to_csv('lemmatized_moving_avg_df.csv', index=False)"
   ]
  },
  {
   "cell_type": "code",
   "execution_count": null,
   "id": "3d94c7d4-8836-4b54-b09f-d429f9556203",
   "metadata": {
    "tags": []
   },
   "outputs": [],
   "source": [
    "#https://stackoverflow.com/questions/45143450/how-to-fit-polynomial-to-a-time-series-data-in-python\n",
    "plt.figure(figsize=(12,9))\n",
    "x = [i for i in range(len(moving_avg_df))]\n",
    "\n",
    "for word in moving_avg_df.drop(columns=['ds']).columns[:500]:\n",
    "    y = moving_avg_df[word]\n",
    "    \n",
    "    curve = np.polyfit(x,y*1000, deg=7)\n",
    "    #print(curve)\n",
    "    p = np.poly1d( curve )\n",
    "    sns.lineplot(x=x,y= p(x), alpha=0.3)"
   ]
  },
  {
   "cell_type": "code",
   "execution_count": null,
   "id": "669cb4a2-3363-4377-939b-30709d3239fc",
   "metadata": {
    "tags": []
   },
   "outputs": [],
   "source": [
    "plt.figure(figsize=(8,4))\n",
    "x = [i for i in range(len(moving_avg_df))]\n",
    "\n",
    "for word in ['llm', 'recurrent', 'optimize', 'optimal', 'cnn', 'rnn', 'neighbor',\n",
    "#             'architecture', 'lstm', 'transfer', 'transformer', 'quantum', 'learn', #'language',\n",
    "             ]:\n",
    "    y = moving_avg_df[word]\n",
    "    curve = np.polyfit(x,y, deg=7)\n",
    "    #print(curve)\n",
    "    p = np.poly1d( curve )\n",
    "    plt.plot(x,y,p(x))"
   ]
  },
  {
   "cell_type": "code",
   "execution_count": null,
   "id": "a770fa6f-d3b6-4a01-989d-7f10ca8dcd7c",
   "metadata": {
    "tags": []
   },
   "outputs": [],
   "source": [
    "plt.figure(figsize=(12,9))\n",
    "x = [i for i in range(len(moving_avg_df))]\n",
    "polynomial_dict = {}\n",
    "\n",
    "for word in moving_avg_df.drop(columns=['ds']).columns:\n",
    "    y = moving_avg_df[word]*1000\n",
    "    polynomial_dict[word] = np.polyfit(x,y, deg=7)"
   ]
  },
  {
   "cell_type": "code",
   "execution_count": null,
   "id": "a3f705f2-2410-47ea-a34e-a85ae911dbe8",
   "metadata": {
    "tags": []
   },
   "outputs": [],
   "source": [
    "polynomial_df = pd.DataFrame(polynomial_dict).T.reset_index().rename(columns = {'index':'token', 0:'deg7', 1:'deg6', 2:'deg5', 3:'deg4',\n",
    "                                                 4:'deg3', 5:'deg2', 6:'deg1', 7:'y_int'})"
   ]
  },
  {
   "cell_type": "code",
   "execution_count": null,
   "id": "d486d4de-5786-4e50-9139-ea55853464a6",
   "metadata": {
    "tags": []
   },
   "outputs": [],
   "source": [
    "sns.histplot(polynomial_df['y_int'])"
   ]
  },
  {
   "cell_type": "code",
   "execution_count": null,
   "id": "0ad6b8a2-1899-4e52-987f-481ea631c820",
   "metadata": {
    "tags": []
   },
   "outputs": [],
   "source": [
    "polynomial_df"
   ]
  },
  {
   "cell_type": "code",
   "execution_count": null,
   "id": "e310fb58-f6f3-475d-9fc0-3517b14d95d8",
   "metadata": {
    "tags": []
   },
   "outputs": [],
   "source": [
    "len(polynomial_df['positive_slope'])"
   ]
  },
  {
   "cell_type": "code",
   "execution_count": null,
   "id": "1a9804e8-b5b7-4487-a34d-3d38417c1090",
   "metadata": {},
   "outputs": [],
   "source": []
  },
  {
   "cell_type": "markdown",
   "id": "ad4b073f-fad7-4e14-9789-bedb5acc7a41",
   "metadata": {},
   "source": [
    "### KNeighbors Clustering based on polynomial curves"
   ]
  },
  {
   "cell_type": "code",
   "execution_count": null,
   "id": "9005db30-235e-4f5a-a10b-7d0cd299a185",
   "metadata": {
    "tags": []
   },
   "outputs": [],
   "source": [
    "polynomial_df['positive_slope'] = polynomial_df['deg1'] > 0"
   ]
  },
  {
   "cell_type": "code",
   "execution_count": null,
   "id": "f56258b9-f1b8-4645-8454-e0232e32ee51",
   "metadata": {
    "tags": []
   },
   "outputs": [],
   "source": [
    "sns.pairplot(polynomial_df, hue='positive_slope')"
   ]
  },
  {
   "cell_type": "markdown",
   "id": "4e9ba8d0-00b8-4c94-834f-3588f7ecefab",
   "metadata": {},
   "source": [
    "### KMeans Clustering"
   ]
  },
  {
   "cell_type": "code",
   "execution_count": null,
   "id": "007ced94-2d0d-4cbf-b74a-80692fe225c5",
   "metadata": {
    "tags": []
   },
   "outputs": [],
   "source": [
    "from sklearn.neighbors import NearestNeighbors\n",
    "from sklearn.cluster import KMeans\n",
    "from sklearn.preprocessing import StandardScaler, RobustScaler, QuantileTransformer, MaxAbsScaler, PowerTransformer, Normalizer"
   ]
  },
  {
   "cell_type": "code",
   "execution_count": null,
   "id": "497eb241-f748-4c11-bcdf-ba4dba455163",
   "metadata": {
    "tags": []
   },
   "outputs": [],
   "source": [
    "X = polynomial_df.drop(columns=['token', 'positive_slope'])\n",
    "\n",
    "sc = QuantileTransformer()\n",
    "X_sc = sc.fit_transform(X)\n",
    "pd.DataFrame(X_sc, columns = X.columns)"
   ]
  },
  {
   "cell_type": "code",
   "execution_count": null,
   "id": "4fc71126-51b5-4e19-9b15-ea2351bf23f8",
   "metadata": {
    "tags": []
   },
   "outputs": [],
   "source": [
    "1 / np.log(np.abs(X)) * np.sign(X)"
   ]
  },
  {
   "cell_type": "code",
   "execution_count": null,
   "id": "b9c52c8e-36fc-4d23-9e04-b2d27576813b",
   "metadata": {
    "tags": []
   },
   "outputs": [],
   "source": [
    "sns.pairplot(pd.concat([pd.DataFrame(X_sc, columns = X.columns), polynomial_df['positive_slope']], axis=1), hue='positive_slope')"
   ]
  },
  {
   "cell_type": "code",
   "execution_count": null,
   "id": "32cc0486-9ea5-47a3-a581-781ec790cf4c",
   "metadata": {
    "tags": []
   },
   "outputs": [],
   "source": [
    "k_clusters = KMeans(n_clusters=7,)\n",
    "\n",
    "k_clusters.fit(X_sc)"
   ]
  },
  {
   "cell_type": "code",
   "execution_count": null,
   "id": "7781278c-f76d-4fe5-8835-53f13c5f6a41",
   "metadata": {
    "tags": []
   },
   "outputs": [],
   "source": [
    "k_clusters.labels_"
   ]
  },
  {
   "cell_type": "code",
   "execution_count": null,
   "id": "c26b7005-0758-426e-8dd4-d035636a719f",
   "metadata": {
    "tags": []
   },
   "outputs": [],
   "source": [
    "polynomial_df['cluster'] = k_clusters.labels_"
   ]
  },
  {
   "cell_type": "code",
   "execution_count": null,
   "id": "a958147b-7503-4950-8593-78c5257f6442",
   "metadata": {
    "tags": []
   },
   "outputs": [],
   "source": [
    "polynomial_df"
   ]
  },
  {
   "cell_type": "code",
   "execution_count": null,
   "id": "8bbd79d5-61eb-4fab-ae8c-74652e17a00e",
   "metadata": {
    "tags": []
   },
   "outputs": [],
   "source": [
    "#plt.figure(figsize=(32,32))\n",
    "sns.pairplot(polynomial_df.drop(columns=['token']), hue='cluster')\n",
    "#plt.savefig(\"clustered_pairplot2.png\")"
   ]
  },
  {
   "cell_type": "code",
   "execution_count": null,
   "id": "9ab5bde5-2442-4e0a-b6c7-f154a3650339",
   "metadata": {
    "tags": []
   },
   "outputs": [],
   "source": [
    "cluster_dict = {}\n",
    "for i in range(len(neighbors_df)):\n",
    "    cluster_dict[neighbors_df['unique_id'][i]] = neighbors_df['cluster'][i]"
   ]
  },
  {
   "cell_type": "code",
   "execution_count": null,
   "id": "88f20796-f654-464a-ad4b-1ea02e422fd6",
   "metadata": {
    "tags": []
   },
   "outputs": [],
   "source": [
    "#temp_df = polynomial_df[polynomial_df['cluster']==0][['deg7','deg6','deg5','deg4','deg3','deg2','deg1','y_int']].reset_index(drop=True)\n",
    "plt.figure(figsize=(12,9))\n",
    "x = [i for i in range(len(moving_avg_df))]\n",
    "\n",
    "for word in polynomial_df[polynomial_df['cluster']==6]['token']:\n",
    "    y = moving_avg_df[word]\n",
    "    \n",
    "    curve = np.polyfit(x,y*1000, deg=2)\n",
    "    p = np.poly1d( curve )\n",
    "    sns.lineplot(x=x,y= p(x), linewidth=0.1, color='black')\n"
   ]
  },
  {
   "cell_type": "code",
   "execution_count": null,
   "id": "90eb1ac5-75ff-4a10-b14f-9af6d28fa7f0",
   "metadata": {
    "tags": []
   },
   "outputs": [],
   "source": [
    "integral_dict = {}"
   ]
  },
  {
   "cell_type": "code",
   "execution_count": null,
   "id": "330ea62d-9fc5-4f6c-b96b-07e5095ead4a",
   "metadata": {
    "tags": []
   },
   "outputs": [],
   "source": [
    "%%time\n",
    "\n",
    "#for token in moving_avg_df.drop(columns=['ds']).columns[7000:]:\n",
    "#    integral_dict[token] = [sum(np.abs(moving_avg_df[token] - moving_avg_df[word])) for word in moving_avg_df.drop(columns=['ds']).columns]\n"
   ]
  },
  {
   "cell_type": "code",
   "execution_count": null,
   "id": "db6da451-b592-4cb0-bbaf-b95cf1b1c037",
   "metadata": {
    "tags": []
   },
   "outputs": [],
   "source": [
    "limited_df = moving_avg_df[:-392]"
   ]
  },
  {
   "cell_type": "code",
   "execution_count": null,
   "id": "fc6f2ef2-6142-4cda-be2b-7645c73a3cbd",
   "metadata": {
    "tags": []
   },
   "outputs": [],
   "source": [
    "%%time\n",
    "#limited_integral_dict = {}\n",
    "for token in moving_avg_df.drop(columns=['ds']).columns[8000:]:\n",
    "    limited_integral_dict[token] = [sum(np.abs(limited_df[token] - limited_df[word])) for word in limited_df.drop(columns=['ds']).columns]\n"
   ]
  },
  {
   "cell_type": "code",
   "execution_count": null,
   "id": "5e1a2143-2285-414b-9ebe-986ec50a6c8f",
   "metadata": {
    "tags": []
   },
   "outputs": [],
   "source": [
    "pd.DataFrame(limited_integral_dict).to_csv('limited_integral_df.csv', index=False)"
   ]
  },
  {
   "cell_type": "code",
   "execution_count": null,
   "id": "9874fb46-f7ad-43fc-beb3-7f010fecf798",
   "metadata": {
    "tags": []
   },
   "outputs": [],
   "source": [
    "%%time\n",
    "\n",
    "#for token in moving_avg_df.drop(columns=['ds']).columns[0:10]:\n",
    "#    limited_integral_dict[token] = [sum(np.abs(moving_avg_df[token] - moving_avg_df[word])) for word in moving_avg_df.drop(columns=['ds']).columns]\n"
   ]
  },
  {
   "cell_type": "code",
   "execution_count": null,
   "id": "95df65d3-003d-4aa9-8613-10e0952c13ea",
   "metadata": {
    "tags": []
   },
   "outputs": [],
   "source": [
    "#pd.DataFrame(integral_dict).to_csv('integral_dict.csv', index=False)"
   ]
  },
  {
   "cell_type": "code",
   "execution_count": null,
   "id": "a63550db-2afd-41d4-a21a-5c05d2c721cb",
   "metadata": {
    "tags": []
   },
   "outputs": [],
   "source": [
    "#integral_df = pd.DataFrame(integral_dict)\n",
    "limited_integral_df = pd.read_csv('limited_integral_df.csv')\n",
    "integral_df = pd.read_csv('integral_dict.csv')\n",
    "moving_avg_df = pd.read_csv('lemmatized_moving_avg_df.csv')\n",
    "\n",
    "limited_integral_df"
   ]
  },
  {
   "cell_type": "code",
   "execution_count": null,
   "id": "e0e9db89-4fd7-4058-a776-9bd46085678f",
   "metadata": {
    "tags": []
   },
   "outputs": [],
   "source": [
    "from sklearn.cluster import KMeans"
   ]
  },
  {
   "cell_type": "code",
   "execution_count": null,
   "id": "8b708b40-9a66-41c0-800a-6bec2eea4f9f",
   "metadata": {
    "tags": []
   },
   "outputs": [],
   "source": [
    "X = limited_integral_df\n",
    "\n",
    "k_cluster_model = KMeans(n_clusters=50)\n",
    "k_cluster_model.fit(X)\n",
    "\n",
    "limited_integral_df['original_tokens'] = limited_integral_df.columns\n",
    "limited_integral_df['k_cluster'] = k_cluster_model.labels_"
   ]
  },
  {
   "cell_type": "code",
   "execution_count": null,
   "id": "f1f2078a-4898-4656-ad6f-983b4890e19b",
   "metadata": {
    "tags": []
   },
   "outputs": [],
   "source": [
    "cluster_num = 35\n",
    "#print([i for i in integral_df[integral_df['k_cluster']==cluster_num]['original_tokens']])\n",
    "moving_avg_df[limited_integral_df[limited_integral_df['k_cluster']==cluster_num]['original_tokens']].plot.line(legend=False, linewidth=0.3)#, ylim=(0,.003))\n",
    "moving_avg_df[limited_integral_df[limited_integral_df['k_cluster']==cluster_num]['original_tokens']].mean(axis=1).plot.line(color='blue', linestyle='-')#ylim=(0,.003))\n",
    "plt.show()\n",
    "print([i for i in limited_integral_df[limited_integral_df['k_cluster']==cluster_num]['original_tokens']])"
   ]
  },
  {
   "cell_type": "code",
   "execution_count": null,
   "id": "41725114-1fc8-472c-a3b6-63a6f3666f10",
   "metadata": {
    "tags": []
   },
   "outputs": [],
   "source": [
    "plt.figure(figsize=(12,8))\n",
    "for i in range(0,50):\n",
    "    moving_avg_df[limited_integral_df[limited_integral_df['k_cluster']==i]['original_tokens']].mean(axis=1).plot.line()"
   ]
  },
  {
   "cell_type": "code",
   "execution_count": null,
   "id": "49f6f817-ca97-43d8-b97e-133b82be3716",
   "metadata": {
    "tags": []
   },
   "outputs": [],
   "source": [
    "#!pip install yellowbrick"
   ]
  },
  {
   "cell_type": "code",
   "execution_count": null,
   "id": "6e59c8e2-07a1-44da-b8f0-19263d6a6977",
   "metadata": {
    "tags": []
   },
   "outputs": [],
   "source": [
    "from yellowbrick.cluster import KElbowVisualizer, InterclusterDistance, SilhouetteVisualizer"
   ]
  },
  {
   "cell_type": "code",
   "execution_count": null,
   "id": "741841cf-83a1-4a01-9826-169c18cf60af",
   "metadata": {
    "tags": []
   },
   "outputs": [],
   "source": [
    "%%time\n",
    "visualization = KElbowVisualizer(estimator=k_cluster_model,k=(2,20))\n",
    "\n",
    "visualization.fit(X)"
   ]
  },
  {
   "cell_type": "code",
   "execution_count": null,
   "id": "efbb7f73-5458-470f-bfe6-98d2b100ba4e",
   "metadata": {
    "tags": []
   },
   "outputs": [],
   "source": [
    "visualization.show()"
   ]
  },
  {
   "cell_type": "code",
   "execution_count": null,
   "id": "e1a553ae-a459-4582-a263-4b96d361dfee",
   "metadata": {
    "tags": []
   },
   "outputs": [],
   "source": [
    "intercluster_vis = InterclusterDistance(KMeans(25))\n",
    "intercluster_vis.fit(X)"
   ]
  },
  {
   "cell_type": "code",
   "execution_count": null,
   "id": "0a3f18a1-a9c2-42e1-86a4-6e34bfd89af9",
   "metadata": {
    "tags": []
   },
   "outputs": [],
   "source": [
    "silhouette_vis = SilhouetteVisualizer(KMeans(20))\n",
    "\n",
    "silhouette_vis.fit(X)"
   ]
  },
  {
   "cell_type": "code",
   "execution_count": null,
   "id": "b4dab713-8fc0-48c1-aa82-9c9922114150",
   "metadata": {
    "tags": []
   },
   "outputs": [],
   "source": [
    "#integral_df.to_csv('integral_cluster_all_data.csv')\n",
    "limited_integral_df.to_csv('integral_cluster_limited_data.csv')"
   ]
  },
  {
   "cell_type": "code",
   "execution_count": null,
   "id": "fef04f9f-6713-4b54-9fcd-5c6b2559ba57",
   "metadata": {
    "tags": []
   },
   "outputs": [],
   "source": [
    "limited_integral_df['original_tokens'] =  limited_integral_df['original_tokens'].str.replace(' ','.')\n",
    "limited_integral_df[['original_tokens','k_cluster']].to_csv('limited_integral_cluster_labels.csv', index=False)"
   ]
  },
  {
   "cell_type": "code",
   "execution_count": null,
   "id": "7b139d01-ebd6-434e-9ffb-35917aa195c4",
   "metadata": {
    "tags": []
   },
   "outputs": [],
   "source": [
    "limited_integral_df['original_tokens']"
   ]
  },
  {
   "cell_type": "code",
   "execution_count": null,
   "id": "64eb26bc-a480-44ec-b68e-e643e1633cb4",
   "metadata": {},
   "outputs": [],
   "source": []
  },
  {
   "cell_type": "code",
   "execution_count": null,
   "id": "646efbe5-d16e-4688-b35b-a8bbe54796a5",
   "metadata": {},
   "outputs": [],
   "source": []
  },
  {
   "cell_type": "code",
   "execution_count": null,
   "id": "3339c2f9-dcf1-4019-b405-48df059715f2",
   "metadata": {},
   "outputs": [],
   "source": []
  },
  {
   "cell_type": "code",
   "execution_count": null,
   "id": "91f2fc67-4fdd-4588-89b4-ab4cae9d815f",
   "metadata": {},
   "outputs": [],
   "source": []
  },
  {
   "cell_type": "code",
   "execution_count": null,
   "id": "574fb460-4eb3-42fb-a923-0abc48bb0c00",
   "metadata": {},
   "outputs": [],
   "source": []
  },
  {
   "cell_type": "code",
   "execution_count": null,
   "id": "8c6bdfce-96c7-4274-8efe-5931a5cee8cc",
   "metadata": {},
   "outputs": [],
   "source": []
  },
  {
   "cell_type": "code",
   "execution_count": null,
   "id": "65976311-3b41-4377-968b-527d28001123",
   "metadata": {},
   "outputs": [],
   "source": []
  },
  {
   "cell_type": "code",
   "execution_count": null,
   "id": "f1f8e57b-6567-4842-8784-38d933a6ab8f",
   "metadata": {},
   "outputs": [],
   "source": []
  },
  {
   "cell_type": "code",
   "execution_count": null,
   "id": "03cd9f00-d5d2-4c58-b140-01e6a90f9aa5",
   "metadata": {},
   "outputs": [],
   "source": []
  },
  {
   "cell_type": "code",
   "execution_count": null,
   "id": "367e6eaf-5de3-4e51-8a6b-91e70c86c03d",
   "metadata": {},
   "outputs": [],
   "source": []
  },
  {
   "cell_type": "code",
   "execution_count": null,
   "id": "43946c38-ae23-4761-a998-04c5a8870e5e",
   "metadata": {},
   "outputs": [],
   "source": []
  },
  {
   "cell_type": "code",
   "execution_count": null,
   "id": "009bfcea-f95f-4d3a-82da-0b5564f0b7f6",
   "metadata": {},
   "outputs": [],
   "source": []
  },
  {
   "cell_type": "code",
   "execution_count": null,
   "id": "ee7b60b6-4dad-4051-82c3-c9afda4091c7",
   "metadata": {},
   "outputs": [],
   "source": []
  },
  {
   "cell_type": "code",
   "execution_count": null,
   "id": "13661743-0c7f-4e03-bd2d-6e8279a0d84c",
   "metadata": {},
   "outputs": [],
   "source": []
  }
 ],
 "metadata": {
  "kernelspec": {
   "display_name": "Python 3 (ipykernel)",
   "language": "python",
   "name": "python3"
  },
  "language_info": {
   "codemirror_mode": {
    "name": "ipython",
    "version": 3
   },
   "file_extension": ".py",
   "mimetype": "text/x-python",
   "name": "python",
   "nbconvert_exporter": "python",
   "pygments_lexer": "ipython3",
   "version": "3.10.10"
  }
 },
 "nbformat": 4,
 "nbformat_minor": 5
}
