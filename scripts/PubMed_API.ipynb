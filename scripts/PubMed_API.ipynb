{
 "cells": [
  {
   "cell_type": "code",
   "execution_count": 17,
   "id": "9856b3c5-0d2d-4155-919b-839a2c45d703",
   "metadata": {
    "execution": {
     "iopub.execute_input": "2024-03-06T00:07:54.142160Z",
     "iopub.status.busy": "2024-03-06T00:07:54.141158Z",
     "iopub.status.idle": "2024-03-06T00:07:54.254435Z",
     "shell.execute_reply": "2024-03-06T00:07:54.253434Z",
     "shell.execute_reply.started": "2024-03-06T00:07:54.142160Z"
    },
    "tags": []
   },
   "outputs": [],
   "source": [
    "import os\n",
    "import pandas as pd\n",
    "from metapub import PubMedFetcher\n",
    "from functools import reduce"
   ]
  },
  {
   "cell_type": "code",
   "execution_count": 22,
   "id": "ff59a4bc-cc56-4c23-8c5e-63bf0718c15f",
   "metadata": {
    "execution": {
     "iopub.execute_input": "2024-03-06T00:09:59.875326Z",
     "iopub.status.busy": "2024-03-06T00:09:59.874328Z",
     "iopub.status.idle": "2024-03-06T00:10:00.008855Z",
     "shell.execute_reply": "2024-03-06T00:10:00.005854Z",
     "shell.execute_reply.started": "2024-03-06T00:09:59.875326Z"
    },
    "tags": []
   },
   "outputs": [],
   "source": [
    "def fetch_articles(keyword=None, num_of_articles=None):\n",
    "    os.environ['NCBI_API_KEY'] = 'your_api_key_here'\n",
    "    fetch = PubMedFetcher()\n",
    "\n",
    "    if keyword:\n",
    "        pmids = fetch.pmids_for_query(keyword, retmax=num_of_articles)\n",
    "    else:\n",
    "        # Use a general query to retrieve most recent articles\n",
    "        pmids = fetch.pmids_for_query(\"\", retmax=num_of_articles)\n",
    "\n",
    "    articles = {}\n",
    "    for pmid in pmids:\n",
    "        articles[pmid] = fetch.article_by_pmid(pmid)\n",
    "\n",
    "    data = {\n",
    "        'Title': [articles[pmid].title for pmid in pmids],\n",
    "        'Abstract': [articles[pmid].abstract for pmid in pmids],\n",
    "        'Author': [articles[pmid].authors for pmid in pmids],\n",
    "        'Year': [articles[pmid].year for pmid in pmids],\n",
    "        'Volume': [articles[pmid].volume for pmid in pmids],\n",
    "        'Issue': [articles[pmid].issue for pmid in pmids],\n",
    "        'Journal': [articles[pmid].journal for pmid in pmids],\n",
    "        'Citation': [articles[pmid].citation for pmid in pmids],\n",
    "        'Link': [f\"https://pubmed.ncbi.nlm.nih.gov/{pmid}/\" for pmid in pmids]\n",
    "    }\n",
    "\n",
    "    df = pd.DataFrame(data)\n",
    "    return df"
   ]
  },
  {
   "cell_type": "code",
   "execution_count": 20,
   "id": "11868bc4-f24c-4acc-9cfe-75502ac8ad6b",
   "metadata": {
    "execution": {
     "iopub.execute_input": "2024-03-06T00:09:03.485039Z",
     "iopub.status.busy": "2024-03-06T00:09:03.484039Z",
     "iopub.status.idle": "2024-03-06T00:09:07.110336Z",
     "shell.execute_reply": "2024-03-06T00:09:07.108332Z",
     "shell.execute_reply.started": "2024-03-06T00:09:03.485039Z"
    },
    "tags": []
   },
   "outputs": [
    {
     "data": {
      "text/html": [
       "<div>\n",
       "<style scoped>\n",
       "    .dataframe tbody tr th:only-of-type {\n",
       "        vertical-align: middle;\n",
       "    }\n",
       "\n",
       "    .dataframe tbody tr th {\n",
       "        vertical-align: top;\n",
       "    }\n",
       "\n",
       "    .dataframe thead th {\n",
       "        text-align: right;\n",
       "    }\n",
       "</style>\n",
       "<table border=\"1\" class=\"dataframe\">\n",
       "  <thead>\n",
       "    <tr style=\"text-align: right;\">\n",
       "      <th></th>\n",
       "      <th>Title</th>\n",
       "      <th>Abstract</th>\n",
       "      <th>Author</th>\n",
       "      <th>Year</th>\n",
       "      <th>Volume</th>\n",
       "      <th>Issue</th>\n",
       "      <th>Journal</th>\n",
       "      <th>Citation</th>\n",
       "      <th>Link</th>\n",
       "    </tr>\n",
       "  </thead>\n",
       "  <tbody>\n",
       "    <tr>\n",
       "      <th>0</th>\n",
       "      <td>DNA corona on nanoparticles leads to an enhanc...</td>\n",
       "      <td>Autoimmune and inflammatory diseases are highl...</td>\n",
       "      <td>[Anees F, Montoya DA, Pisetsky DS, Payne CK]</td>\n",
       "      <td>2024</td>\n",
       "      <td>121</td>\n",
       "      <td>11</td>\n",
       "      <td>Proc Natl Acad Sci U S A</td>\n",
       "      <td>Anees F, et al. DNA corona on nanoparticles le...</td>\n",
       "      <td>https://pubmed.ncbi.nlm.nih.gov/38442162/</td>\n",
       "    </tr>\n",
       "    <tr>\n",
       "      <th>1</th>\n",
       "      <td>Exploring the interplay of psychological and b...</td>\n",
       "      <td>Ageing and chronic stress have been linked to ...</td>\n",
       "      <td>[Souza-Talarico JN, Chesak S, Elizalde N, Liu ...</td>\n",
       "      <td>2024</td>\n",
       "      <td>None</td>\n",
       "      <td>None</td>\n",
       "      <td>Stress Health</td>\n",
       "      <td>Souza-Talarico JN, et al. Exploring the interp...</td>\n",
       "      <td>https://pubmed.ncbi.nlm.nih.gov/38442010/</td>\n",
       "    </tr>\n",
       "    <tr>\n",
       "      <th>2</th>\n",
       "      <td>Asperustins A-J: Austocystins with Immunosuppr...</td>\n",
       "      <td>Ten new (</td>\n",
       "      <td>[Chang JL, Gan YT, Zhou YH, Peng XG, Xie ZY, M...</td>\n",
       "      <td>2024</td>\n",
       "      <td>None</td>\n",
       "      <td>None</td>\n",
       "      <td>J Nat Prod</td>\n",
       "      <td>Chang JL, et al. Asperustins A-J: Austocystins...</td>\n",
       "      <td>https://pubmed.ncbi.nlm.nih.gov/38441877/</td>\n",
       "    </tr>\n",
       "  </tbody>\n",
       "</table>\n",
       "</div>"
      ],
      "text/plain": [
       "                                               Title  \\\n",
       "0  DNA corona on nanoparticles leads to an enhanc...   \n",
       "1  Exploring the interplay of psychological and b...   \n",
       "2  Asperustins A-J: Austocystins with Immunosuppr...   \n",
       "\n",
       "                                            Abstract  \\\n",
       "0  Autoimmune and inflammatory diseases are highl...   \n",
       "1  Ageing and chronic stress have been linked to ...   \n",
       "2                                          Ten new (   \n",
       "\n",
       "                                              Author  Year Volume Issue  \\\n",
       "0       [Anees F, Montoya DA, Pisetsky DS, Payne CK]  2024    121    11   \n",
       "1  [Souza-Talarico JN, Chesak S, Elizalde N, Liu ...  2024   None  None   \n",
       "2  [Chang JL, Gan YT, Zhou YH, Peng XG, Xie ZY, M...  2024   None  None   \n",
       "\n",
       "                    Journal  \\\n",
       "0  Proc Natl Acad Sci U S A   \n",
       "1             Stress Health   \n",
       "2                J Nat Prod   \n",
       "\n",
       "                                            Citation  \\\n",
       "0  Anees F, et al. DNA corona on nanoparticles le...   \n",
       "1  Souza-Talarico JN, et al. Exploring the interp...   \n",
       "2  Chang JL, et al. Asperustins A-J: Austocystins...   \n",
       "\n",
       "                                        Link  \n",
       "0  https://pubmed.ncbi.nlm.nih.gov/38442162/  \n",
       "1  https://pubmed.ncbi.nlm.nih.gov/38442010/  \n",
       "2  https://pubmed.ncbi.nlm.nih.gov/38441877/  "
      ]
     },
     "execution_count": 20,
     "metadata": {},
     "output_type": "execute_result"
    }
   ],
   "source": [
    "# Example usage:\n",
    "# For keyword search:\n",
    "df = fetch_articles(keyword=\"IL-6\", num_of_articles=3)\n",
    "df"
   ]
  },
  {
   "cell_type": "code",
   "execution_count": 4,
   "id": "ea62f403-de40-4aa0-a3f1-fc8a642969c7",
   "metadata": {
    "execution": {
     "iopub.execute_input": "2024-03-06T00:01:12.400483Z",
     "iopub.status.busy": "2024-03-06T00:01:12.399483Z",
     "iopub.status.idle": "2024-03-06T00:01:12.501617Z",
     "shell.execute_reply": "2024-03-06T00:01:12.501617Z",
     "shell.execute_reply.started": "2024-03-06T00:01:12.400483Z"
    },
    "tags": []
   },
   "outputs": [],
   "source": [
    "#initialise the keyword to be searched and number of articles to be retrieved\n",
    "\n",
    "keyword=\"sepsis\"\n",
    "num_of_articles=3"
   ]
  },
  {
   "cell_type": "code",
   "execution_count": 5,
   "id": "80dbffac-cb9a-4884-ab27-1d285acf6b44",
   "metadata": {
    "execution": {
     "iopub.execute_input": "2024-03-06T00:01:12.536070Z",
     "iopub.status.busy": "2024-03-06T00:01:12.535072Z",
     "iopub.status.idle": "2024-03-06T00:01:16.172724Z",
     "shell.execute_reply": "2024-03-06T00:01:16.172008Z",
     "shell.execute_reply.started": "2024-03-06T00:01:12.536070Z"
    },
    "tags": []
   },
   "outputs": [],
   "source": [
    "fetch = PubMedFetcher()\n",
    "\n",
    "# get the  PMID for first 3 articles with keyword sepsis\n",
    "pmids = fetch.pmids_for_query(keyword, retmax=num_of_articles)\n",
    "\n",
    "# get  articles\n",
    "articles = {}\n",
    "for pmid in pmids:\n",
    "    articles[pmid] = fetch.article_by_pmid(pmid)"
   ]
  }
 ],
 "metadata": {
  "kernelspec": {
   "display_name": "Python 3 (ipykernel)",
   "language": "python",
   "name": "python3"
  },
  "language_info": {
   "codemirror_mode": {
    "name": "ipython",
    "version": 3
   },
   "file_extension": ".py",
   "mimetype": "text/x-python",
   "name": "python",
   "nbconvert_exporter": "python",
   "pygments_lexer": "ipython3",
   "version": "3.10.10"
  }
 },
 "nbformat": 4,
 "nbformat_minor": 5
}
