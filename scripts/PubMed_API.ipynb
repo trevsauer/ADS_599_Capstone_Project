{
 "cells": [
  {
   "cell_type": "code",
   "execution_count": 32,
   "id": "9856b3c5-0d2d-4155-919b-839a2c45d703",
   "metadata": {
    "execution": {
     "iopub.execute_input": "2024-03-06T00:27:46.119949Z",
     "iopub.status.busy": "2024-03-06T00:27:46.119949Z",
     "iopub.status.idle": "2024-03-06T00:27:46.790517Z",
     "shell.execute_reply": "2024-03-06T00:27:46.789842Z",
     "shell.execute_reply.started": "2024-03-06T00:27:46.119949Z"
    },
    "tags": []
   },
   "outputs": [],
   "source": [
    "import os\n",
    "import pandas as pd\n",
    "from metapub import PubMedFetcher\n",
    "from functools import reduce\n",
    "from Bio import Entrez\n"
   ]
  },
  {
   "cell_type": "code",
   "execution_count": 29,
   "id": "ff59a4bc-cc56-4c23-8c5e-63bf0718c15f",
   "metadata": {
    "execution": {
     "iopub.execute_input": "2024-03-06T00:26:50.324958Z",
     "iopub.status.busy": "2024-03-06T00:26:50.323954Z",
     "iopub.status.idle": "2024-03-06T00:26:50.507078Z",
     "shell.execute_reply": "2024-03-06T00:26:50.506074Z",
     "shell.execute_reply.started": "2024-03-06T00:26:50.324958Z"
    },
    "tags": []
   },
   "outputs": [],
   "source": [
    "def fetch_articles(keyword=None, num_of_articles=None):\n",
    "    os.environ['NCBI_API_KEY'] = '7bcc52edf3bcb7bfc9156aa5d50e573e2309'\n",
    "    fetch = PubMedFetcher()\n",
    "\n",
    "    if keyword:\n",
    "        pmids = fetch.pmids_for_query(keyword, retmax=num_of_articles)\n",
    "\n",
    "        articles = {}\n",
    "        for pmid in pmids:\n",
    "            articles[pmid] = fetch.article_by_pmid(pmid)\n",
    "\n",
    "        data = {\n",
    "            'Title': [articles[pmid].title for pmid in pmids],\n",
    "            'Abstract': [articles[pmid].abstract for pmid in pmids],\n",
    "            'Author': [articles[pmid].authors for pmid in pmids],\n",
    "            'Year': [articles[pmid].year for pmid in pmids],\n",
    "            'Volume': [articles[pmid].volume for pmid in pmids],\n",
    "            'Issue': [articles[pmid].issue for pmid in pmids],\n",
    "            'Journal': [articles[pmid].journal for pmid in pmids],\n",
    "            'Citation': [articles[pmid].citation for pmid in pmids],\n",
    "            'Link': [f\"https://pubmed.ncbi.nlm.nih.gov/{pmid}/\" for pmid in pmids]\n",
    "        }\n",
    "\n",
    "        df = pd.DataFrame(data)\n",
    "        return df\n",
    "    else:\n",
    "        print(\"Please provide a keyword to search for articles.\")\n",
    "        return None"
   ]
  },
  {
   "cell_type": "code",
   "execution_count": 30,
   "id": "11868bc4-f24c-4acc-9cfe-75502ac8ad6b",
   "metadata": {
    "execution": {
     "iopub.execute_input": "2024-03-06T00:26:52.570932Z",
     "iopub.status.busy": "2024-03-06T00:26:52.569921Z",
     "iopub.status.idle": "2024-03-06T00:26:55.360145Z",
     "shell.execute_reply": "2024-03-06T00:26:55.358673Z",
     "shell.execute_reply.started": "2024-03-06T00:26:52.570932Z"
    },
    "tags": []
   },
   "outputs": [
    {
     "data": {
      "text/html": [
       "<div>\n",
       "<style scoped>\n",
       "    .dataframe tbody tr th:only-of-type {\n",
       "        vertical-align: middle;\n",
       "    }\n",
       "\n",
       "    .dataframe tbody tr th {\n",
       "        vertical-align: top;\n",
       "    }\n",
       "\n",
       "    .dataframe thead th {\n",
       "        text-align: right;\n",
       "    }\n",
       "</style>\n",
       "<table border=\"1\" class=\"dataframe\">\n",
       "  <thead>\n",
       "    <tr style=\"text-align: right;\">\n",
       "      <th></th>\n",
       "      <th>Title</th>\n",
       "      <th>Abstract</th>\n",
       "      <th>Author</th>\n",
       "      <th>Year</th>\n",
       "      <th>Volume</th>\n",
       "      <th>Issue</th>\n",
       "      <th>Journal</th>\n",
       "      <th>Citation</th>\n",
       "      <th>Link</th>\n",
       "    </tr>\n",
       "  </thead>\n",
       "  <tbody>\n",
       "    <tr>\n",
       "      <th>0</th>\n",
       "      <td>DNA corona on nanoparticles leads to an enhanc...</td>\n",
       "      <td>Autoimmune and inflammatory diseases are highl...</td>\n",
       "      <td>[Anees F, Montoya DA, Pisetsky DS, Payne CK]</td>\n",
       "      <td>2024</td>\n",
       "      <td>121</td>\n",
       "      <td>11</td>\n",
       "      <td>Proc Natl Acad Sci U S A</td>\n",
       "      <td>Anees F, et al. DNA corona on nanoparticles le...</td>\n",
       "      <td>https://pubmed.ncbi.nlm.nih.gov/38442162/</td>\n",
       "    </tr>\n",
       "    <tr>\n",
       "      <th>1</th>\n",
       "      <td>Exploring the interplay of psychological and b...</td>\n",
       "      <td>Ageing and chronic stress have been linked to ...</td>\n",
       "      <td>[Souza-Talarico JN, Chesak S, Elizalde N, Liu ...</td>\n",
       "      <td>2024</td>\n",
       "      <td>None</td>\n",
       "      <td>None</td>\n",
       "      <td>Stress Health</td>\n",
       "      <td>Souza-Talarico JN, et al. Exploring the interp...</td>\n",
       "      <td>https://pubmed.ncbi.nlm.nih.gov/38442010/</td>\n",
       "    </tr>\n",
       "    <tr>\n",
       "      <th>2</th>\n",
       "      <td>Asperustins A-J: Austocystins with Immunosuppr...</td>\n",
       "      <td>Ten new (</td>\n",
       "      <td>[Chang JL, Gan YT, Zhou YH, Peng XG, Xie ZY, M...</td>\n",
       "      <td>2024</td>\n",
       "      <td>None</td>\n",
       "      <td>None</td>\n",
       "      <td>J Nat Prod</td>\n",
       "      <td>Chang JL, et al. Asperustins A-J: Austocystins...</td>\n",
       "      <td>https://pubmed.ncbi.nlm.nih.gov/38441877/</td>\n",
       "    </tr>\n",
       "  </tbody>\n",
       "</table>\n",
       "</div>"
      ],
      "text/plain": [
       "                                               Title  \\\n",
       "0  DNA corona on nanoparticles leads to an enhanc...   \n",
       "1  Exploring the interplay of psychological and b...   \n",
       "2  Asperustins A-J: Austocystins with Immunosuppr...   \n",
       "\n",
       "                                            Abstract  \\\n",
       "0  Autoimmune and inflammatory diseases are highl...   \n",
       "1  Ageing and chronic stress have been linked to ...   \n",
       "2                                          Ten new (   \n",
       "\n",
       "                                              Author  Year Volume Issue  \\\n",
       "0       [Anees F, Montoya DA, Pisetsky DS, Payne CK]  2024    121    11   \n",
       "1  [Souza-Talarico JN, Chesak S, Elizalde N, Liu ...  2024   None  None   \n",
       "2  [Chang JL, Gan YT, Zhou YH, Peng XG, Xie ZY, M...  2024   None  None   \n",
       "\n",
       "                    Journal  \\\n",
       "0  Proc Natl Acad Sci U S A   \n",
       "1             Stress Health   \n",
       "2                J Nat Prod   \n",
       "\n",
       "                                            Citation  \\\n",
       "0  Anees F, et al. DNA corona on nanoparticles le...   \n",
       "1  Souza-Talarico JN, et al. Exploring the interp...   \n",
       "2  Chang JL, et al. Asperustins A-J: Austocystins...   \n",
       "\n",
       "                                        Link  \n",
       "0  https://pubmed.ncbi.nlm.nih.gov/38442162/  \n",
       "1  https://pubmed.ncbi.nlm.nih.gov/38442010/  \n",
       "2  https://pubmed.ncbi.nlm.nih.gov/38441877/  "
      ]
     },
     "execution_count": 30,
     "metadata": {},
     "output_type": "execute_result"
    }
   ],
   "source": [
    "# Example usage:\n",
    "# For keyword search:\n",
    "df = fetch_articles(keyword=\"IL-6\", num_of_articles=3)\n",
    "df"
   ]
  },
  {
   "cell_type": "code",
   "execution_count": 42,
   "id": "b5725411-f872-4a73-99ca-42af34a7186f",
   "metadata": {
    "execution": {
     "iopub.execute_input": "2024-03-06T00:35:52.368618Z",
     "iopub.status.busy": "2024-03-06T00:35:52.367890Z",
     "iopub.status.idle": "2024-03-06T00:35:53.391195Z",
     "shell.execute_reply": "2024-03-06T00:35:53.390243Z",
     "shell.execute_reply.started": "2024-03-06T00:35:52.368618Z"
    },
    "tags": []
   },
   "outputs": [
    {
     "name": "stdout",
     "output_type": "stream",
     "text": [
      "Search Query: (\"2016/12/20\"[Date - Publication] : \"2024/02/01\"[Date - Publication]) \n",
      "No records found.\n",
      "([], [])\n"
     ]
    }
   ],
   "source": [
    "def article_links(start_date, end_date='3000'):\n",
    "    \"\"\"\n",
    "    start_date, end_date = 'YYYY/MM/DD'\n",
    "    returns a list of PubMedCentral links and a 2nd list of DOI links\n",
    "    \"\"\"\n",
    "    Entrez.email = \"trevsauer@gmail.com\"\n",
    "\n",
    "    # Generate search query\n",
    "    search_query = '(\"%s\"[Date - Publication] : \"%s\"[Date - Publication]) ' % (start_date, end_date)\n",
    "    print(\"Search Query:\", search_query)\n",
    "\n",
    "    # Get all articles in the specified date range\n",
    "    handle = Entrez.esearch(db=\"pubmed\", term=search_query)\n",
    "    records = Entrez.read(handle)\n",
    "    handle.close()\n",
    "\n",
    "    pmc_articles = []\n",
    "    doi = []\n",
    "\n",
    "    # Check if records is a list\n",
    "    if isinstance(records, list):\n",
    "        for record in records:\n",
    "            # Get all PMC articles\n",
    "            if record.get('MedlineCitation'):\n",
    "                if record['MedlineCitation'].get('OtherID'):\n",
    "                    for other_id in record['MedlineCitation']['OtherID']:\n",
    "                        if other_id.title().startswith('Pmc'):\n",
    "                            pmc_articles.append('http://www.ncbi.nlm.nih.gov/pmc/articles/%s/pdf/' % (other_id.title().upper()))\n",
    "\n",
    "            # Get all DOIs\n",
    "            if record.get('PubmedData'):\n",
    "                if record['PubmedData'].get('ArticleIdList'):\n",
    "                    for other_id in record['PubmedData']['ArticleIdList']:\n",
    "                        if 'doi' in other_id.attributes.values():\n",
    "                            doi.append('http://dx.doi.org/' + other_id.title())\n",
    "    else:\n",
    "        print(\"No records found.\")\n",
    "\n",
    "    return pmc_articles, doi\n",
    "\n",
    "if __name__ == '__main__':\n",
    "    print(article_links('2016/12/20', '2024/02/01'))"
   ]
  },
  {
   "cell_type": "code",
   "execution_count": null,
   "id": "ce7da6a7-0664-423c-bd25-39b4317d388c",
   "metadata": {},
   "outputs": [],
   "source": []
  }
 ],
 "metadata": {
  "kernelspec": {
   "display_name": "Python 3 (ipykernel)",
   "language": "python",
   "name": "python3"
  },
  "language_info": {
   "codemirror_mode": {
    "name": "ipython",
    "version": 3
   },
   "file_extension": ".py",
   "mimetype": "text/x-python",
   "name": "python",
   "nbconvert_exporter": "python",
   "pygments_lexer": "ipython3",
   "version": "3.10.10"
  }
 },
 "nbformat": 4,
 "nbformat_minor": 5
}
